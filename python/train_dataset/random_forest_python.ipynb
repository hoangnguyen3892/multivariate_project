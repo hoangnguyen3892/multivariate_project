{
 "cells": [
  {
   "cell_type": "code",
   "execution_count": 1,
   "metadata": {
    "collapsed": false,
    "scrolled": true
   },
   "outputs": [
    {
     "name": "stderr",
     "output_type": "stream",
     "text": [
      "/Users/hoangnguyen/miniconda3/envs/pydata/lib/python3.5/site-packages/sklearn/cross_validation.py:44: DeprecationWarning: This module was deprecated in version 0.18 in favor of the model_selection module into which all the refactored classes and functions are moved. Also note that the interface of the new CV iterators are different from that of this module. This module will be removed in 0.20.\n",
      "  \"This module will be removed in 0.20.\", DeprecationWarning)\n"
     ]
    }
   ],
   "source": [
    "import pandas as pd\n",
    "import seaborn as sns\n",
    "import numpy as np\n",
    "import matplotlib.pyplot as plt\n",
    "import pickle\n",
    "%matplotlib inline\n",
    "pd.options.mode.chained_assignment = None\n",
    "from sklearn.ensemble import RandomForestClassifier\n",
    "from sklearn.model_selection import GridSearchCV\n",
    "from sklearn.cross_validation import cross_val_score\n",
    "from sklearn.metrics import log_loss, make_scorer\n",
    "from sklearn.cross_validation import StratifiedKFold\n",
    "from sklearn import metrics"
   ]
  },
  {
   "cell_type": "markdown",
   "metadata": {
    "collapsed": true
   },
   "source": [
    "# Load data "
   ]
  },
  {
   "cell_type": "code",
   "execution_count": 2,
   "metadata": {
    "collapsed": true
   },
   "outputs": [],
   "source": [
    "with open(\"preprocessed_data.pkl\", \"rb\") as f:\n",
    "    train_data = pickle.load(f)\n",
    "    train_label = pickle.load(f)\n",
    "    label_list = pickle.load(f)"
   ]
  },
  {
   "cell_type": "markdown",
   "metadata": {},
   "source": [
    "# Choose parameters "
   ]
  },
  {
   "cell_type": "code",
   "execution_count": 3,
   "metadata": {
    "collapsed": false
   },
   "outputs": [
    {
     "name": "stdout",
     "output_type": "stream",
     "text": [
      "{'n_estimators': 4500, 'max_features': 'sqrt'}\n"
     ]
    }
   ],
   "source": [
    "# Choose parameters for RandomForest\n",
    "def best_params(train_x, train_y):\n",
    "    rfc = RandomForestClassifier()\n",
    "    param_grid = { \n",
    "        'n_estimators': [4000, 4500],\n",
    "        'max_features': ['auto', 'sqrt', 'log2']\n",
    "    }\n",
    "    \n",
    "    CV_rfc = GridSearchCV(estimator=rfc, param_grid=param_grid, cv= 5)\n",
    "    CV_rfc.fit(train_x, train_y)\n",
    "    return CV_rfc.best_params_\n",
    "\n",
    "print(best_params(train_data.values, train_label.values))"
   ]
  },
  {
   "cell_type": "code",
   "execution_count": 3,
   "metadata": {
    "collapsed": false
   },
   "outputs": [],
   "source": [
    "# RandomForest Classifier \n",
    "rf = RandomForestClassifier(n_estimators=4500, max_features='sqrt').fit(train_data, train_label)\n",
    "importances = rf.feature_importances_"
   ]
  },
  {
   "cell_type": "code",
   "execution_count": 4,
   "metadata": {
    "collapsed": false
   },
   "outputs": [
    {
     "data": {
      "text/plain": [
       "Index(['Age', 'Size', 'HasName_0', 'HasName_1', 'TimeofDay_lateday',\n",
       "       'TimeofDay_midday', 'TimeofDay_morning', 'TimeofDay_night', 'WeekDay_0',\n",
       "       'WeekDay_1', 'WeekDay_2', 'WeekDay_3', 'WeekDay_4', 'WeekDay_5',\n",
       "       'WeekDay_6', 'IsIntact_0.0', 'IsIntact_1.0', 'Sex_Female', 'Sex_Male',\n",
       "       'PureMixHybrid_Hybrid', 'PureMixHybrid_Mix', 'PureMixHybrid_Pure',\n",
       "       'Group_Herding', 'Group_Hound', 'Group_NonSporting', 'Group_PitBull',\n",
       "       'Group_Sporting', 'Group_Terrier', 'Group_Toy', 'Group_Unknown',\n",
       "       'Group_Working', 'IsMixColor_0', 'IsMixColor_1'],\n",
       "      dtype='object')"
      ]
     },
     "execution_count": 4,
     "metadata": {},
     "output_type": "execute_result"
    }
   ],
   "source": [
    "feat_labels = train_data.columns[0:]\n",
    "feat_labels"
   ]
  },
  {
   "cell_type": "code",
   "execution_count": 5,
   "metadata": {
    "collapsed": false
   },
   "outputs": [],
   "source": [
    "#feat_labels[15]"
   ]
  },
  {
   "cell_type": "code",
   "execution_count": 6,
   "metadata": {
    "collapsed": false
   },
   "outputs": [],
   "source": [
    "#importances"
   ]
  },
  {
   "cell_type": "code",
   "execution_count": 7,
   "metadata": {
    "collapsed": false
   },
   "outputs": [],
   "source": [
    "indices = np.argsort(importances)[::-1]"
   ]
  },
  {
   "cell_type": "code",
   "execution_count": 8,
   "metadata": {
    "collapsed": false
   },
   "outputs": [
    {
     "data": {
      "text/plain": [
       "array([ 0,  1, 15, 16, 32, 31,  4,  8, 20, 11, 12, 18, 17, 10,  5,  9,  2,\n",
       "       13,  3, 26, 22, 19, 14, 23, 27, 30, 28, 25, 24, 21,  7,  6, 29])"
      ]
     },
     "execution_count": 8,
     "metadata": {},
     "output_type": "execute_result"
    }
   ],
   "source": [
    "indices"
   ]
  },
  {
   "cell_type": "markdown",
   "metadata": {},
   "source": [
    "# Accuracy and score"
   ]
  },
  {
   "cell_type": "code",
   "execution_count": 9,
   "metadata": {
    "collapsed": false
   },
   "outputs": [],
   "source": [
    "kfold = StratifiedKFold(train_label, n_folds=10, random_state=7)"
   ]
  },
  {
   "cell_type": "code",
   "execution_count": 10,
   "metadata": {
    "collapsed": false
   },
   "outputs": [
    {
     "name": "stdout",
     "output_type": "stream",
     "text": [
      "Accuracy: 54.74% (1.01%)\n"
     ]
    }
   ],
   "source": [
    "results = cross_val_score(rf, train_data, train_label, cv=kfold)\n",
    "print(\"Accuracy: %.2f%% (%.2f%%)\" % (results.mean()*100, results.std()*100))"
   ]
  },
  {
   "cell_type": "code",
   "execution_count": 11,
   "metadata": {
    "collapsed": false
   },
   "outputs": [
    {
     "name": "stdout",
     "output_type": "stream",
     "text": [
      "[-1.83726568 -1.64016397 -1.62400523 -1.61062371 -1.44250171 -1.6899746\n",
      " -1.77653412 -1.4575774  -1.51729334 -1.44444314]\n"
     ]
    }
   ],
   "source": [
    "scores = cross_val_score(rf, train_data, train_label, cv=kfold, scoring='neg_log_loss')\n",
    "print(scores)"
   ]
  },
  {
   "cell_type": "code",
   "execution_count": 12,
   "metadata": {
    "collapsed": false
   },
   "outputs": [
    {
     "name": "stdout",
     "output_type": "stream",
     "text": [
      "Accuracy: -1.58 (+/- 0.25)\n"
     ]
    }
   ],
   "source": [
    "print(\"Accuracy: %0.2f (+/- %0.2f)\" % (scores.mean(), scores.std() * 2))"
   ]
  },
  {
   "cell_type": "code",
   "execution_count": 21,
   "metadata": {
    "collapsed": false
   },
   "outputs": [
    {
     "name": "stderr",
     "output_type": "stream",
     "text": [
      "/Users/hoangnguyen/miniconda3/envs/pydata/lib/python3.5/site-packages/sklearn/metrics/classification.py:1113: UndefinedMetricWarning: Precision is ill-defined and being set to 0.0 in labels with no predicted samples.\n",
      "  'precision', 'predicted', average, warn_for)\n",
      "/Users/hoangnguyen/miniconda3/envs/pydata/lib/python3.5/site-packages/sklearn/metrics/classification.py:1113: UndefinedMetricWarning: Precision is ill-defined and being set to 0.0 in labels with no predicted samples.\n",
      "  'precision', 'predicted', average, warn_for)\n",
      "/Users/hoangnguyen/miniconda3/envs/pydata/lib/python3.5/site-packages/sklearn/metrics/classification.py:1113: UndefinedMetricWarning: Precision is ill-defined and being set to 0.0 in labels with no predicted samples.\n",
      "  'precision', 'predicted', average, warn_for)\n",
      "/Users/hoangnguyen/miniconda3/envs/pydata/lib/python3.5/site-packages/sklearn/metrics/classification.py:1113: UndefinedMetricWarning: Precision is ill-defined and being set to 0.0 in labels with no predicted samples.\n",
      "  'precision', 'predicted', average, warn_for)\n"
     ]
    },
    {
     "name": "stdout",
     "output_type": "stream",
     "text": [
      "[ 0.52645509  0.54549082  0.52455347  0.51615742  0.55467439  0.54066521\n",
      "  0.52491447  0.53848866  0.54492041  0.53999168]\n"
     ]
    }
   ],
   "source": [
    "precision_scores = cross_val_score(rf, train_data, train_label, cv=kfold, scoring='precision_weighted')\n",
    "print(precision_scores)"
   ]
  },
  {
   "cell_type": "code",
   "execution_count": null,
   "metadata": {
    "collapsed": true
   },
   "outputs": [],
   "source": [
    "print(\"Accuracy: %0.2f (+/- %0.2f)\" % (scores2.mean(), scores2.std() * 2))"
   ]
  },
  {
   "cell_type": "code",
   "execution_count": 17,
   "metadata": {
    "collapsed": false
   },
   "outputs": [
    {
     "name": "stdout",
     "output_type": "stream",
     "text": [
      "[ 0.53509337  0.55863402  0.53707286  0.52129032  0.56064516  0.5435765\n",
      "  0.54034861  0.54422208  0.54909561  0.54909561]\n"
     ]
    }
   ],
   "source": [
    "recall_scores = cross_val_score(rf, train_data, train_label, cv=kfold, scoring='recall_micro')\n",
    "print(recall_scores)"
   ]
  },
  {
   "cell_type": "code",
   "execution_count": 22,
   "metadata": {
    "collapsed": false
   },
   "outputs": [
    {
     "name": "stdout",
     "output_type": "stream",
     "text": [
      "Accuracy: 0.54 (+/- 0.02)\n"
     ]
    }
   ],
   "source": [
    "print(\"Accuracy: %0.2f (+/- %0.2f)\" % (recall_scores.mean(), recall_scores.std() * 2))"
   ]
  },
  {
   "cell_type": "markdown",
   "metadata": {},
   "source": [
    "# Feature importances"
   ]
  },
  {
   "cell_type": "code",
   "execution_count": 13,
   "metadata": {
    "collapsed": false
   },
   "outputs": [
    {
     "name": "stdout",
     "output_type": "stream",
     "text": [
      "1. Feature Age: 0.13569171441330616\n",
      "2. Feature Size: 0.0806157091037171\n",
      "3. Feature IsIntact_1.0: 0.06621856431515963\n",
      "4. Feature IsIntact_0.0: 0.06447110388508359\n",
      "5. Feature IsMixColor_1: 0.030240289413741517\n",
      "6. Feature IsMixColor_0: 0.03019073268480744\n",
      "7. Feature TimeofDay_lateday: 0.029701087609007498\n",
      "8. Feature WeekDay_0: 0.026749380591386512\n",
      "9. Feature PureMixHybrid_Mix: 0.026694202609325354\n",
      "10. Feature WeekDay_3: 0.02583108535954118\n",
      "11. Feature WeekDay_4: 0.02577115858478435\n",
      "12. Feature WeekDay_2: 0.025083167051592106\n",
      "13. Feature Sex_Female: 0.024858505738502176\n",
      "14. Feature WeekDay_1: 0.02481588949826444\n",
      "15. Feature Sex_Male: 0.02480757038566265\n",
      "16. Feature TimeofDay_midday: 0.02448949788293688\n",
      "17. Feature HasName_1: 0.024337897255287573\n",
      "18. Feature HasName_0: 0.024209659532374996\n",
      "19. Feature WeekDay_5: 0.02418479524107724\n",
      "20. Feature Group_Sporting: 0.023666306609003443\n",
      "21. Feature Group_Herding: 0.023125640813065784\n",
      "22. Feature PureMixHybrid_Hybrid: 0.023118242257940957\n",
      "23. Feature WeekDay_6: 0.022867789987901115\n",
      "24. Feature Group_Hound: 0.021187279320844556\n",
      "25. Feature Group_Terrier: 0.02094237402361326\n",
      "26. Feature Group_Working: 0.02067570128739879\n",
      "27. Feature Group_Toy: 0.020572072963492435\n",
      "28. Feature Group_PitBull: 0.019689436934064792\n",
      "29. Feature Group_NonSporting: 0.019436689413916942\n",
      "30. Feature PureMixHybrid_Pure: 0.018112307934379002\n",
      "31. Feature TimeofDay_night: 0.01148660013246279\n",
      "32. Feature TimeofDay_morning: 0.010886570895888641\n",
      "33. Feature Group_Unknown: 0.0052709762704691195\n"
     ]
    }
   ],
   "source": [
    "for f in range(train_data.shape[1]):\n",
    "    print(\"{0}. Feature {1}: {2}\".format(f + 1, feat_labels[indices[f]], importances[indices[f]]))\n",
    "#for f in range(train_data.shape[1]):\n",
    "    #print(\"%d. feature %d (%f)\" % (f + 1, indices[f], importances[indices[f]]))"
   ]
  },
  {
   "cell_type": "code",
   "execution_count": 14,
   "metadata": {
    "collapsed": false
   },
   "outputs": [
    {
     "data": {
      "image/png": "[encoded data removed]",
      "text/plain": [
       "<matplotlib.figure.Figure at 0x10b0fafd0>"
      ]
     },
     "metadata": {},
     "output_type": "display_data"
    }
   ],
   "source": [
    "# Plot the feature importances of the forest\n",
    "plt.figure()\n",
    "plt.title(\"Feature importances\")\n",
    "plt.bar(range(train_data.shape[1]), \n",
    "        importances[indices],\n",
    "        color=\"lightblue\", \n",
    "        align=\"center\")\n",
    "#plt.xticks(range(train_data.shape[1]), feat_labels, rotation = 90,fontsize=9)\n",
    "#plt.xticks(range(train_data.shape[1]), feat_labels[indices[f]], rotation = 90,fontsize=9)\n",
    "plt.xticks(range(train_data.shape[1]), feat_labels[indices], rotation = 90,fontsize=9)\n",
    "plt.xlim([-1, train_data.shape[1]])\n",
    "#plt.show() \n",
    "plt.tight_layout(rect=[0,0,1,1], h_pad=0.0)\n",
    "plt.savefig(\"RandomForest_Python_1.png\")"
   ]
  },
  {
   "cell_type": "code",
   "execution_count": 15,
   "metadata": {
    "collapsed": true
   },
   "outputs": [],
   "source": [
    "#train_data.shape[1]"
   ]
  },
  {
   "cell_type": "code",
   "execution_count": 16,
   "metadata": {
    "collapsed": false
   },
   "outputs": [
    {
     "data": {
      "text/plain": [
       "<function matplotlib.pyplot.close>"
      ]
     },
     "execution_count": 16,
     "metadata": {},
     "output_type": "execute_result"
    }
   ],
   "source": [
    "plt.close"
   ]
  },
  {
   "cell_type": "code",
   "execution_count": null,
   "metadata": {
    "collapsed": true
   },
   "outputs": [],
   "source": []
  }
 ],
 "metadata": {
  "kernelspec": {
   "display_name": "Python 3",
   "language": "python",
   "name": "python3"
  },
  "language_info": {
   "codemirror_mode": {
    "name": "ipython",
    "version": 3
   },
   "file_extension": ".py",
   "mimetype": "text/x-python",
   "name": "python",
   "nbconvert_exporter": "python",
   "pygments_lexer": "ipython3",
   "version": "3.5.2"
  }
 },
 "nbformat": 4,
 "nbformat_minor": 1
}
