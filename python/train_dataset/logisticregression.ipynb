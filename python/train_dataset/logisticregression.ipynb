{
 "cells": [
  {
   "cell_type": "code",
   "execution_count": 2,
   "metadata": {
    "collapsed": false,
    "scrolled": true
   },
   "outputs": [
    {
     "name": "stderr",
     "output_type": "stream",
     "text": [
      "/Users/hoangnguyen/miniconda3/envs/pydata/lib/python3.5/site-packages/sklearn/cross_validation.py:44: DeprecationWarning: This module was deprecated in version 0.18 in favor of the model_selection module into which all the refactored classes and functions are moved. Also note that the interface of the new CV iterators are different from that of this module. This module will be removed in 0.20.\n",
      "  \"This module will be removed in 0.20.\", DeprecationWarning)\n",
      "/Users/hoangnguyen/miniconda3/envs/pydata/lib/python3.5/site-packages/sklearn/grid_search.py:43: DeprecationWarning: This module was deprecated in version 0.18 in favor of the model_selection module into which all the refactored classes and functions are moved. This module will be removed in 0.20.\n",
      "  DeprecationWarning)\n"
     ]
    }
   ],
   "source": [
    "import numpy as np\n",
    "import pandas as pd\n",
    "import pickle\n",
    "from sklearn.cross_validation import StratifiedKFold\n",
    "from sklearn.grid_search import GridSearchCV\n",
    "from sklearn.metrics import log_loss, make_scorer\n",
    "from sklearn.linear_model import LogisticRegression\n",
    "from sklearn.linear_model import SGDClassifier\n",
    "from sklearn.datasets import fetch_20newsgroups_vectorized\n",
    "from sklearn.feature_selection import chi2, f_classif\n",
    "from sklearn.cross_validation import cross_val_score\n",
    "from sklearn.metrics import classification_report, accuracy_score,log_loss\n",
    "from sklearn import metrics"
   ]
  },
  {
   "cell_type": "markdown",
   "metadata": {},
   "source": [
    "build function to find optimal n_estimators\n",
    "note: if learning_rate, reg_alpha, reg_lambda are not set\n",
    "xgboost will use default values from https://github.com/dmlc/xgboost/blob/master/doc/parameter.md\n",
    "e.g. eta = 0.3 instead of 0.1\n",
    "if they are set, eta, alpha, lambda will be overwritten\n",
    "the best n_estimators is Name + 1"
   ]
  },
  {
   "cell_type": "code",
   "execution_count": 3,
   "metadata": {
    "collapsed": false
   },
   "outputs": [],
   "source": [
    "# load data\n",
    "with open(\"preprocessed_data.pkl\", \"rb\") as f:\n",
    "    train_data = pickle.load(f)\n",
    "    train_label = pickle.load(f)\n",
    "    label_list = pickle.load(f)"
   ]
  },
  {
   "cell_type": "code",
   "execution_count": 4,
   "metadata": {
    "collapsed": false
   },
   "outputs": [
    {
     "data": {
      "text/plain": [
       "['Adoption', 'Died', 'Euthanasia', 'Return_to_owner', 'Transfer']"
      ]
     },
     "execution_count": 4,
     "metadata": {},
     "output_type": "execute_result"
    }
   ],
   "source": [
    "label_list"
   ]
  },
  {
   "cell_type": "markdown",
   "metadata": {},
   "source": [
    "# Build model"
   ]
  },
  {
   "cell_type": "markdown",
   "metadata": {},
   "source": [
    "# Multinomial regression"
   ]
  },
  {
   "cell_type": "code",
   "execution_count": 5,
   "metadata": {
    "collapsed": false
   },
   "outputs": [
    {
     "data": {
      "text/plain": [
       "LogisticRegression(C=1.0, class_weight=None, dual=False, fit_intercept=True,\n",
       "          intercept_scaling=1, max_iter=100, multi_class='multinomial',\n",
       "          n_jobs=1, penalty='l2', random_state=None, solver='newton-cg',\n",
       "          tol=0.0001, verbose=0, warm_start=False)"
      ]
     },
     "execution_count": 5,
     "metadata": {},
     "output_type": "execute_result"
    }
   ],
   "source": [
    "#fit a logistic regression model to the data\n",
    "model = LogisticRegression(penalty='l2', dual=False, tol=0.0001, C=1.0, fit_intercept=True, \n",
    "                           intercept_scaling=1, class_weight=None, random_state=None, \n",
    "                           solver='newton-cg', max_iter=100, multi_class='multinomial', \n",
    "                           verbose=0, warm_start=False, n_jobs=1)\n",
    "model.fit(train_data, train_label)"
   ]
  },
  {
   "cell_type": "markdown",
   "metadata": {},
   "source": [
    "# Attributes of model"
   ]
  },
  {
   "cell_type": "code",
   "execution_count": 6,
   "metadata": {
    "collapsed": false
   },
   "outputs": [
    {
     "data": {
      "text/plain": [
       "Index(['Age', 'Size', 'HasName_0', 'HasName_1', 'TimeofDay_lateday',\n",
       "       'TimeofDay_midday', 'TimeofDay_morning', 'TimeofDay_night', 'WeekDay_0',\n",
       "       'WeekDay_1', 'WeekDay_2', 'WeekDay_3', 'WeekDay_4', 'WeekDay_5',\n",
       "       'WeekDay_6', 'IsIntact_0.0', 'IsIntact_1.0', 'Sex_Female', 'Sex_Male',\n",
       "       'MixorMultipleorSimple_Mix', 'MixorMultipleorSimple_Multiple',\n",
       "       'MixorMultipleorSimple_Simple', 'Group_Herding', 'Group_Hound',\n",
       "       'Group_NonSporting', 'Group_PitBull', 'Group_Sporting', 'Group_Terrier',\n",
       "       'Group_Toy', 'Group_Unknown', 'Group_Working', 'IsMixColor_0',\n",
       "       'IsMixColor_1'],\n",
       "      dtype='object')"
      ]
     },
     "execution_count": 6,
     "metadata": {},
     "output_type": "execute_result"
    }
   ],
   "source": [
    "feat_labels = train_data.columns[0:]\n",
    "feat_labels"
   ]
  },
  {
   "cell_type": "code",
   "execution_count": 6,
   "metadata": {
    "collapsed": false
   },
   "outputs": [],
   "source": [
    "#for f in range(train_data.shape[1]):\n",
    "#    print(\"{0}. Feature {1}: {2}\".format(f + 1, feat_labels[indices[f]], importances[indices[f]]))"
   ]
  },
  {
   "cell_type": "code",
   "execution_count": 15,
   "metadata": {
    "collapsed": false
   },
   "outputs": [
    {
     "data": {
      "text/plain": [
       "array([[-0.80591156, -0.07290339, -0.07325505,  0.07325491,  0.41675203,\n",
       "        -0.15740431, -0.03639296, -0.22295489, -0.15728206, -0.22317624,\n",
       "        -0.03505861, -0.19256136, -0.16552139,  0.48148046,  0.29211906,\n",
       "         1.47220521, -1.47220534,  0.11498418, -0.11498432,  0.02941479,\n",
       "         0.12069394, -0.15010887,  0.1471601 ,  0.27468738, -0.01123797,\n",
       "        -0.5365071 ,  0.02678967,  0.20941728, -0.02026424,  0.08340706,\n",
       "        -0.17345232, -0.02159708,  0.02159694],\n",
       "       [ 0.13690816,  0.32291131,  0.63749166, -0.63749319, -0.59984404,\n",
       "        -0.49389236,  0.92172918,  0.17200569,  0.1905389 ,  0.27326211,\n",
       "        -0.55051448, -0.23153089,  0.02994081,  0.01737956,  0.27092247,\n",
       "        -0.61725502,  0.61725349,  0.01288864, -0.01289017, -0.02613354,\n",
       "         0.06004847, -0.03391647, -0.18353214, -0.36976383, -0.160007  ,\n",
       "         0.10594142, -0.01684477, -0.09350974,  0.82549098, -0.21229967,\n",
       "         0.10452321, -0.0129665 ,  0.01296497],\n",
       "       [ 0.83547662, -0.03070819,  0.31773328, -0.31773125, -0.05091379,\n",
       "         0.07397677,  1.13838044, -1.16144139,  0.11503093, -0.0270499 ,\n",
       "         0.25958874,  0.29221808,  0.09547344, -0.38718638, -0.34807289,\n",
       "        -0.61275828,  0.6127603 , -0.09791585,  0.09791787,  0.06641418,\n",
       "         0.11916014, -0.1855723 , -0.00444256, -0.33530095, -0.04163943,\n",
       "         0.84620782, -0.09868447, -0.24662367, -0.56504409,  0.29167955,\n",
       "         0.15384983, -0.02422091,  0.02422294],\n",
       "       [ 0.27842438, -0.07590826, -1.05450778,  1.05450879,  0.79087529,\n",
       "         0.49844015, -1.07260977, -0.21670466, -0.08104193,  0.04899633,\n",
       "         0.1994841 , -0.0242174 , -0.06037324,  0.00462205, -0.0874689 ,\n",
       "         0.03975682, -0.0397558 , -0.04575457,  0.04575558,  0.03553327,\n",
       "        -0.20676003,  0.17122778,  0.08572029,  0.15404077,  0.18468358,\n",
       "        -0.0816835 ,  0.07726722,  0.11679378, -0.18762796, -0.38296006,\n",
       "         0.03376689,  0.03592885, -0.03592784],\n",
       "       [-0.4448976 , -0.14339146,  0.17253789, -0.17253926, -0.55686949,\n",
       "         0.07887974, -0.95110689,  1.42909526, -0.06724584, -0.07203231,\n",
       "         0.12650025,  0.15609157,  0.10048038, -0.1162957 , -0.12749973,\n",
       "        -0.28194873,  0.28194735,  0.0157976 , -0.01579897, -0.10522871,\n",
       "        -0.09314253,  0.19836987, -0.0449057 ,  0.27633662,  0.02820081,\n",
       "        -0.33395864,  0.01147235,  0.01392235, -0.05255469,  0.22017312,\n",
       "        -0.11868761,  0.02285564, -0.02285701]])"
      ]
     },
     "execution_count": 15,
     "metadata": {},
     "output_type": "execute_result"
    }
   ],
   "source": [
    "model.coef_"
   ]
  },
  {
   "cell_type": "code",
   "execution_count": 8,
   "metadata": {
    "collapsed": false
   },
   "outputs": [
    {
     "name": "stdout",
     "output_type": "stream",
     "text": [
      "[ 1.1801698  -2.80256871 -0.72905616 -0.04801812  2.39947319]\n"
     ]
    }
   ],
   "source": [
    "print(model.intercept_)"
   ]
  },
  {
   "cell_type": "code",
   "execution_count": 19,
   "metadata": {
    "collapsed": false
   },
   "outputs": [],
   "source": [
    "import csv\n",
    "a = [[-0.80591156, -0.07290339, -0.07325505,  0.07325491,  0.41675203,\n",
    "        -0.15740431, -0.03639296, -0.22295489, -0.15728206, -0.22317624,\n",
    "        -0.03505861, -0.19256136, -0.16552139,  0.48148046,  0.29211906,\n",
    "         1.47220521, -1.47220534,  0.11498418, -0.11498432,  0.02941479,\n",
    "         0.12069394, -0.15010887,  0.1471601 ,  0.27468738, -0.01123797,\n",
    "        -0.5365071 ,  0.02678967,  0.20941728, -0.02026424,  0.08340706,\n",
    "        -0.17345232, -0.02159708,  0.02159694],\n",
    "       [ 0.13690816,  0.32291131,  0.63749166, -0.63749319, -0.59984404,\n",
    "        -0.49389236,  0.92172918,  0.17200569,  0.1905389 ,  0.27326211,\n",
    "        -0.55051448, -0.23153089,  0.02994081,  0.01737956,  0.27092247,\n",
    "        -0.61725502,  0.61725349,  0.01288864, -0.01289017, -0.02613354,\n",
    "         0.06004847, -0.03391647, -0.18353214, -0.36976383, -0.160007  ,\n",
    "         0.10594142, -0.01684477, -0.09350974,  0.82549098, -0.21229967,\n",
    "         0.10452321, -0.0129665 ,  0.01296497],\n",
    "       [ 0.83547662, -0.03070819,  0.31773328, -0.31773125, -0.05091379,\n",
    "         0.07397677,  1.13838044, -1.16144139,  0.11503093, -0.0270499 ,\n",
    "         0.25958874,  0.29221808,  0.09547344, -0.38718638, -0.34807289,\n",
    "        -0.61275828,  0.6127603 , -0.09791585,  0.09791787,  0.06641418,\n",
    "         0.11916014, -0.1855723 , -0.00444256, -0.33530095, -0.04163943,\n",
    "         0.84620782, -0.09868447, -0.24662367, -0.56504409,  0.29167955,\n",
    "         0.15384983, -0.02422091,  0.02422294],\n",
    "       [ 0.27842438, -0.07590826, -1.05450778,  1.05450879,  0.79087529,\n",
    "         0.49844015, -1.07260977, -0.21670466, -0.08104193,  0.04899633,\n",
    "         0.1994841 , -0.0242174 , -0.06037324,  0.00462205, -0.0874689 ,\n",
    "         0.03975682, -0.0397558 , -0.04575457,  0.04575558,  0.03553327,\n",
    "        -0.20676003,  0.17122778,  0.08572029,  0.15404077,  0.18468358,\n",
    "        -0.0816835 ,  0.07726722,  0.11679378, -0.18762796, -0.38296006,\n",
    "         0.03376689,  0.03592885, -0.03592784],\n",
    "       [-0.4448976 , -0.14339146,  0.17253789, -0.17253926, -0.55686949,\n",
    "         0.07887974, -0.95110689,  1.42909526, -0.06724584, -0.07203231,\n",
    "         0.12650025,  0.15609157,  0.10048038, -0.1162957 , -0.12749973,\n",
    "        -0.28194873,  0.28194735,  0.0157976 , -0.01579897, -0.10522871,\n",
    "        -0.09314253,  0.19836987, -0.0449057 ,  0.27633662,  0.02820081,\n",
    "        -0.33395864,  0.01147235,  0.01392235, -0.05255469,  0.22017312,\n",
    "        -0.11868761,  0.02285564, -0.02285701]]\n",
    "\n"
   ]
  },
  {
   "cell_type": "code",
   "execution_count": 21,
   "metadata": {
    "collapsed": false
   },
   "outputs": [],
   "source": [
    "with open(\"output.csv\", \"w\") as f:\n",
    "    writer = csv.writer(f)\n",
    "    writer.writerows(a)"
   ]
  },
  {
   "cell_type": "code",
   "execution_count": 9,
   "metadata": {
    "collapsed": true
   },
   "outputs": [],
   "source": [
    "scores, pvalues1 = chi2(train_data, train_label)"
   ]
  },
  {
   "cell_type": "code",
   "execution_count": 10,
   "metadata": {
    "collapsed": false
   },
   "outputs": [
    {
     "data": {
      "text/plain": [
       "array([  3.49615713e-251,   7.07987256e-005,   6.02755036e-237,\n",
       "         6.54946873e-047,   2.06198523e-117,   2.08760280e-092,\n",
       "         4.45233103e-104,   2.36717095e-067,   1.09655606e-001,\n",
       "         7.69619931e-006,   8.14155073e-006,   2.40480444e-011,\n",
       "         1.73908344e-008,   2.50025837e-027,   5.07208998e-027,\n",
       "         1.68852984e-136,   0.00000000e+000,   3.41833525e-006,\n",
       "         2.29523499e-005,   5.79325484e-002,   6.89261754e-023,\n",
       "         3.44319814e-019,   5.29618856e-008,   2.75577366e-006,\n",
       "         5.84668626e-004,   6.21572298e-074,   1.48109541e-002,\n",
       "         5.69888263e-004,   6.68528488e-010,   2.11303626e-001,\n",
       "         5.53686532e-002,   1.53403950e-002,   1.44439997e-001])"
      ]
     },
     "execution_count": 10,
     "metadata": {},
     "output_type": "execute_result"
    }
   ],
   "source": [
    "pvalues1"
   ]
  },
  {
   "cell_type": "code",
   "execution_count": 11,
   "metadata": {
    "collapsed": false
   },
   "outputs": [],
   "source": [
    "F, pvalues2 = f_classif(train_data, train_label)"
   ]
  },
  {
   "cell_type": "code",
   "execution_count": 12,
   "metadata": {
    "collapsed": false
   },
   "outputs": [
    {
     "data": {
      "text/plain": [
       "array([  0.00000000e+000,   1.29837774e-008,   5.30535147e-298,\n",
       "         5.30535147e-298,   1.55327625e-237,   4.38295741e-179,\n",
       "         3.78077388e-109,   2.47511810e-069,   6.60571491e-002,\n",
       "         8.97309755e-007,   1.09495027e-006,   3.81189835e-013,\n",
       "         7.46971528e-010,   8.43544762e-033,   9.06647348e-033,\n",
       "         0.00000000e+000,   0.00000000e+000,   9.49345483e-012,\n",
       "         9.49345483e-012,   6.64717502e-007,   1.14208572e-028,\n",
       "         8.32610293e-021,   1.26491842e-009,   7.53268293e-007,\n",
       "         3.32705697e-004,   2.02052029e-087,   5.54695450e-003,\n",
       "         2.48456942e-004,   1.01780982e-012,   2.07744457e-001,\n",
       "         3.70711922e-002,   7.38876017e-004,   7.38876017e-004])"
      ]
     },
     "execution_count": 12,
     "metadata": {},
     "output_type": "execute_result"
    }
   ],
   "source": [
    "pvalues2"
   ]
  },
  {
   "cell_type": "code",
   "execution_count": null,
   "metadata": {
    "collapsed": true
   },
   "outputs": [],
   "source": []
  }
 ],
 "metadata": {
  "kernelspec": {
   "display_name": "Python 3",
   "language": "python",
   "name": "python3"
  },
  "language_info": {
   "codemirror_mode": {
    "name": "ipython",
    "version": 3
   },
   "file_extension": ".py",
   "mimetype": "text/x-python",
   "name": "python",
   "nbconvert_exporter": "python",
   "pygments_lexer": "ipython3",
   "version": "3.5.2"
  }
 },
 "nbformat": 4,
 "nbformat_minor": 1
}
