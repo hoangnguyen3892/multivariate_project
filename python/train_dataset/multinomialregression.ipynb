{
 "cells": [
  {
   "cell_type": "code",
   "execution_count": 4,
   "metadata": {
    "collapsed": false
   },
   "outputs": [],
   "source": [
    "import numpy as np\n",
    "import pandas as pd\n",
    "import pickle\n",
    "import statsmodels.api as st\n",
    "#import statsmodels.discrete.discrete_model as st"
   ]
  },
  {
   "cell_type": "markdown",
   "metadata": {},
   "source": [
    "build function to find optimal n_estimators\n",
    "note: if learning_rate, reg_alpha, reg_lambda are not set\n",
    "xgboost will use default values from https://github.com/dmlc/xgboost/blob/master/doc/parameter.md\n",
    "e.g. eta = 0.3 instead of 0.1\n",
    "if they are set, eta, alpha, lambda will be overwritten\n",
    "the best n_estimators is Name + 1"
   ]
  },
  {
   "cell_type": "code",
   "execution_count": 5,
   "metadata": {
    "collapsed": false
   },
   "outputs": [],
   "source": [
    "# load data\n",
    "with open(\"preprocessed_data.pkl\", \"rb\") as f:\n",
    "    train_data = pickle.load(f)\n",
    "    train_label = pickle.load(f)\n",
    "    label_list = pickle.load(f)"
   ]
  },
  {
   "cell_type": "code",
   "execution_count": 6,
   "metadata": {
    "collapsed": false
   },
   "outputs": [
    {
     "data": {
      "text/plain": [
       "['Adoption', 'Died', 'Euthanasia', 'Return_to_owner', 'Transfer']"
      ]
     },
     "execution_count": 6,
     "metadata": {},
     "output_type": "execute_result"
    }
   ],
   "source": [
    "label_list"
   ]
  },
  {
   "cell_type": "code",
   "execution_count": 7,
   "metadata": {
    "collapsed": false
   },
   "outputs": [],
   "source": [
    "# fit a logistic regression model to the data\n",
    "#data_X = st.add_constant(train_data['Age'], train_data['Size'], train_data['HasName_0'], train_data['HasName_1'], \n",
    "#                        train_data['TimeofDay_lateday'],train_data['TimeofDay_midday'], train_data['TimeofDay_morning'], \n",
    "#                        train_data['TimeofDay_night'], train_data['WeekDay_0'],train_data['WeekDay_1'], \n",
    "#                        train_data['WeekDay_2'], train_data['WeekDay_3'], train_data['WeekDay_4'], \n",
    "#                        train_data['WeekDay_5'],train_data['WeekDay_6'], train_data['IsIntact_0.0'], \n",
    "#                        train_data['IsIntact_1.0'], train_data['Sex_Female'], train_data['Sex_Male'],\n",
    "#                        train_data['MixorMultipleorSimple_Mix'], train_data['MixorMultipleorSimple_Multiple'],\n",
    "#                        train_data['MixorMultipleorSimple_Simple'], train_data['Group_Herding'],train_data['Group_Hound'],\n",
    "#                        train_data['Group_NonSporting'], train_data['Group_PitBull'], train_data['Group_Sporting'], \n",
    "#                        train_data['Group_Terrier'], train_data['Group_Toy'],train_data['Group_Unknown'],\n",
    "#                         train_data['Group_Working'],train_data['IsMixColor_0'], train_data['IsMixColor_1'])\n",
    "#data_X = st.add_constant(train_data[['Age', 'Size', 'HasName_0', 'HasName_1', 'TimeofDay_lateday',\n",
    "#                                    'TimeofDay_midday', 'TimeofDay_morning', 'TimeofDay_night', 'WeekDay_0',\n",
    "#                                    'WeekDay_1', 'WeekDay_2', 'WeekDay_3', 'WeekDay_4', 'WeekDay_5',\n",
    "#                                    'WeekDay_6', 'IsIntact_0.0', 'IsIntact_1.0', 'Sex_Female', 'Sex_Male',\n",
    "#                                    'MixorMultipleorSimple_Mix', 'MixorMultipleorSimple_Multiple',\n",
    "#                                     'MixorMultipleorSimple_Simple', 'Group_Herding', 'Group_Hound',\n",
    "#                                     'Group_NonSporting', 'Group_PitBull', 'Group_Sporting', 'Group_Terrier',\n",
    "#                                     'Group_Toy', 'Group_Unknown', 'Group_Working', 'IsMixColor_0',\n",
    "#                                     'IsMixColor_1']].values, prepend = True)"
   ]
  },
  {
   "cell_type": "code",
   "execution_count": 8,
   "metadata": {
    "collapsed": false
   },
   "outputs": [
    {
     "name": "stderr",
     "output_type": "stream",
     "text": [
      "/Users/hoangnguyen/miniconda3/envs/pydata/lib/python3.5/site-packages/statsmodels/discrete/discrete_model.py:580: VisibleDeprecationWarning: using a non-integer number instead of an integer will result in an error in the future\n",
      "  start_params = np.zeros((self.K * (self.J-1)))\n",
      "/Users/hoangnguyen/miniconda3/envs/pydata/lib/python3.5/site-packages/statsmodels/discrete/discrete_model.py:1840: VisibleDeprecationWarning: using a non-integer number instead of an integer will result in an error in the future\n",
      "  params = params.reshape(self.K, -1, order='F')\n",
      "/Users/hoangnguyen/miniconda3/envs/pydata/lib/python3.5/site-packages/statsmodels/discrete/discrete_model.py:1756: VisibleDeprecationWarning: using a non-integer number instead of an integer will result in an error in the future\n",
      "  params = params.reshape(self.K, -1, order='F')\n",
      "/Users/hoangnguyen/miniconda3/envs/pydata/lib/python3.5/site-packages/statsmodels/discrete/discrete_model.py:1697: VisibleDeprecationWarning: using a non-integer number instead of an integer will result in an error in the future\n",
      "  params = params.reshape(self.K, -1, order='F')\n",
      "/Users/hoangnguyen/miniconda3/envs/pydata/lib/python3.5/site-packages/statsmodels/base/model.py:466: ConvergenceWarning: Maximum Likelihood optimization failed to converge. Check mle_retvals\n",
      "  \"Check mle_retvals\", ConvergenceWarning)\n",
      "/Users/hoangnguyen/miniconda3/envs/pydata/lib/python3.5/site-packages/statsmodels/discrete/discrete_model.py:588: VisibleDeprecationWarning: using a non-integer number instead of an integer will result in an error in the future\n",
      "  mnfit.params = mnfit.params.reshape(self.K, -1, order='F')\n"
     ]
    },
    {
     "name": "stdout",
     "output_type": "stream",
     "text": [
      "Warning: Maximum number of iterations has been exceeded.\n",
      "         Current function value: 0.970462\n",
      "         Iterations: 35\n",
      "                          MNLogit Regression Results                          \n",
      "==============================================================================\n",
      "Dep. Variable:            OutcomeType   No. Observations:                15499\n",
      "Model:                        MNLogit   Df Residuals:                    15395\n",
      "Method:                           MLE   Df Model:                          100\n",
      "Date:                Tue, 29 Nov 2016   Pseudo R-squ.:                  0.2179\n",
      "Time:                        15:27:33   Log-Likelihood:                -15041.\n",
      "converged:                      False   LL-Null:                       -19231.\n",
      "                                        LLR p-value:                     0.000\n",
      "==================================================================================================\n",
      "                 OutcomeType=1       coef    std err          z      P>|z|      [95.0% Conf. Int.]\n",
      "--------------------------------------------------------------------------------------------------\n",
      "Age                                0.9641      0.225      4.287      0.000         0.523     1.405\n",
      "Size                               0.5543      0.384      1.444      0.149        -0.198     1.306\n",
      "HasName_0                         -0.2622        nan        nan        nan           nan       nan\n",
      "HasName_1                         -1.7499        nan        nan        nan           nan       nan\n",
      "TimeofDay_lateday                 -1.6155        nan        nan        nan           nan       nan\n",
      "TimeofDay_midday                  -0.9299   1.08e+07   -8.6e-08      1.000     -2.12e+07  2.12e+07\n",
      "TimeofDay_morning                  0.5118        nan        nan        nan           nan       nan\n",
      "TimeofDay_night                    0.0215        nan        nan        nan           nan       nan\n",
      "WeekDay_0                          0.1126        nan        nan        nan           nan       nan\n",
      "WeekDay_1                          0.2457        nan        nan        nan           nan       nan\n",
      "WeekDay_2                         -0.9583   1.56e+07  -6.16e-08      1.000     -3.05e+07  3.05e+07\n",
      "WeekDay_3                         -0.3549   5.06e+06  -7.01e-08      1.000     -9.92e+06  9.92e+06\n",
      "WeekDay_4                         -0.0664        nan        nan        nan           nan       nan\n",
      "WeekDay_5                         -0.7417   6.29e+06  -1.18e-07      1.000     -1.23e+07  1.23e+07\n",
      "WeekDay_6                         -0.2491        nan        nan        nan           nan       nan\n",
      "IsIntact_0.0                      -3.1191        nan        nan        nan           nan       nan\n",
      "IsIntact_1.0                       1.1070   4.05e+06   2.73e-07      1.000     -7.94e+06  7.94e+06\n",
      "Sex_Female                        -1.1094   1.22e+07  -9.08e-08      1.000     -2.39e+07  2.39e+07\n",
      "Sex_Male                          -0.9027        nan        nan        nan           nan       nan\n",
      "MixorMultipleorSimple_Mix         -0.7372        nan        nan        nan           nan       nan\n",
      "MixorMultipleorSimple_Multiple    -0.7046        nan        nan        nan           nan       nan\n",
      "MixorMultipleorSimple_Simple      -0.5702        nan        nan        nan           nan       nan\n",
      "Group_Herding                      0.9326        nan        nan        nan           nan       nan\n",
      "Group_Hound                        0.4500        nan        nan        nan           nan       nan\n",
      "Group_NonSporting                  1.1504        nan        nan        nan           nan       nan\n",
      "Group_PitBull                      2.0482   1.78e+07   1.15e-07      1.000     -3.49e+07  3.49e+07\n",
      "Group_Sporting                     1.3188        nan        nan        nan           nan       nan\n",
      "Group_Terrier                      1.1332   1.42e+07   7.95e-08      1.000     -2.79e+07  2.79e+07\n",
      "Group_Toy                          2.4189   1.07e+07   2.27e-07      1.000     -2.09e+07  2.09e+07\n",
      "Group_Unknown                    -13.0413        nan        nan        nan           nan       nan\n",
      "Group_Working                      1.5771        nan        nan        nan           nan       nan\n",
      "IsMixColor_0                      -1.0046        nan        nan        nan           nan       nan\n",
      "IsMixColor_1                      -1.0075        nan        nan        nan           nan       nan\n",
      "--------------------------------------------------------------------------------------------------\n",
      "                 OutcomeType=2       coef    std err          z      P>|z|      [95.0% Conf. Int.]\n",
      "--------------------------------------------------------------------------------------------------\n",
      "Age                                1.6479      0.064     25.575      0.000         1.522     1.774\n",
      "Size                               0.0313      0.110      0.285      0.776        -0.184     0.247\n",
      "HasName_0                          0.0259   1.47e+06   1.77e-08      1.000     -2.88e+06  2.88e+06\n",
      "HasName_1                         -0.7613   1.91e+06  -3.98e-07      1.000     -3.75e+06  3.75e+06\n",
      "TimeofDay_lateday                 -0.4628   1.88e+06  -2.46e-07      1.000     -3.69e+06  3.69e+06\n",
      "TimeofDay_midday                   0.2372    1.8e+06   1.32e-07      1.000     -3.52e+06  3.52e+06\n",
      "TimeofDay_morning                  1.1990   2.06e+06   5.82e-07      1.000     -4.04e+06  4.04e+06\n",
      "TimeofDay_night                   -1.7089        nan        nan        nan           nan       nan\n",
      "WeekDay_0                          0.1721        nan        nan        nan           nan       nan\n",
      "WeekDay_1                          0.0927   2.73e+06   3.39e-08      1.000     -5.36e+06  5.36e+06\n",
      "WeekDay_2                          0.1913   3.08e+06   6.21e-08      1.000     -6.04e+06  6.04e+06\n",
      "WeekDay_3                          0.3818   1.04e+06   3.66e-07      1.000     -2.05e+06  2.05e+06\n",
      "WeekDay_4                          0.1570        nan        nan        nan           nan       nan\n",
      "WeekDay_5                         -0.9813        nan        nan        nan           nan       nan\n",
      "WeekDay_6                         -0.7490        nan        nan        nan           nan       nan\n",
      "IsIntact_0.0                      -2.4620   2.19e+06  -1.12e-06      1.000      -4.3e+06   4.3e+06\n",
      "IsIntact_1.0                       1.7266    1.6e+06   1.08e-06      1.000     -3.13e+06  3.13e+06\n",
      "Sex_Female                        -0.5814        nan        nan        nan           nan       nan\n",
      "Sex_Male                          -0.1540        nan        nan        nan           nan       nan\n",
      "MixorMultipleorSimple_Mix         -0.2080   1.43e+06  -1.46e-07      1.000      -2.8e+06   2.8e+06\n",
      "MixorMultipleorSimple_Multiple    -0.2436   1.48e+06  -1.64e-07      1.000     -2.91e+06  2.91e+06\n",
      "MixorMultipleorSimple_Simple      -0.2838   1.59e+06  -1.79e-07      1.000     -3.12e+06  3.12e+06\n",
      "Group_Herding                     -0.2304   1.16e+06  -1.98e-07      1.000     -2.28e+06  2.28e+06\n",
      "Group_Hound                       -0.7139        nan        nan        nan           nan       nan\n",
      "Group_NonSporting                 -0.1191        nan        nan        nan           nan       nan\n",
      "Group_PitBull                      1.3076        nan        nan        nan           nan       nan\n",
      "Group_Sporting                    -0.2095        nan        nan        nan           nan       nan\n",
      "Group_Terrier                     -0.5546        nan        nan        nan           nan       nan\n",
      "Group_Toy                         -0.6435        nan        nan        nan           nan       nan\n",
      "Group_Unknown                      0.1744        nan        nan        nan           nan       nan\n",
      "Group_Working                      0.2535        nan        nan        nan           nan       nan\n",
      "IsMixColor_0                      -0.3695        nan        nan        nan           nan       nan\n",
      "IsMixColor_1                      -0.3660        nan        nan        nan           nan       nan\n",
      "--------------------------------------------------------------------------------------------------\n",
      "                 OutcomeType=3       coef    std err          z      P>|z|      [95.0% Conf. Int.]\n",
      "--------------------------------------------------------------------------------------------------\n",
      "Age                                1.0853      0.035     31.411      0.000         1.018     1.153\n",
      "Size                              -0.0038      0.053     -0.071      0.943        -0.107     0.100\n",
      "HasName_0                         -1.2043   1.05e+06  -1.15e-06      1.000     -2.06e+06  2.06e+06\n",
      "HasName_1                          0.7685    9.9e+05   7.76e-07      1.000     -1.94e+06  1.94e+06\n",
      "TimeofDay_lateday                  0.2738   6.66e+05   4.11e-07      1.000      -1.3e+06   1.3e+06\n",
      "TimeofDay_midday                   0.5554   1.12e+06   4.97e-07      1.000     -2.19e+06  2.19e+06\n",
      "TimeofDay_morning                 -1.1616   6.29e+05  -1.85e-06      1.000     -1.23e+06  1.23e+06\n",
      "TimeofDay_night                   -0.1034        nan        nan        nan           nan       nan\n",
      "WeekDay_0                          0.0141        nan        nan        nan           nan       nan\n",
      "WeekDay_1                          0.2106        nan        nan        nan           nan       nan\n",
      "WeekDay_2                          0.1729        nan        nan        nan           nan       nan\n",
      "WeekDay_3                          0.1066        nan        nan        nan           nan       nan\n",
      "WeekDay_4                          0.0429        nan        nan        nan           nan       nan\n",
      "WeekDay_5                         -0.5402        nan        nan        nan           nan       nan\n",
      "WeekDay_6                         -0.4427        nan        nan        nan           nan       nan\n",
      "IsIntact_0.0                      -1.6572        nan        nan        nan           nan       nan\n",
      "IsIntact_1.0                       1.2214        nan        nan        nan           nan       nan\n",
      "Sex_Female                        -0.3789        nan        nan        nan           nan       nan\n",
      "Sex_Male                          -0.0569        nan        nan        nan           nan       nan\n",
      "MixorMultipleorSimple_Mix         -0.1393        nan        nan        nan           nan       nan\n",
      "MixorMultipleorSimple_Multiple    -0.4733        nan        nan        nan           nan       nan\n",
      "MixorMultipleorSimple_Simple       0.1768        nan        nan        nan           nan       nan\n",
      "Group_Herding                     -0.1074        nan        nan        nan           nan       nan\n",
      "Group_Hound                       -0.1675        nan        nan        nan           nan       nan\n",
      "Group_NonSporting                  0.1502        nan        nan        nan           nan       nan\n",
      "Group_PitBull                      0.4095        nan        nan        nan           nan       nan\n",
      "Group_Sporting                     0.0044        nan        nan        nan           nan       nan\n",
      "Group_Terrier                     -0.1398        nan        nan        nan           nan       nan\n",
      "Group_Toy                         -0.2149        nan        nan        nan           nan       nan\n",
      "Group_Unknown                     -0.5318        nan        nan        nan           nan       nan\n",
      "Group_Working                      0.1616        nan        nan        nan           nan       nan\n",
      "IsMixColor_0                      -0.1603        nan        nan        nan           nan       nan\n",
      "IsMixColor_1                      -0.2755        nan        nan        nan           nan       nan\n",
      "--------------------------------------------------------------------------------------------------\n",
      "                 OutcomeType=4       coef    std err          z      P>|z|      [95.0% Conf. Int.]\n",
      "--------------------------------------------------------------------------------------------------\n",
      "Age                                0.3618      0.039      9.366      0.000         0.286     0.437\n",
      "Size                              -0.0709      0.058     -1.213      0.225        -0.185     0.044\n",
      "HasName_0                          0.4626   1.17e+06   3.94e-07      1.000      -2.3e+06   2.3e+06\n",
      "HasName_1                         -0.0298   1.16e+06  -2.57e-08      1.000     -2.28e+06  2.28e+06\n",
      "TimeofDay_lateday                 -0.8675        nan        nan        nan           nan       nan\n",
      "TimeofDay_midday                   0.3437        nan        nan        nan           nan       nan\n",
      "TimeofDay_morning                 -0.8140        nan        nan        nan           nan       nan\n",
      "TimeofDay_night                    1.7707        nan        nan        nan           nan       nan\n",
      "WeekDay_0                          0.1521        nan        nan        nan           nan       nan\n",
      "WeekDay_1                          0.2133        nan        nan        nan           nan       nan\n",
      "WeekDay_2                          0.2234        nan        nan        nan           nan       nan\n",
      "WeekDay_3                          0.4115        nan        nan        nan           nan       nan\n",
      "WeekDay_4                          0.3287        nan        nan        nan           nan       nan\n",
      "WeekDay_5                         -0.5377        nan        nan        nan           nan       nan\n",
      "WeekDay_6                         -0.3585        nan        nan        nan           nan       nan\n",
      "IsIntact_0.0                      -1.5445        nan        nan        nan           nan       nan\n",
      "IsIntact_1.0                       1.9773        nan        nan        nan           nan       nan\n",
      "Sex_Female                         0.1170        nan        nan        nan           nan       nan\n",
      "Sex_Male                           0.3158        nan        nan        nan           nan       nan\n",
      "MixorMultipleorSimple_Mix          0.0090   1.31e+06   6.87e-09      1.000     -2.58e+06  2.58e+06\n",
      "MixorMultipleorSimple_Multiple    -0.0701   1.32e+06  -5.32e-08      1.000     -2.58e+06  2.58e+06\n",
      "MixorMultipleorSimple_Simple       0.4938   1.31e+06   3.76e-07      1.000     -2.58e+06  2.58e+06\n",
      "Group_Herding                     -0.1451        nan        nan        nan           nan       nan\n",
      "Group_Hound                        0.0487        nan        nan        nan           nan       nan\n",
      "Group_NonSporting                  0.0870        nan        nan        nan           nan       nan\n",
      "Group_PitBull                      0.2507        nan        nan        nan           nan       nan\n",
      "Group_Sporting                     0.0321        nan        nan        nan           nan       nan\n",
      "Group_Terrier                     -0.1493        nan        nan        nan           nan       nan\n",
      "Group_Toy                          0.0150        nan        nan        nan           nan       nan\n",
      "Group_Unknown                      0.1912        nan        nan        nan           nan       nan\n",
      "Group_Working                      0.1025        nan        nan        nan           nan       nan\n",
      "IsMixColor_0                       0.2608    8.5e+05   3.07e-07      1.000     -1.67e+06  1.67e+06\n",
      "IsMixColor_1                       0.1719    8.5e+05   2.02e-07      1.000     -1.67e+06  1.67e+06\n",
      "==================================================================================================\n"
     ]
    }
   ],
   "source": [
    "model = st.MNLogit(train_label, train_data)\n",
    "mdl_fit = model.fit()\n",
    "print(mdl_fit.summary())"
   ]
  },
  {
   "cell_type": "code",
   "execution_count": 3,
   "metadata": {
    "collapsed": false
   },
   "outputs": [
    {
     "ename": "ValueError",
     "evalue": "endog must be in the unit interval.",
     "output_type": "error",
     "traceback": [
      "\u001b[0;31m---------------------------------------------------------------------------\u001b[0m",
      "\u001b[0;31mValueError\u001b[0m                                Traceback (most recent call last)",
      "\u001b[0;32m<ipython-input-3-e4efdc258b2d>\u001b[0m in \u001b[0;36m<module>\u001b[0;34m()\u001b[0m\n\u001b[0;32m----> 1\u001b[0;31m \u001b[0mmodel2\u001b[0m \u001b[0;34m=\u001b[0m \u001b[0mst\u001b[0m\u001b[0;34m.\u001b[0m\u001b[0mLogit\u001b[0m\u001b[0;34m(\u001b[0m\u001b[0mtrain_label\u001b[0m\u001b[0;34m,\u001b[0m \u001b[0mtrain_data\u001b[0m\u001b[0;34m)\u001b[0m\u001b[0;34m\u001b[0m\u001b[0m\n\u001b[0m\u001b[1;32m      2\u001b[0m \u001b[0ma\u001b[0m \u001b[0;34m=\u001b[0m \u001b[0mmodel2\u001b[0m\u001b[0;34m.\u001b[0m\u001b[0mfit\u001b[0m\u001b[0;34m(\u001b[0m\u001b[0;34m)\u001b[0m\u001b[0;34m\u001b[0m\u001b[0m\n\u001b[1;32m      3\u001b[0m \u001b[0mprint\u001b[0m\u001b[0;34m(\u001b[0m\u001b[0ma\u001b[0m\u001b[0;34m.\u001b[0m\u001b[0msummary\u001b[0m\u001b[0;34m(\u001b[0m\u001b[0;34m)\u001b[0m\u001b[0;34m)\u001b[0m\u001b[0;34m\u001b[0m\u001b[0m\n",
      "\u001b[0;32m/Users/hoangnguyen/miniconda3/envs/pydata/lib/python3.5/site-packages/statsmodels/discrete/discrete_model.py\u001b[0m in \u001b[0;36m__init__\u001b[0;34m(self, endog, exog, **kwargs)\u001b[0m\n\u001b[1;32m    402\u001b[0m         if (self.__class__.__name__ != 'MNLogit' and\n\u001b[1;32m    403\u001b[0m                 not np.all((self.endog >= 0) & (self.endog <= 1))):\n\u001b[0;32m--> 404\u001b[0;31m             \u001b[0;32mraise\u001b[0m \u001b[0mValueError\u001b[0m\u001b[0;34m(\u001b[0m\u001b[0;34m\"endog must be in the unit interval.\"\u001b[0m\u001b[0;34m)\u001b[0m\u001b[0;34m\u001b[0m\u001b[0m\n\u001b[0m\u001b[1;32m    405\u001b[0m \u001b[0;34m\u001b[0m\u001b[0m\n\u001b[1;32m    406\u001b[0m \u001b[0;34m\u001b[0m\u001b[0m\n",
      "\u001b[0;31mValueError\u001b[0m: endog must be in the unit interval."
     ]
    }
   ],
   "source": [
    "model2 = st.Logit(train_label, train_data)\n",
    "a = model2.fit()\n",
    "print(a.summary())"
   ]
  },
  {
   "cell_type": "code",
   "execution_count": 46,
   "metadata": {
    "collapsed": false
   },
   "outputs": [
    {
     "ename": "TypeError",
     "evalue": "__init__() missing 2 required positional arguments: 'endog' and 'exog'",
     "output_type": "error",
     "traceback": [
      "\u001b[0;31m---------------------------------------------------------------------------\u001b[0m",
      "\u001b[0;31mTypeError\u001b[0m                                 Traceback (most recent call last)",
      "\u001b[0;32m<ipython-input-46-324335d3eb4f>\u001b[0m in \u001b[0;36m<module>\u001b[0;34m()\u001b[0m\n\u001b[0;32m----> 1\u001b[0;31m \u001b[0mmale_logit\u001b[0m \u001b[0;34m=\u001b[0m \u001b[0mst\u001b[0m\u001b[0;34m.\u001b[0m\u001b[0mMNLogit\u001b[0m\u001b[0;34m(\u001b[0m\u001b[0mformula\u001b[0m \u001b[0;34m=\u001b[0m \u001b[0;34m'train_label \\~ data_X'\u001b[0m\u001b[0;34m)\u001b[0m\u001b[0;34m.\u001b[0m\u001b[0mfit\u001b[0m\u001b[0;34m(\u001b[0m\u001b[0;34m)\u001b[0m\u001b[0;34m\u001b[0m\u001b[0m\n\u001b[0m\u001b[1;32m      2\u001b[0m \u001b[0mprint\u001b[0m\u001b[0;34m(\u001b[0m\u001b[0mmale_logit\u001b[0m\u001b[0;34m.\u001b[0m\u001b[0msummary\u001b[0m\u001b[0;34m(\u001b[0m\u001b[0;34m)\u001b[0m\u001b[0;34m)\u001b[0m\u001b[0;34m\u001b[0m\u001b[0m\n",
      "\u001b[0;31mTypeError\u001b[0m: __init__() missing 2 required positional arguments: 'endog' and 'exog'"
     ]
    }
   ],
   "source": [
    "#male_logit = st.MNLogit(formula = 'train_label \\~ data_X').fit()\n",
    "#print(male_logit.summary())"
   ]
  },
  {
   "cell_type": "code",
   "execution_count": 33,
   "metadata": {
    "collapsed": false
   },
   "outputs": [],
   "source": [
    "#mdl_margeff = mdl_fit.get_margeff()\n",
    "#print(mdl_margeff.summary())"
   ]
  },
  {
   "cell_type": "code",
   "execution_count": 32,
   "metadata": {
    "collapsed": false
   },
   "outputs": [],
   "source": [
    "#st.add_constant(train_label)\n",
    "#model =st.MultinomialModel(train_label,train_data)\n",
    "#logit_res = model.fit()"
   ]
  },
  {
   "cell_type": "code",
   "execution_count": null,
   "metadata": {
    "collapsed": true
   },
   "outputs": [],
   "source": []
  },
  {
   "cell_type": "code",
   "execution_count": null,
   "metadata": {
    "collapsed": true
   },
   "outputs": [],
   "source": []
  }
 ],
 "metadata": {
  "kernelspec": {
   "display_name": "Python 3",
   "language": "python",
   "name": "python3"
  },
  "language_info": {
   "codemirror_mode": {
    "name": "ipython",
    "version": 3
   },
   "file_extension": ".py",
   "mimetype": "text/x-python",
   "name": "python",
   "nbconvert_exporter": "python",
   "pygments_lexer": "ipython3",
   "version": "3.5.2"
  }
 },
 "nbformat": 4,
 "nbformat_minor": 1
}
