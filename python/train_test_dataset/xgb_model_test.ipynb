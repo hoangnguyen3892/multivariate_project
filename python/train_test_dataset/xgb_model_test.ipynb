{
 "cells": [
  {
   "cell_type": "code",
   "execution_count": 64,
   "metadata": {
    "collapsed": false
   },
   "outputs": [],
   "source": [
    "import numpy as np\n",
    "import pandas as pd\n",
    "import pickle\n",
    "from sklearn.cross_validation import StratifiedKFold\n",
    "from sklearn.grid_search import GridSearchCV\n",
    "from sklearn.metrics import log_loss, make_scorer\n",
    "import xgboost as xgb\n",
    "from sklearn import cross_validation\n",
    "from sklearn import metrics"
   ]
  },
  {
   "cell_type": "markdown",
   "metadata": {},
   "source": [
    "build function to find optimal n_estimators\n",
    "note: if learning_rate, reg_alpha, reg_lambda are not set\n",
    "xgboost will use default values from https://github.com/dmlc/xgboost/blob/master/doc/parameter.md\n",
    "e.g. eta = 0.3 instead of 0.1\n",
    "if they are set, eta, alpha, lambda will be overwritten\n",
    "the best n_estimators is Name + 1"
   ]
  },
  {
   "cell_type": "code",
   "execution_count": 65,
   "metadata": {
    "collapsed": false
   },
   "outputs": [],
   "source": [
    "def modelfit(model, data, label, cv=5, early_stopping_rounds=50):\n",
    "    params = model.get_params()\n",
    "    params[\"num_class\"] = 5\n",
    "    dtrain = xgb.DMatrix(data, label)\n",
    "    cvresult = xgb.cv(params, dtrain, num_boost_round=model.get_params()[\"n_estimators\"],\n",
    "                      nfold=cv, stratified=True,\n",
    "                      metrics=\"mlogloss\", early_stopping_rounds=early_stopping_rounds, verbose_eval=50)\n",
    "    print(cvresult.iloc[-1])\n",
    "    \n",
    "def modelsubmit(model, train_data, train_label, test_data, label_list):\n",
    "    model.fit(train_data, train_label, eval_metric=\"mlogloss\")\n",
    "    test_predict = model.predict_proba(test_data)\n",
    "    sample = pd.read_csv(\"input/sample_submission.csv\")\n",
    "    sample[label_list] = test_predict\n",
    "    sample.to_csv(\"submit/xgb_grid.csv\", index=False)\n",
    "    \n",
    "# define scorer for log_loss\n",
    "scorer = make_scorer(log_loss, greater_is_better=False, needs_proba=True)"
   ]
  },
  {
   "cell_type": "markdown",
   "metadata": {},
   "source": [
    "# Load data"
   ]
  },
  {
   "cell_type": "code",
   "execution_count": 66,
   "metadata": {
    "collapsed": false
   },
   "outputs": [],
   "source": [
    "with open(\"data_processed_test.pkl\", \"rb\") as f:\n",
    "    train_data = pickle.load(f)\n",
    "    train_label = pickle.load(f)\n",
    "    test_data = pickle.load(f)\n",
    "    test_label = pickle.load(f)\n",
    "    label_list = pickle.load(f)"
   ]
  },
  {
   "cell_type": "code",
   "execution_count": 67,
   "metadata": {
    "collapsed": false
   },
   "outputs": [
    {
     "data": {
      "text/plain": [
       "['Adoption', 'Died', 'Euthanasia', 'Return_to_owner', 'Transfer']"
      ]
     },
     "execution_count": 67,
     "metadata": {},
     "output_type": "execute_result"
    }
   ],
   "source": [
    "label_list"
   ]
  },
  {
   "cell_type": "markdown",
   "metadata": {},
   "source": [
    "# Find n-estimators"
   ]
  },
  {
   "cell_type": "code",
   "execution_count": 5,
   "metadata": {
    "collapsed": false
   },
   "outputs": [
    {
     "name": "stdout",
     "output_type": "stream",
     "text": [
      "[0]\ttrain-mlogloss:1.53367+0.00185332\ttest-mlogloss:1.53544+0.00185385\n",
      "[50]\ttrain-mlogloss:0.911886+0.00341746\ttest-mlogloss:0.961532+0.0119965\n",
      "[100]\ttrain-mlogloss:0.860118+0.0034214\ttest-mlogloss:0.952447+0.0140473\n",
      "test-mlogloss-mean     0.951768\n",
      "test-mlogloss-std      0.013332\n",
      "train-mlogloss-mean    0.871959\n",
      "train-mlogloss-std     0.003462\n",
      "Name: 85, dtype: float64\n"
     ]
    }
   ],
   "source": [
    "xgb1 = xgb.XGBClassifier(learning_rate=0.1, n_estimators=1000,\n",
    "                         max_depth=5, min_child_weight=1,\n",
    "                         gamma=0,\n",
    "                         subsample=0.8, colsample_bytree=0.8,\n",
    "                         reg_alpha=0, reg_lambda=1,\n",
    "                         objective=\"multi:softprob\")\n",
    "modelfit(xgb1, train_data, train_label)"
   ]
  },
  {
   "cell_type": "markdown",
   "metadata": {},
   "source": [
    "# Grid search max_depth and min_child_weight\n",
    "n-estimators = 86"
   ]
  },
  {
   "cell_type": "code",
   "execution_count": 6,
   "metadata": {
    "collapsed": false
   },
   "outputs": [
    {
     "name": "stdout",
     "output_type": "stream",
     "text": [
      "Fitting 5 folds for each of 12 candidates, totalling 60 fits\n",
      "[CV] max_depth=3, min_child_weight=1 .................................\n",
      "[CV] ....... max_depth=3, min_child_weight=1, score=-0.947563 -   4.3s\n",
      "[CV] max_depth=3, min_child_weight=1 .................................\n"
     ]
    },
    {
     "name": "stderr",
     "output_type": "stream",
     "text": [
      "[Parallel(n_jobs=1)]: Done   1 out of   1 | elapsed:    4.3s remaining:    0.0s\n"
     ]
    },
    {
     "name": "stdout",
     "output_type": "stream",
     "text": [
      "[CV] ....... max_depth=3, min_child_weight=1, score=-0.943264 -   3.8s\n",
      "[CV] max_depth=3, min_child_weight=1 .................................\n"
     ]
    },
    {
     "name": "stderr",
     "output_type": "stream",
     "text": [
      "[Parallel(n_jobs=1)]: Done   2 out of   2 | elapsed:    8.1s remaining:    0.0s\n"
     ]
    },
    {
     "name": "stdout",
     "output_type": "stream",
     "text": [
      "[CV] ....... max_depth=3, min_child_weight=1, score=-0.962575 -   4.3s\n",
      "[CV] max_depth=3, min_child_weight=1 .................................\n",
      "[CV] ....... max_depth=3, min_child_weight=1, score=-0.975412 -   5.1s\n",
      "[CV] max_depth=3, min_child_weight=1 .................................\n",
      "[CV] ....... max_depth=3, min_child_weight=1, score=-0.950867 -   3.9s\n",
      "[CV] max_depth=3, min_child_weight=3 .................................\n",
      "[CV] ....... max_depth=3, min_child_weight=3, score=-0.947378 -   4.5s\n",
      "[CV] max_depth=3, min_child_weight=3 .................................\n",
      "[CV] ....... max_depth=3, min_child_weight=3, score=-0.944044 -   4.9s\n",
      "[CV] max_depth=3, min_child_weight=3 .................................\n",
      "[CV] ....... max_depth=3, min_child_weight=3, score=-0.963401 -   5.1s\n",
      "[CV] max_depth=3, min_child_weight=3 .................................\n",
      "[CV] ....... max_depth=3, min_child_weight=3, score=-0.975742 -   4.7s\n",
      "[CV] max_depth=3, min_child_weight=3 .................................\n",
      "[CV] ....... max_depth=3, min_child_weight=3, score=-0.950273 -   4.3s\n",
      "[CV] max_depth=3, min_child_weight=5 .................................\n",
      "[CV] ....... max_depth=3, min_child_weight=5, score=-0.946938 -   4.3s\n",
      "[CV] max_depth=3, min_child_weight=5 .................................\n",
      "[CV] ....... max_depth=3, min_child_weight=5, score=-0.944316 -   4.1s\n",
      "[CV] max_depth=3, min_child_weight=5 .................................\n",
      "[CV] ....... max_depth=3, min_child_weight=5, score=-0.962977 -   4.2s\n",
      "[CV] max_depth=3, min_child_weight=5 .................................\n",
      "[CV] ....... max_depth=3, min_child_weight=5, score=-0.975442 -   4.1s\n",
      "[CV] max_depth=3, min_child_weight=5 .................................\n",
      "[CV] ....... max_depth=3, min_child_weight=5, score=-0.951367 -   4.0s\n",
      "[CV] max_depth=5, min_child_weight=1 .................................\n",
      "[CV] ....... max_depth=5, min_child_weight=1, score=-0.943307 -   5.9s\n",
      "[CV] max_depth=5, min_child_weight=1 .................................\n",
      "[CV] ....... max_depth=5, min_child_weight=1, score=-0.938656 -   5.9s\n",
      "[CV] max_depth=5, min_child_weight=1 .................................\n",
      "[CV] ....... max_depth=5, min_child_weight=1, score=-0.963189 -   6.3s\n",
      "[CV] max_depth=5, min_child_weight=1 .................................\n",
      "[CV] ....... max_depth=5, min_child_weight=1, score=-0.973495 -   6.2s\n",
      "[CV] max_depth=5, min_child_weight=1 .................................\n",
      "[CV] ....... max_depth=5, min_child_weight=1, score=-0.951322 -   6.2s\n",
      "[CV] max_depth=5, min_child_weight=3 .................................\n",
      "[CV] ....... max_depth=5, min_child_weight=3, score=-0.942835 -   6.4s\n",
      "[CV] max_depth=5, min_child_weight=3 .................................\n",
      "[CV] ....... max_depth=5, min_child_weight=3, score=-0.939750 -   7.1s\n",
      "[CV] max_depth=5, min_child_weight=3 .................................\n",
      "[CV] ....... max_depth=5, min_child_weight=3, score=-0.963732 -   7.2s\n",
      "[CV] max_depth=5, min_child_weight=3 .................................\n",
      "[CV] ....... max_depth=5, min_child_weight=3, score=-0.973185 -   6.8s\n",
      "[CV] max_depth=5, min_child_weight=3 .................................\n",
      "[CV] ....... max_depth=5, min_child_weight=3, score=-0.951544 -   6.5s\n",
      "[CV] max_depth=5, min_child_weight=5 .................................\n",
      "[CV] ....... max_depth=5, min_child_weight=5, score=-0.942501 -   5.9s\n",
      "[CV] max_depth=5, min_child_weight=5 .................................\n",
      "[CV] ....... max_depth=5, min_child_weight=5, score=-0.939430 -   6.7s\n",
      "[CV] max_depth=5, min_child_weight=5 .................................\n",
      "[CV] ....... max_depth=5, min_child_weight=5, score=-0.962526 -   5.9s\n",
      "[CV] max_depth=5, min_child_weight=5 .................................\n",
      "[CV] ....... max_depth=5, min_child_weight=5, score=-0.972728 -   6.0s\n",
      "[CV] max_depth=5, min_child_weight=5 .................................\n",
      "[CV] ....... max_depth=5, min_child_weight=5, score=-0.951581 -   6.2s\n",
      "[CV] max_depth=7, min_child_weight=1 .................................\n",
      "[CV] ....... max_depth=7, min_child_weight=1, score=-0.956309 -   8.8s\n",
      "[CV] max_depth=7, min_child_weight=1 .................................\n",
      "[CV] ....... max_depth=7, min_child_weight=1, score=-0.952707 -   9.3s\n",
      "[CV] max_depth=7, min_child_weight=1 .................................\n",
      "[CV] ....... max_depth=7, min_child_weight=1, score=-0.981969 -   8.8s\n",
      "[CV] max_depth=7, min_child_weight=1 .................................\n",
      "[CV] ....... max_depth=7, min_child_weight=1, score=-0.986862 -   8.2s\n",
      "[CV] max_depth=7, min_child_weight=1 .................................\n",
      "[CV] ....... max_depth=7, min_child_weight=1, score=-0.962255 -   8.4s\n",
      "[CV] max_depth=7, min_child_weight=3 .................................\n",
      "[CV] ....... max_depth=7, min_child_weight=3, score=-0.952188 -   8.3s\n",
      "[CV] max_depth=7, min_child_weight=3 .................................\n",
      "[CV] ....... max_depth=7, min_child_weight=3, score=-0.950389 -   9.0s\n",
      "[CV] max_depth=7, min_child_weight=3 .................................\n",
      "[CV] ....... max_depth=7, min_child_weight=3, score=-0.978959 -   8.4s\n",
      "[CV] max_depth=7, min_child_weight=3 .................................\n",
      "[CV] ....... max_depth=7, min_child_weight=3, score=-0.982112 -   8.5s\n",
      "[CV] max_depth=7, min_child_weight=3 .................................\n",
      "[CV] ....... max_depth=7, min_child_weight=3, score=-0.961122 -   8.6s\n",
      "[CV] max_depth=7, min_child_weight=5 .................................\n",
      "[CV] ....... max_depth=7, min_child_weight=5, score=-0.947883 -   9.2s\n",
      "[CV] max_depth=7, min_child_weight=5 .................................\n",
      "[CV] ....... max_depth=7, min_child_weight=5, score=-0.948552 -   8.6s\n",
      "[CV] max_depth=7, min_child_weight=5 .................................\n",
      "[CV] ....... max_depth=7, min_child_weight=5, score=-0.975066 -   8.6s\n",
      "[CV] max_depth=7, min_child_weight=5 .................................\n",
      "[CV] ....... max_depth=7, min_child_weight=5, score=-0.979635 -   8.9s\n",
      "[CV] max_depth=7, min_child_weight=5 .................................\n",
      "[CV] ....... max_depth=7, min_child_weight=5, score=-0.961466 -   8.7s\n",
      "[CV] max_depth=9, min_child_weight=1 .................................\n",
      "[CV] ....... max_depth=9, min_child_weight=1, score=-0.981409 -  10.9s\n",
      "[CV] max_depth=9, min_child_weight=1 .................................\n",
      "[CV] ....... max_depth=9, min_child_weight=1, score=-0.984547 -  12.0s\n",
      "[CV] max_depth=9, min_child_weight=1 .................................\n",
      "[CV] ....... max_depth=9, min_child_weight=1, score=-1.010678 -  10.9s\n",
      "[CV] max_depth=9, min_child_weight=1 .................................\n",
      "[CV] ....... max_depth=9, min_child_weight=1, score=-1.013681 -  10.9s\n",
      "[CV] max_depth=9, min_child_weight=1 .................................\n",
      "[CV] ....... max_depth=9, min_child_weight=1, score=-0.987909 -  11.0s\n",
      "[CV] max_depth=9, min_child_weight=3 .................................\n",
      "[CV] ....... max_depth=9, min_child_weight=3, score=-0.968900 -  10.2s\n",
      "[CV] max_depth=9, min_child_weight=3 .................................\n",
      "[CV] ....... max_depth=9, min_child_weight=3, score=-0.971191 -  10.8s\n",
      "[CV] max_depth=9, min_child_weight=3 .................................\n",
      "[CV] ....... max_depth=9, min_child_weight=3, score=-1.000184 -  11.2s\n",
      "[CV] max_depth=9, min_child_weight=3 .................................\n",
      "[CV] ....... max_depth=9, min_child_weight=3, score=-1.002278 -  11.3s\n",
      "[CV] max_depth=9, min_child_weight=3 .................................\n",
      "[CV] ....... max_depth=9, min_child_weight=3, score=-0.977646 -  11.2s\n",
      "[CV] max_depth=9, min_child_weight=5 .................................\n",
      "[CV] ....... max_depth=9, min_child_weight=5, score=-0.962591 -  11.1s\n",
      "[CV] max_depth=9, min_child_weight=5 .................................\n",
      "[CV] ....... max_depth=9, min_child_weight=5, score=-0.962403 -  10.0s\n",
      "[CV] max_depth=9, min_child_weight=5 .................................\n",
      "[CV] ....... max_depth=9, min_child_weight=5, score=-0.989511 -  10.3s\n",
      "[CV] max_depth=9, min_child_weight=5 .................................\n",
      "[CV] ....... max_depth=9, min_child_weight=5, score=-0.996173 -  10.1s\n",
      "[CV] max_depth=9, min_child_weight=5 .................................\n",
      "[CV] ....... max_depth=9, min_child_weight=5, score=-0.973160 -  10.2s\n"
     ]
    },
    {
     "name": "stderr",
     "output_type": "stream",
     "text": [
      "[Parallel(n_jobs=1)]: Done  60 out of  60 | elapsed:  7.6min finished\n"
     ]
    },
    {
     "data": {
      "text/plain": [
       "([mean: -0.95593, std: 0.01166, params: {'max_depth': 3, 'min_child_weight': 1},\n",
       "  mean: -0.95616, std: 0.01179, params: {'max_depth': 3, 'min_child_weight': 3},\n",
       "  mean: -0.95620, std: 0.01155, params: {'max_depth': 3, 'min_child_weight': 5},\n",
       "  mean: -0.95399, std: 0.01282, params: {'max_depth': 5, 'min_child_weight': 1},\n",
       "  mean: -0.95420, std: 0.01262, params: {'max_depth': 5, 'min_child_weight': 3},\n",
       "  mean: -0.95375, std: 0.01244, params: {'max_depth': 5, 'min_child_weight': 5},\n",
       "  mean: -0.96802, std: 0.01382, params: {'max_depth': 7, 'min_child_weight': 1},\n",
       "  mean: -0.96495, std: 0.01327, params: {'max_depth': 7, 'min_child_weight': 3},\n",
       "  mean: -0.96252, std: 0.01312, params: {'max_depth': 7, 'min_child_weight': 5},\n",
       "  mean: -0.99564, std: 0.01369, params: {'max_depth': 9, 'min_child_weight': 1},\n",
       "  mean: -0.98404, std: 0.01434, params: {'max_depth': 9, 'min_child_weight': 3},\n",
       "  mean: -0.97676, std: 0.01385, params: {'max_depth': 9, 'min_child_weight': 5}],\n",
       " {'max_depth': 5, 'min_child_weight': 5},\n",
       " -0.9537483677222961)"
      ]
     },
     "execution_count": 6,
     "metadata": {},
     "output_type": "execute_result"
    }
   ],
   "source": [
    "# grid search max_depth and min_child_weight\n",
    "param_grid = [{\"max_depth\": [3, 5, 7, 9],\n",
    "               \"min_child_weight\": [1, 3, 5]}]\n",
    "xgb2 = xgb.XGBClassifier(learning_rate=0.1, n_estimators=86,\n",
    "                         gamma=0,\n",
    "                         subsample=0.8, colsample_bytree=0.8,\n",
    "                         reg_alpha=0, reg_lambda=1,\n",
    "                         objective=\"multi:softprob\")\n",
    "gs2 = GridSearchCV(xgb2, param_grid, fit_params={\"eval_metric\": \"mlogloss\"},\n",
    "                  scoring=scorer, n_jobs=1, cv=5, verbose=3)\n",
    "gs2.fit(train_data, train_label)\n",
    "gs2.grid_scores_, gs2.best_params_, gs2.best_score_"
   ]
  },
  {
   "cell_type": "code",
   "execution_count": 7,
   "metadata": {
    "collapsed": false
   },
   "outputs": [
    {
     "name": "stdout",
     "output_type": "stream",
     "text": [
      "Fitting 5 folds for each of 9 candidates, totalling 45 fits\n",
      "[CV] max_depth=4, min_child_weight=5 .................................\n",
      "[CV] ....... max_depth=4, min_child_weight=5, score=-0.940993 -   5.3s\n",
      "[CV] max_depth=4, min_child_weight=5 .................................\n"
     ]
    },
    {
     "name": "stderr",
     "output_type": "stream",
     "text": [
      "[Parallel(n_jobs=1)]: Done   1 out of   1 | elapsed:    5.3s remaining:    0.0s\n"
     ]
    },
    {
     "name": "stdout",
     "output_type": "stream",
     "text": [
      "[CV] ....... max_depth=4, min_child_weight=5, score=-0.939377 -   5.5s\n",
      "[CV] max_depth=4, min_child_weight=5 .................................\n"
     ]
    },
    {
     "name": "stderr",
     "output_type": "stream",
     "text": [
      "[Parallel(n_jobs=1)]: Done   2 out of   2 | elapsed:   10.8s remaining:    0.0s\n"
     ]
    },
    {
     "name": "stdout",
     "output_type": "stream",
     "text": [
      "[CV] ....... max_depth=4, min_child_weight=5, score=-0.960727 -   5.7s\n",
      "[CV] max_depth=4, min_child_weight=5 .................................\n",
      "[CV] ....... max_depth=4, min_child_weight=5, score=-0.972107 -   5.2s\n",
      "[CV] max_depth=4, min_child_weight=5 .................................\n",
      "[CV] ....... max_depth=4, min_child_weight=5, score=-0.950481 -   5.3s\n",
      "[CV] max_depth=4, min_child_weight=7 .................................\n",
      "[CV] ....... max_depth=4, min_child_weight=7, score=-0.941001 -   5.3s\n",
      "[CV] max_depth=4, min_child_weight=7 .................................\n",
      "[CV] ....... max_depth=4, min_child_weight=7, score=-0.939552 -   5.4s\n",
      "[CV] max_depth=4, min_child_weight=7 .................................\n",
      "[CV] ....... max_depth=4, min_child_weight=7, score=-0.961463 -   5.1s\n",
      "[CV] max_depth=4, min_child_weight=7 .................................\n",
      "[CV] ....... max_depth=4, min_child_weight=7, score=-0.972083 -   5.2s\n",
      "[CV] max_depth=4, min_child_weight=7 .................................\n",
      "[CV] ....... max_depth=4, min_child_weight=7, score=-0.950372 -   5.3s\n",
      "[CV] max_depth=4, min_child_weight=9 .................................\n",
      "[CV] ....... max_depth=4, min_child_weight=9, score=-0.942033 -   5.1s\n",
      "[CV] max_depth=4, min_child_weight=9 .................................\n",
      "[CV] ....... max_depth=4, min_child_weight=9, score=-0.939041 -   5.2s\n",
      "[CV] max_depth=4, min_child_weight=9 .................................\n",
      "[CV] ....... max_depth=4, min_child_weight=9, score=-0.959757 -   5.1s\n",
      "[CV] max_depth=4, min_child_weight=9 .................................\n",
      "[CV] ....... max_depth=4, min_child_weight=9, score=-0.971802 -   5.5s\n",
      "[CV] max_depth=4, min_child_weight=9 .................................\n",
      "[CV] ....... max_depth=4, min_child_weight=9, score=-0.950718 -   5.8s\n",
      "[CV] max_depth=5, min_child_weight=5 .................................\n",
      "[CV] ....... max_depth=5, min_child_weight=5, score=-0.942501 -   6.0s\n",
      "[CV] max_depth=5, min_child_weight=5 .................................\n",
      "[CV] ....... max_depth=5, min_child_weight=5, score=-0.939430 -   6.2s\n",
      "[CV] max_depth=5, min_child_weight=5 .................................\n",
      "[CV] ....... max_depth=5, min_child_weight=5, score=-0.962526 -   6.4s\n",
      "[CV] max_depth=5, min_child_weight=5 .................................\n",
      "[CV] ....... max_depth=5, min_child_weight=5, score=-0.972728 -   6.6s\n",
      "[CV] max_depth=5, min_child_weight=5 .................................\n",
      "[CV] ....... max_depth=5, min_child_weight=5, score=-0.951581 -   6.3s\n",
      "[CV] max_depth=5, min_child_weight=7 .................................\n",
      "[CV] ....... max_depth=5, min_child_weight=7, score=-0.942183 -   7.0s\n",
      "[CV] max_depth=5, min_child_weight=7 .................................\n",
      "[CV] ....... max_depth=5, min_child_weight=7, score=-0.939094 -   6.2s\n",
      "[CV] max_depth=5, min_child_weight=7 .................................\n",
      "[CV] ....... max_depth=5, min_child_weight=7, score=-0.962565 -   5.9s\n",
      "[CV] max_depth=5, min_child_weight=7 .................................\n",
      "[CV] ....... max_depth=5, min_child_weight=7, score=-0.972361 -   5.9s\n",
      "[CV] max_depth=5, min_child_weight=7 .................................\n",
      "[CV] ....... max_depth=5, min_child_weight=7, score=-0.951963 -   6.0s\n",
      "[CV] max_depth=5, min_child_weight=9 .................................\n",
      "[CV] ....... max_depth=5, min_child_weight=9, score=-0.942336 -   6.6s\n",
      "[CV] max_depth=5, min_child_weight=9 .................................\n",
      "[CV] ....... max_depth=5, min_child_weight=9, score=-0.939163 -   6.0s\n",
      "[CV] max_depth=5, min_child_weight=9 .................................\n",
      "[CV] ....... max_depth=5, min_child_weight=9, score=-0.961536 -   6.0s\n",
      "[CV] max_depth=5, min_child_weight=9 .................................\n",
      "[CV] ....... max_depth=5, min_child_weight=9, score=-0.972369 -   6.1s\n",
      "[CV] max_depth=5, min_child_weight=9 .................................\n",
      "[CV] ....... max_depth=5, min_child_weight=9, score=-0.951189 -   6.1s\n",
      "[CV] max_depth=6, min_child_weight=5 .................................\n",
      "[CV] ....... max_depth=6, min_child_weight=5, score=-0.944263 -   7.4s\n",
      "[CV] max_depth=6, min_child_weight=5 .................................\n",
      "[CV] ....... max_depth=6, min_child_weight=5, score=-0.943239 -   7.5s\n",
      "[CV] max_depth=6, min_child_weight=5 .................................\n",
      "[CV] ....... max_depth=6, min_child_weight=5, score=-0.967448 -   6.8s\n",
      "[CV] max_depth=6, min_child_weight=5 .................................\n",
      "[CV] ....... max_depth=6, min_child_weight=5, score=-0.975107 -   7.2s\n",
      "[CV] max_depth=6, min_child_weight=5 .................................\n",
      "[CV] ....... max_depth=6, min_child_weight=5, score=-0.955771 -   6.9s\n",
      "[CV] max_depth=6, min_child_weight=7 .................................\n",
      "[CV] ....... max_depth=6, min_child_weight=7, score=-0.944372 -   7.1s\n",
      "[CV] max_depth=6, min_child_weight=7 .................................\n",
      "[CV] ....... max_depth=6, min_child_weight=7, score=-0.943747 -   7.0s\n",
      "[CV] max_depth=6, min_child_weight=7 .................................\n",
      "[CV] ....... max_depth=6, min_child_weight=7, score=-0.967307 -   6.9s\n",
      "[CV] max_depth=6, min_child_weight=7 .................................\n",
      "[CV] ....... max_depth=6, min_child_weight=7, score=-0.973174 -   6.9s\n",
      "[CV] max_depth=6, min_child_weight=7 .................................\n",
      "[CV] ....... max_depth=6, min_child_weight=7, score=-0.954156 -   6.9s\n",
      "[CV] max_depth=6, min_child_weight=9 .................................\n",
      "[CV] ....... max_depth=6, min_child_weight=9, score=-0.943715 -   7.1s\n",
      "[CV] max_depth=6, min_child_weight=9 .................................\n",
      "[CV] ....... max_depth=6, min_child_weight=9, score=-0.944290 -   6.7s\n",
      "[CV] max_depth=6, min_child_weight=9 .................................\n",
      "[CV] ....... max_depth=6, min_child_weight=9, score=-0.965629 -   6.7s\n",
      "[CV] max_depth=6, min_child_weight=9 .................................\n",
      "[CV] ....... max_depth=6, min_child_weight=9, score=-0.973637 -   7.1s\n",
      "[CV] max_depth=6, min_child_weight=9 .................................\n",
      "[CV] ....... max_depth=6, min_child_weight=9, score=-0.953299 -   7.5s\n"
     ]
    },
    {
     "name": "stderr",
     "output_type": "stream",
     "text": [
      "[Parallel(n_jobs=1)]: Done  45 out of  45 | elapsed:  4.7min finished\n"
     ]
    },
    {
     "data": {
      "text/plain": [
       "([mean: -0.95273, std: 0.01233, params: {'max_depth': 4, 'min_child_weight': 5},\n",
       "  mean: -0.95289, std: 0.01239, params: {'max_depth': 4, 'min_child_weight': 7},\n",
       "  mean: -0.95267, std: 0.01199, params: {'max_depth': 4, 'min_child_weight': 9},\n",
       "  mean: -0.95375, std: 0.01244, params: {'max_depth': 5, 'min_child_weight': 5},\n",
       "  mean: -0.95363, std: 0.01246, params: {'max_depth': 5, 'min_child_weight': 7},\n",
       "  mean: -0.95331, std: 0.01230, params: {'max_depth': 5, 'min_child_weight': 9},\n",
       "  mean: -0.95716, std: 0.01257, params: {'max_depth': 6, 'min_child_weight': 5},\n",
       "  mean: -0.95655, std: 0.01192, params: {'max_depth': 6, 'min_child_weight': 7},\n",
       "  mean: -0.95611, std: 0.01182, params: {'max_depth': 6, 'min_child_weight': 9}],\n",
       " {'max_depth': 4, 'min_child_weight': 9},\n",
       " -0.9526653374182557)"
      ]
     },
     "execution_count": 7,
     "metadata": {},
     "output_type": "execute_result"
    }
   ],
   "source": [
    "# grid search max_depth and min_child_weight\n",
    "param_grid = [{\"max_depth\": [4, 5, 6],\n",
    "               \"min_child_weight\": [5, 7, 9]}]\n",
    "xgb3 = xgb.XGBClassifier(learning_rate=0.1, n_estimators=86,\n",
    "                         gamma=0,\n",
    "                         subsample=0.8, colsample_bytree=0.8,\n",
    "                         reg_alpha=0, reg_lambda=1,\n",
    "                         objective=\"multi:softprob\")\n",
    "gs3 = GridSearchCV(xgb3, param_grid, fit_params={\"eval_metric\": \"mlogloss\"},\n",
    "                  scoring=scorer, n_jobs=1, cv=5, verbose=3)\n",
    "gs3.fit(train_data, train_label)\n",
    "gs3.grid_scores_, gs3.best_params_, gs3.best_score_"
   ]
  },
  {
   "cell_type": "code",
   "execution_count": 8,
   "metadata": {
    "collapsed": false
   },
   "outputs": [
    {
     "name": "stdout",
     "output_type": "stream",
     "text": [
      "Fitting 5 folds for each of 4 candidates, totalling 20 fits\n",
      "[CV] max_depth=4, min_child_weight=9 .................................\n",
      "[CV] ....... max_depth=4, min_child_weight=9, score=-0.942033 -   5.4s\n",
      "[CV] max_depth=4, min_child_weight=9 .................................\n"
     ]
    },
    {
     "name": "stderr",
     "output_type": "stream",
     "text": [
      "[Parallel(n_jobs=1)]: Done   1 out of   1 | elapsed:    5.4s remaining:    0.0s\n"
     ]
    },
    {
     "name": "stdout",
     "output_type": "stream",
     "text": [
      "[CV] ....... max_depth=4, min_child_weight=9, score=-0.939041 -   5.3s\n",
      "[CV] max_depth=4, min_child_weight=9 .................................\n"
     ]
    },
    {
     "name": "stderr",
     "output_type": "stream",
     "text": [
      "[Parallel(n_jobs=1)]: Done   2 out of   2 | elapsed:   10.7s remaining:    0.0s\n"
     ]
    },
    {
     "name": "stdout",
     "output_type": "stream",
     "text": [
      "[CV] ....... max_depth=4, min_child_weight=9, score=-0.959757 -   5.4s\n",
      "[CV] max_depth=4, min_child_weight=9 .................................\n",
      "[CV] ....... max_depth=4, min_child_weight=9, score=-0.971802 -   5.5s\n",
      "[CV] max_depth=4, min_child_weight=9 .................................\n",
      "[CV] ....... max_depth=4, min_child_weight=9, score=-0.950718 -   5.1s\n",
      "[CV] max_depth=4, min_child_weight=11 ................................\n",
      "[CV] ...... max_depth=4, min_child_weight=11, score=-0.942641 -   4.8s\n",
      "[CV] max_depth=4, min_child_weight=11 ................................\n",
      "[CV] ...... max_depth=4, min_child_weight=11, score=-0.938360 -   4.8s\n",
      "[CV] max_depth=4, min_child_weight=11 ................................\n",
      "[CV] ...... max_depth=4, min_child_weight=11, score=-0.960768 -   5.2s\n",
      "[CV] max_depth=4, min_child_weight=11 ................................\n",
      "[CV] ...... max_depth=4, min_child_weight=11, score=-0.973077 -   5.3s\n",
      "[CV] max_depth=4, min_child_weight=11 ................................\n",
      "[CV] ...... max_depth=4, min_child_weight=11, score=-0.951066 -   5.4s\n",
      "[CV] max_depth=5, min_child_weight=9 .................................\n",
      "[CV] ....... max_depth=5, min_child_weight=9, score=-0.942336 -   6.5s\n",
      "[CV] max_depth=5, min_child_weight=9 .................................\n",
      "[CV] ....... max_depth=5, min_child_weight=9, score=-0.939163 -   6.4s\n",
      "[CV] max_depth=5, min_child_weight=9 .................................\n",
      "[CV] ....... max_depth=5, min_child_weight=9, score=-0.961536 -   5.8s\n",
      "[CV] max_depth=5, min_child_weight=9 .................................\n",
      "[CV] ....... max_depth=5, min_child_weight=9, score=-0.972369 -   5.8s\n",
      "[CV] max_depth=5, min_child_weight=9 .................................\n",
      "[CV] ....... max_depth=5, min_child_weight=9, score=-0.951189 -   6.0s\n",
      "[CV] max_depth=5, min_child_weight=11 ................................\n",
      "[CV] ...... max_depth=5, min_child_weight=11, score=-0.942264 -   5.6s\n",
      "[CV] max_depth=5, min_child_weight=11 ................................\n",
      "[CV] ...... max_depth=5, min_child_weight=11, score=-0.938846 -   5.9s\n",
      "[CV] max_depth=5, min_child_weight=11 ................................\n",
      "[CV] ...... max_depth=5, min_child_weight=11, score=-0.961682 -   6.4s\n",
      "[CV] max_depth=5, min_child_weight=11 ................................\n",
      "[CV] ...... max_depth=5, min_child_weight=11, score=-0.972390 -   6.5s\n",
      "[CV] max_depth=5, min_child_weight=11 ................................\n",
      "[CV] ...... max_depth=5, min_child_weight=11, score=-0.951346 -   6.1s\n"
     ]
    },
    {
     "name": "stderr",
     "output_type": "stream",
     "text": [
      "[Parallel(n_jobs=1)]: Done  20 out of  20 | elapsed:  1.9min finished\n"
     ]
    },
    {
     "data": {
      "text/plain": [
       "([mean: -0.95267, std: 0.01199, params: {'max_depth': 4, 'min_child_weight': 9},\n",
       "  mean: -0.95318, std: 0.01256, params: {'max_depth': 4, 'min_child_weight': 11},\n",
       "  mean: -0.95331, std: 0.01230, params: {'max_depth': 5, 'min_child_weight': 9},\n",
       "  mean: -0.95330, std: 0.01240, params: {'max_depth': 5, 'min_child_weight': 11}],\n",
       " {'max_depth': 4, 'min_child_weight': 9},\n",
       " -0.9526653374182557)"
      ]
     },
     "execution_count": 8,
     "metadata": {},
     "output_type": "execute_result"
    }
   ],
   "source": [
    "# grid search max_depth and min_child_weight\n",
    "param_grid = [{\"max_depth\": [4, 5],\n",
    "               \"min_child_weight\": [9, 11]}]\n",
    "xgb4 = xgb.XGBClassifier(learning_rate=0.1, n_estimators=86,\n",
    "                         gamma=0,\n",
    "                         subsample=0.8, colsample_bytree=0.8,\n",
    "                         reg_alpha=0, reg_lambda=1,\n",
    "                         objective=\"multi:softprob\")\n",
    "gs4 = GridSearchCV(xgb4, param_grid, fit_params={\"eval_metric\": \"mlogloss\"},\n",
    "                  scoring=scorer, n_jobs=1, cv=5, verbose=3)\n",
    "gs4.fit(train_data, train_label)\n",
    "gs4.grid_scores_, gs4.best_params_, gs4.best_score_"
   ]
  },
  {
   "cell_type": "code",
   "execution_count": 10,
   "metadata": {
    "collapsed": false,
    "scrolled": true
   },
   "outputs": [
    {
     "name": "stdout",
     "output_type": "stream",
     "text": [
      "Fitting 5 folds for each of 3 candidates, totalling 15 fits\n",
      "[CV] max_depth=4, min_child_weight=8 .................................\n",
      "[CV] ....... max_depth=4, min_child_weight=8, score=-0.941511 -   5.3s\n",
      "[CV] max_depth=4, min_child_weight=8 .................................\n"
     ]
    },
    {
     "name": "stderr",
     "output_type": "stream",
     "text": [
      "[Parallel(n_jobs=1)]: Done   1 out of   1 | elapsed:    5.3s remaining:    0.0s\n"
     ]
    },
    {
     "name": "stdout",
     "output_type": "stream",
     "text": [
      "[CV] ....... max_depth=4, min_child_weight=8, score=-0.939234 -   4.9s\n",
      "[CV] max_depth=4, min_child_weight=8 .................................\n"
     ]
    },
    {
     "name": "stderr",
     "output_type": "stream",
     "text": [
      "[Parallel(n_jobs=1)]: Done   2 out of   2 | elapsed:   10.3s remaining:    0.0s\n"
     ]
    },
    {
     "name": "stdout",
     "output_type": "stream",
     "text": [
      "[CV] ....... max_depth=4, min_child_weight=8, score=-0.960350 -   5.2s\n",
      "[CV] max_depth=4, min_child_weight=8 .................................\n",
      "[CV] ....... max_depth=4, min_child_weight=8, score=-0.971452 -   4.9s\n",
      "[CV] max_depth=4, min_child_weight=8 .................................\n",
      "[CV] ....... max_depth=4, min_child_weight=8, score=-0.950222 -   4.8s\n",
      "[CV] max_depth=4, min_child_weight=9 .................................\n",
      "[CV] ....... max_depth=4, min_child_weight=9, score=-0.942033 -   5.0s\n",
      "[CV] max_depth=4, min_child_weight=9 .................................\n",
      "[CV] ....... max_depth=4, min_child_weight=9, score=-0.939041 -   5.5s\n",
      "[CV] max_depth=4, min_child_weight=9 .................................\n",
      "[CV] ....... max_depth=4, min_child_weight=9, score=-0.959757 -   5.0s\n",
      "[CV] max_depth=4, min_child_weight=9 .................................\n",
      "[CV] ....... max_depth=4, min_child_weight=9, score=-0.971802 -   5.5s\n",
      "[CV] max_depth=4, min_child_weight=9 .................................\n",
      "[CV] ....... max_depth=4, min_child_weight=9, score=-0.950718 -   4.9s\n",
      "[CV] max_depth=4, min_child_weight=10 ................................\n",
      "[CV] ...... max_depth=4, min_child_weight=10, score=-0.942393 -   5.5s\n",
      "[CV] max_depth=4, min_child_weight=10 ................................\n",
      "[CV] ...... max_depth=4, min_child_weight=10, score=-0.938920 -   5.1s\n",
      "[CV] max_depth=4, min_child_weight=10 ................................\n",
      "[CV] ...... max_depth=4, min_child_weight=10, score=-0.960636 -   5.4s\n",
      "[CV] max_depth=4, min_child_weight=10 ................................\n",
      "[CV] ...... max_depth=4, min_child_weight=10, score=-0.972103 -   5.6s\n",
      "[CV] max_depth=4, min_child_weight=10 ................................\n",
      "[CV] ...... max_depth=4, min_child_weight=10, score=-0.950823 -   6.2s\n"
     ]
    },
    {
     "name": "stderr",
     "output_type": "stream",
     "text": [
      "[Parallel(n_jobs=1)]: Done  15 out of  15 | elapsed:  1.3min finished\n"
     ]
    },
    {
     "data": {
      "text/plain": [
       "([mean: -0.95255, std: 0.01202, params: {'max_depth': 4, 'min_child_weight': 8},\n",
       "  mean: -0.95267, std: 0.01199, params: {'max_depth': 4, 'min_child_weight': 9},\n",
       "  mean: -0.95297, std: 0.01216, params: {'max_depth': 4, 'min_child_weight': 10}],\n",
       " {'max_depth': 4, 'min_child_weight': 8},\n",
       " -0.9525491723518706)"
      ]
     },
     "execution_count": 10,
     "metadata": {},
     "output_type": "execute_result"
    }
   ],
   "source": [
    "# grid search max_depth and min_child_weight\n",
    "param_grid = [{\"max_depth\": [4],\n",
    "               \"min_child_weight\": [8, 9, 10]}]\n",
    "xgb5 = xgb.XGBClassifier(learning_rate=0.1, n_estimators=86,\n",
    "                         gamma=0,\n",
    "                         subsample=0.8, colsample_bytree=0.8,\n",
    "                         reg_alpha=0, reg_lambda=1,\n",
    "                         objective=\"multi:softprob\")\n",
    "gs5 = GridSearchCV(xgb5, param_grid, fit_params={\"eval_metric\": \"mlogloss\"},\n",
    "                  scoring=scorer, n_jobs=1, cv=5, verbose=3)\n",
    "gs5.fit(train_data, train_label)\n",
    "gs5.grid_scores_, gs5.best_params_, gs5.best_score_"
   ]
  },
  {
   "cell_type": "markdown",
   "metadata": {},
   "source": [
    "# Grid search gamma\n",
    "n_estimators = 86, max_depth = 4, min_child_weight = 8"
   ]
  },
  {
   "cell_type": "code",
   "execution_count": 11,
   "metadata": {
    "collapsed": false
   },
   "outputs": [
    {
     "name": "stdout",
     "output_type": "stream",
     "text": [
      "Fitting 5 folds for each of 6 candidates, totalling 30 fits\n",
      "[CV] gamma=0 .........................................................\n",
      "[CV] ............................... gamma=0, score=-0.941511 -   6.4s\n",
      "[CV] gamma=0 .........................................................\n"
     ]
    },
    {
     "name": "stderr",
     "output_type": "stream",
     "text": [
      "[Parallel(n_jobs=1)]: Done   1 out of   1 | elapsed:    6.4s remaining:    0.0s\n"
     ]
    },
    {
     "name": "stdout",
     "output_type": "stream",
     "text": [
      "[CV] ............................... gamma=0, score=-0.939234 -   5.8s\n",
      "[CV] gamma=0 .........................................................\n"
     ]
    },
    {
     "name": "stderr",
     "output_type": "stream",
     "text": [
      "[Parallel(n_jobs=1)]: Done   2 out of   2 | elapsed:   12.2s remaining:    0.0s\n"
     ]
    },
    {
     "name": "stdout",
     "output_type": "stream",
     "text": [
      "[CV] ............................... gamma=0, score=-0.960350 -   5.9s\n",
      "[CV] gamma=0 .........................................................\n",
      "[CV] ............................... gamma=0, score=-0.971452 -   5.9s\n",
      "[CV] gamma=0 .........................................................\n",
      "[CV] ............................... gamma=0, score=-0.950222 -   6.9s\n",
      "[CV] gamma=0.1 .......................................................\n",
      "[CV] ............................. gamma=0.1, score=-0.941690 -   5.6s\n",
      "[CV] gamma=0.1 .......................................................\n",
      "[CV] ............................. gamma=0.1, score=-0.938735 -   5.7s\n",
      "[CV] gamma=0.1 .......................................................\n",
      "[CV] ............................. gamma=0.1, score=-0.960157 -   6.1s\n",
      "[CV] gamma=0.1 .......................................................\n",
      "[CV] ............................. gamma=0.1, score=-0.971785 -   5.5s\n",
      "[CV] gamma=0.1 .......................................................\n",
      "[CV] ............................. gamma=0.1, score=-0.950105 -   5.0s\n",
      "[CV] gamma=0.2 .......................................................\n",
      "[CV] ............................. gamma=0.2, score=-0.941669 -   5.0s\n",
      "[CV] gamma=0.2 .......................................................\n",
      "[CV] ............................. gamma=0.2, score=-0.939024 -   5.2s\n",
      "[CV] gamma=0.2 .......................................................\n",
      "[CV] ............................. gamma=0.2, score=-0.960136 -   5.3s\n",
      "[CV] gamma=0.2 .......................................................\n",
      "[CV] ............................. gamma=0.2, score=-0.971344 -   5.6s\n",
      "[CV] gamma=0.2 .......................................................\n",
      "[CV] ............................. gamma=0.2, score=-0.950337 -   5.1s\n",
      "[CV] gamma=0.3 .......................................................\n",
      "[CV] ............................. gamma=0.3, score=-0.941435 -   5.4s\n",
      "[CV] gamma=0.3 .......................................................\n",
      "[CV] ............................. gamma=0.3, score=-0.939091 -   5.4s\n",
      "[CV] gamma=0.3 .......................................................\n",
      "[CV] ............................. gamma=0.3, score=-0.959848 -   5.1s\n",
      "[CV] gamma=0.3 .......................................................\n",
      "[CV] ............................. gamma=0.3, score=-0.971745 -   5.1s\n",
      "[CV] gamma=0.3 .......................................................\n",
      "[CV] ............................. gamma=0.3, score=-0.950491 -   5.0s\n",
      "[CV] gamma=0.4 .......................................................\n",
      "[CV] ............................. gamma=0.4, score=-0.942537 -   5.5s\n",
      "[CV] gamma=0.4 .......................................................\n",
      "[CV] ............................. gamma=0.4, score=-0.938986 -   5.3s\n",
      "[CV] gamma=0.4 .......................................................\n",
      "[CV] ............................. gamma=0.4, score=-0.960045 -   5.6s\n",
      "[CV] gamma=0.4 .......................................................\n",
      "[CV] ............................. gamma=0.4, score=-0.972049 -   6.2s\n",
      "[CV] gamma=0.4 .......................................................\n",
      "[CV] ............................. gamma=0.4, score=-0.949954 -   5.7s\n",
      "[CV] gamma=0.5 .......................................................\n",
      "[CV] ............................. gamma=0.5, score=-0.942071 -   5.5s\n",
      "[CV] gamma=0.5 .......................................................\n",
      "[CV] ............................. gamma=0.5, score=-0.939065 -   4.9s\n",
      "[CV] gamma=0.5 .......................................................\n",
      "[CV] ............................. gamma=0.5, score=-0.959810 -   5.7s\n",
      "[CV] gamma=0.5 .......................................................\n",
      "[CV] ............................. gamma=0.5, score=-0.972256 -   4.9s\n",
      "[CV] gamma=0.5 .......................................................\n",
      "[CV] ............................. gamma=0.5, score=-0.950519 -   5.0s\n"
     ]
    },
    {
     "name": "stderr",
     "output_type": "stream",
     "text": [
      "[Parallel(n_jobs=1)]: Done  30 out of  30 | elapsed:  2.8min finished\n"
     ]
    },
    {
     "data": {
      "text/plain": [
       "([mean: -0.95255, std: 0.01202, params: {'gamma': 0},\n",
       "  mean: -0.95249, std: 0.01219, params: {'gamma': 0.1},\n",
       "  mean: -0.95250, std: 0.01197, params: {'gamma': 0.2},\n",
       "  mean: -0.95252, std: 0.01209, params: {'gamma': 0.3},\n",
       "  mean: -0.95271, std: 0.01206, params: {'gamma': 0.4},\n",
       "  mean: -0.95274, std: 0.01214, params: {'gamma': 0.5}],\n",
       " {'gamma': 0.1},\n",
       " -0.9524896448232184)"
      ]
     },
     "execution_count": 11,
     "metadata": {},
     "output_type": "execute_result"
    }
   ],
   "source": [
    "param_grid = [{\"gamma\": [0, 0.1, 0.2, 0.3, 0.4, 0.5]}]\n",
    "xgb6 = xgb.XGBClassifier(learning_rate=0.1, n_estimators=86,\n",
    "                         max_depth=4, min_child_weight=8,\n",
    "                         subsample=0.8, colsample_bytree=0.8,\n",
    "                         reg_alpha=0, reg_lambda=1,\n",
    "                         objective=\"multi:softprob\")\n",
    "gs6 = GridSearchCV(xgb6, param_grid, fit_params={\"eval_metric\": \"mlogloss\"},\n",
    "                  scoring=scorer, n_jobs=1, cv=5, verbose=3)\n",
    "gs6.fit(train_data, train_label)\n",
    "gs6.grid_scores_, gs6.best_params_, gs6.best_score_"
   ]
  },
  {
   "cell_type": "markdown",
   "metadata": {},
   "source": [
    "# Find n-estimators\n",
    "max_depth = 4, min_child_weight = 8, gamma = 0.1"
   ]
  },
  {
   "cell_type": "code",
   "execution_count": 12,
   "metadata": {
    "collapsed": false
   },
   "outputs": [
    {
     "name": "stdout",
     "output_type": "stream",
     "text": [
      "[0]\ttrain-mlogloss:1.53594+0.00178116\ttest-mlogloss:1.53688+0.00186833\n",
      "[50]\ttrain-mlogloss:0.9422+0.00297708\ttest-mlogloss:0.965447+0.0100019\n",
      "[100]\ttrain-mlogloss:0.90795+0.00345846\ttest-mlogloss:0.951844+0.0123828\n",
      "[150]\ttrain-mlogloss:0.890955+0.00368061\ttest-mlogloss:0.952867+0.0135877\n",
      "test-mlogloss-mean     0.951671\n",
      "test-mlogloss-std      0.012802\n",
      "train-mlogloss-mean    0.901434\n",
      "train-mlogloss-std     0.003588\n",
      "Name: 117, dtype: float64\n"
     ]
    }
   ],
   "source": [
    "xgb7 = xgb.XGBClassifier(learning_rate=0.1, n_estimators=1000,\n",
    "                         max_depth=4, min_child_weight=8,\n",
    "                         gamma=0.1,\n",
    "                         subsample=0.8, colsample_bytree=0.8,\n",
    "                         reg_alpha=0, reg_lambda=1,\n",
    "                         objective=\"multi:softprob\")\n",
    "modelfit(xgb7, train_data, train_label)"
   ]
  },
  {
   "cell_type": "markdown",
   "metadata": {},
   "source": [
    "# Grid search subsample, colsample_bytree\n",
    "n_estimators = 118, max_depth = 4, min_child_weight = 8, gamma = 0.1"
   ]
  },
  {
   "cell_type": "code",
   "execution_count": 13,
   "metadata": {
    "collapsed": false
   },
   "outputs": [
    {
     "name": "stdout",
     "output_type": "stream",
     "text": [
      "Fitting 5 folds for each of 16 candidates, totalling 80 fits\n",
      "[CV] colsample_bytree=0.6, subsample=0.6 .............................\n",
      "[CV] ... colsample_bytree=0.6, subsample=0.6, score=-0.940323 -   6.2s\n",
      "[CV] colsample_bytree=0.6, subsample=0.6 .............................\n"
     ]
    },
    {
     "name": "stderr",
     "output_type": "stream",
     "text": [
      "[Parallel(n_jobs=1)]: Done   1 out of   1 | elapsed:    6.3s remaining:    0.0s\n"
     ]
    },
    {
     "name": "stdout",
     "output_type": "stream",
     "text": [
      "[CV] ... colsample_bytree=0.6, subsample=0.6, score=-0.936649 -   6.0s\n",
      "[CV] colsample_bytree=0.6, subsample=0.6 .............................\n"
     ]
    },
    {
     "name": "stderr",
     "output_type": "stream",
     "text": [
      "[Parallel(n_jobs=1)]: Done   2 out of   2 | elapsed:   12.3s remaining:    0.0s\n"
     ]
    },
    {
     "name": "stdout",
     "output_type": "stream",
     "text": [
      "[CV] ... colsample_bytree=0.6, subsample=0.6, score=-0.959963 -   6.0s\n",
      "[CV] colsample_bytree=0.6, subsample=0.6 .............................\n",
      "[CV] ... colsample_bytree=0.6, subsample=0.6, score=-0.970876 -   5.9s\n",
      "[CV] colsample_bytree=0.6, subsample=0.6 .............................\n",
      "[CV] ... colsample_bytree=0.6, subsample=0.6, score=-0.949195 -   6.1s\n",
      "[CV] colsample_bytree=0.6, subsample=0.7 .............................\n",
      "[CV] ... colsample_bytree=0.6, subsample=0.7, score=-0.939753 -   5.7s\n",
      "[CV] colsample_bytree=0.6, subsample=0.7 .............................\n",
      "[CV] ... colsample_bytree=0.6, subsample=0.7, score=-0.939112 -   5.7s\n",
      "[CV] colsample_bytree=0.6, subsample=0.7 .............................\n",
      "[CV] ... colsample_bytree=0.6, subsample=0.7, score=-0.958484 -   5.8s\n",
      "[CV] colsample_bytree=0.6, subsample=0.7 .............................\n",
      "[CV] ... colsample_bytree=0.6, subsample=0.7, score=-0.969728 -   5.7s\n",
      "[CV] colsample_bytree=0.6, subsample=0.7 .............................\n",
      "[CV] ... colsample_bytree=0.6, subsample=0.7, score=-0.947567 -   5.5s\n",
      "[CV] colsample_bytree=0.6, subsample=0.8 .............................\n",
      "[CV] ... colsample_bytree=0.6, subsample=0.8, score=-0.939043 -   5.6s\n",
      "[CV] colsample_bytree=0.6, subsample=0.8 .............................\n",
      "[CV] ... colsample_bytree=0.6, subsample=0.8, score=-0.937861 -   6.4s\n",
      "[CV] colsample_bytree=0.6, subsample=0.8 .............................\n",
      "[CV] ... colsample_bytree=0.6, subsample=0.8, score=-0.959059 -   6.2s\n",
      "[CV] colsample_bytree=0.6, subsample=0.8 .............................\n",
      "[CV] ... colsample_bytree=0.6, subsample=0.8, score=-0.969739 -   6.9s\n",
      "[CV] colsample_bytree=0.6, subsample=0.8 .............................\n",
      "[CV] ... colsample_bytree=0.6, subsample=0.8, score=-0.948490 -   5.9s\n",
      "[CV] colsample_bytree=0.6, subsample=0.9 .............................\n",
      "[CV] ... colsample_bytree=0.6, subsample=0.9, score=-0.940797 -   5.7s\n",
      "[CV] colsample_bytree=0.6, subsample=0.9 .............................\n",
      "[CV] ... colsample_bytree=0.6, subsample=0.9, score=-0.938394 -   5.3s\n",
      "[CV] colsample_bytree=0.6, subsample=0.9 .............................\n",
      "[CV] ... colsample_bytree=0.6, subsample=0.9, score=-0.958736 -   5.3s\n",
      "[CV] colsample_bytree=0.6, subsample=0.9 .............................\n",
      "[CV] ... colsample_bytree=0.6, subsample=0.9, score=-0.969616 -   6.1s\n",
      "[CV] colsample_bytree=0.6, subsample=0.9 .............................\n",
      "[CV] ... colsample_bytree=0.6, subsample=0.9, score=-0.947846 -   5.7s\n",
      "[CV] colsample_bytree=0.7, subsample=0.6 .............................\n",
      "[CV] ... colsample_bytree=0.7, subsample=0.6, score=-0.939760 -   7.6s\n",
      "[CV] colsample_bytree=0.7, subsample=0.6 .............................\n",
      "[CV] ... colsample_bytree=0.7, subsample=0.6, score=-0.937819 -   7.2s\n",
      "[CV] colsample_bytree=0.7, subsample=0.6 .............................\n",
      "[CV] ... colsample_bytree=0.7, subsample=0.6, score=-0.961658 -   8.4s\n",
      "[CV] colsample_bytree=0.7, subsample=0.6 .............................\n",
      "[CV] ... colsample_bytree=0.7, subsample=0.6, score=-0.972748 -   7.7s\n",
      "[CV] colsample_bytree=0.7, subsample=0.6 .............................\n",
      "[CV] ... colsample_bytree=0.7, subsample=0.6, score=-0.949174 -   7.8s\n",
      "[CV] colsample_bytree=0.7, subsample=0.7 .............................\n",
      "[CV] ... colsample_bytree=0.7, subsample=0.7, score=-0.939988 -   6.3s\n",
      "[CV] colsample_bytree=0.7, subsample=0.7 .............................\n",
      "[CV] ... colsample_bytree=0.7, subsample=0.7, score=-0.938162 -   6.1s\n",
      "[CV] colsample_bytree=0.7, subsample=0.7 .............................\n",
      "[CV] ... colsample_bytree=0.7, subsample=0.7, score=-0.959836 -   6.4s\n",
      "[CV] colsample_bytree=0.7, subsample=0.7 .............................\n",
      "[CV] ... colsample_bytree=0.7, subsample=0.7, score=-0.971166 -   6.2s\n",
      "[CV] colsample_bytree=0.7, subsample=0.7 .............................\n",
      "[CV] ... colsample_bytree=0.7, subsample=0.7, score=-0.948185 -   6.6s\n",
      "[CV] colsample_bytree=0.7, subsample=0.8 .............................\n",
      "[CV] ... colsample_bytree=0.7, subsample=0.8, score=-0.939177 -   6.0s\n",
      "[CV] colsample_bytree=0.7, subsample=0.8 .............................\n",
      "[CV] ... colsample_bytree=0.7, subsample=0.8, score=-0.938121 -   6.8s\n",
      "[CV] colsample_bytree=0.7, subsample=0.8 .............................\n",
      "[CV] ... colsample_bytree=0.7, subsample=0.8, score=-0.960363 -   7.2s\n",
      "[CV] colsample_bytree=0.7, subsample=0.8 .............................\n",
      "[CV] ... colsample_bytree=0.7, subsample=0.8, score=-0.969754 -   7.5s\n",
      "[CV] colsample_bytree=0.7, subsample=0.8 .............................\n",
      "[CV] ... colsample_bytree=0.7, subsample=0.8, score=-0.949063 -   8.2s\n",
      "[CV] colsample_bytree=0.7, subsample=0.9 .............................\n",
      "[CV] ... colsample_bytree=0.7, subsample=0.9, score=-0.940644 -   7.7s\n",
      "[CV] colsample_bytree=0.7, subsample=0.9 .............................\n",
      "[CV] ... colsample_bytree=0.7, subsample=0.9, score=-0.939787 -   8.0s\n",
      "[CV] colsample_bytree=0.7, subsample=0.9 .............................\n",
      "[CV] ... colsample_bytree=0.7, subsample=0.9, score=-0.958903 -   8.9s\n",
      "[CV] colsample_bytree=0.7, subsample=0.9 .............................\n",
      "[CV] ... colsample_bytree=0.7, subsample=0.9, score=-0.969296 -   7.3s\n",
      "[CV] colsample_bytree=0.7, subsample=0.9 .............................\n",
      "[CV] ... colsample_bytree=0.7, subsample=0.9, score=-0.947956 -   7.6s\n",
      "[CV] colsample_bytree=0.8, subsample=0.6 .............................\n",
      "[CV] ... colsample_bytree=0.8, subsample=0.6, score=-0.940829 -   8.6s\n",
      "[CV] colsample_bytree=0.8, subsample=0.6 .............................\n",
      "[CV] ... colsample_bytree=0.8, subsample=0.6, score=-0.938145 -   8.8s\n",
      "[CV] colsample_bytree=0.8, subsample=0.6 .............................\n",
      "[CV] ... colsample_bytree=0.8, subsample=0.6, score=-0.962027 -   8.7s\n",
      "[CV] colsample_bytree=0.8, subsample=0.6 .............................\n",
      "[CV] ... colsample_bytree=0.8, subsample=0.6, score=-0.972257 -   8.8s\n",
      "[CV] colsample_bytree=0.8, subsample=0.6 .............................\n",
      "[CV] ... colsample_bytree=0.8, subsample=0.6, score=-0.950308 -   7.6s\n",
      "[CV] colsample_bytree=0.8, subsample=0.7 .............................\n",
      "[CV] ... colsample_bytree=0.8, subsample=0.7, score=-0.939939 -   7.7s\n",
      "[CV] colsample_bytree=0.8, subsample=0.7 .............................\n",
      "[CV] ... colsample_bytree=0.8, subsample=0.7, score=-0.937502 -   8.2s\n",
      "[CV] colsample_bytree=0.8, subsample=0.7 .............................\n",
      "[CV] ... colsample_bytree=0.8, subsample=0.7, score=-0.959813 -   8.6s\n",
      "[CV] colsample_bytree=0.8, subsample=0.7 .............................\n",
      "[CV] ... colsample_bytree=0.8, subsample=0.7, score=-0.969981 -   7.5s\n",
      "[CV] colsample_bytree=0.8, subsample=0.7 .............................\n",
      "[CV] ... colsample_bytree=0.8, subsample=0.7, score=-0.948149 -   7.0s\n",
      "[CV] colsample_bytree=0.8, subsample=0.8 .............................\n",
      "[CV] ... colsample_bytree=0.8, subsample=0.8, score=-0.940693 -   7.6s\n",
      "[CV] colsample_bytree=0.8, subsample=0.8 .............................\n",
      "[CV] ... colsample_bytree=0.8, subsample=0.8, score=-0.937875 -   8.9s\n",
      "[CV] colsample_bytree=0.8, subsample=0.8 .............................\n",
      "[CV] ... colsample_bytree=0.8, subsample=0.8, score=-0.961460 -   8.6s\n",
      "[CV] colsample_bytree=0.8, subsample=0.8 .............................\n",
      "[CV] ... colsample_bytree=0.8, subsample=0.8, score=-0.970525 -   8.4s\n",
      "[CV] colsample_bytree=0.8, subsample=0.8 .............................\n",
      "[CV] ... colsample_bytree=0.8, subsample=0.8, score=-0.949514 -   7.4s\n",
      "[CV] colsample_bytree=0.8, subsample=0.9 .............................\n",
      "[CV] ... colsample_bytree=0.8, subsample=0.9, score=-0.940817 -   7.3s\n",
      "[CV] colsample_bytree=0.8, subsample=0.9 .............................\n",
      "[CV] ... colsample_bytree=0.8, subsample=0.9, score=-0.939943 -   7.8s\n",
      "[CV] colsample_bytree=0.8, subsample=0.9 .............................\n",
      "[CV] ... colsample_bytree=0.8, subsample=0.9, score=-0.960207 -   7.3s\n",
      "[CV] colsample_bytree=0.8, subsample=0.9 .............................\n",
      "[CV] ... colsample_bytree=0.8, subsample=0.9, score=-0.970522 -   7.7s\n",
      "[CV] colsample_bytree=0.8, subsample=0.9 .............................\n",
      "[CV] ... colsample_bytree=0.8, subsample=0.9, score=-0.948701 -   8.0s\n",
      "[CV] colsample_bytree=0.9, subsample=0.6 .............................\n",
      "[CV] ... colsample_bytree=0.9, subsample=0.6, score=-0.940368 -   8.5s\n",
      "[CV] colsample_bytree=0.9, subsample=0.6 .............................\n",
      "[CV] ... colsample_bytree=0.9, subsample=0.6, score=-0.939667 -   8.7s\n",
      "[CV] colsample_bytree=0.9, subsample=0.6 .............................\n",
      "[CV] ... colsample_bytree=0.9, subsample=0.6, score=-0.962667 -   9.3s\n",
      "[CV] colsample_bytree=0.9, subsample=0.6 .............................\n",
      "[CV] ... colsample_bytree=0.9, subsample=0.6, score=-0.972231 -   9.4s\n",
      "[CV] colsample_bytree=0.9, subsample=0.6 .............................\n",
      "[CV] ... colsample_bytree=0.9, subsample=0.6, score=-0.951198 -   8.8s\n",
      "[CV] colsample_bytree=0.9, subsample=0.7 .............................\n",
      "[CV] ... colsample_bytree=0.9, subsample=0.7, score=-0.940501 -   7.9s\n",
      "[CV] colsample_bytree=0.9, subsample=0.7 .............................\n",
      "[CV] ... colsample_bytree=0.9, subsample=0.7, score=-0.938080 -   7.8s\n",
      "[CV] colsample_bytree=0.9, subsample=0.7 .............................\n",
      "[CV] ... colsample_bytree=0.9, subsample=0.7, score=-0.959693 -   8.9s\n",
      "[CV] colsample_bytree=0.9, subsample=0.7 .............................\n",
      "[CV] ... colsample_bytree=0.9, subsample=0.7, score=-0.970014 -   8.4s\n",
      "[CV] colsample_bytree=0.9, subsample=0.7 .............................\n",
      "[CV] ... colsample_bytree=0.9, subsample=0.7, score=-0.949542 -   8.6s\n",
      "[CV] colsample_bytree=0.9, subsample=0.8 .............................\n",
      "[CV] ... colsample_bytree=0.9, subsample=0.8, score=-0.940972 -   9.6s\n",
      "[CV] colsample_bytree=0.9, subsample=0.8 .............................\n",
      "[CV] ... colsample_bytree=0.9, subsample=0.8, score=-0.939282 -   9.3s\n",
      "[CV] colsample_bytree=0.9, subsample=0.8 .............................\n",
      "[CV] ... colsample_bytree=0.9, subsample=0.8, score=-0.961256 -   9.5s\n",
      "[CV] colsample_bytree=0.9, subsample=0.8 .............................\n",
      "[CV] ... colsample_bytree=0.9, subsample=0.8, score=-0.972025 -   7.8s\n",
      "[CV] colsample_bytree=0.9, subsample=0.8 .............................\n",
      "[CV] ... colsample_bytree=0.9, subsample=0.8, score=-0.950073 -   7.3s\n",
      "[CV] colsample_bytree=0.9, subsample=0.9 .............................\n",
      "[CV] ... colsample_bytree=0.9, subsample=0.9, score=-0.941082 -   7.2s\n",
      "[CV] colsample_bytree=0.9, subsample=0.9 .............................\n",
      "[CV] ... colsample_bytree=0.9, subsample=0.9, score=-0.940255 -   7.2s\n",
      "[CV] colsample_bytree=0.9, subsample=0.9 .............................\n",
      "[CV] ... colsample_bytree=0.9, subsample=0.9, score=-0.960462 -   7.9s\n",
      "[CV] colsample_bytree=0.9, subsample=0.9 .............................\n",
      "[CV] ... colsample_bytree=0.9, subsample=0.9, score=-0.971570 -   8.2s\n",
      "[CV] colsample_bytree=0.9, subsample=0.9 .............................\n",
      "[CV] ... colsample_bytree=0.9, subsample=0.9, score=-0.948189 -   8.3s\n"
     ]
    },
    {
     "name": "stderr",
     "output_type": "stream",
     "text": [
      "[Parallel(n_jobs=1)]: Done  80 out of  80 | elapsed:  9.9min finished\n"
     ]
    },
    {
     "data": {
      "text/plain": [
       "([mean: -0.95140, std: 0.01263, params: {'colsample_bytree': 0.6, 'subsample': 0.6},\n",
       "  mean: -0.95092, std: 0.01172, params: {'colsample_bytree': 0.6, 'subsample': 0.7},\n",
       "  mean: -0.95083, std: 0.01215, params: {'colsample_bytree': 0.6, 'subsample': 0.8},\n",
       "  mean: -0.95107, std: 0.01166, params: {'colsample_bytree': 0.6, 'subsample': 0.9},\n",
       "  mean: -0.95223, std: 0.01328, params: {'colsample_bytree': 0.7, 'subsample': 0.6},\n",
       "  mean: -0.95146, std: 0.01247, params: {'colsample_bytree': 0.7, 'subsample': 0.7},\n",
       "  mean: -0.95129, std: 0.01223, params: {'colsample_bytree': 0.7, 'subsample': 0.8},\n",
       "  mean: -0.95131, std: 0.01130, params: {'colsample_bytree': 0.7, 'subsample': 0.9},\n",
       "  mean: -0.95271, std: 0.01287, params: {'colsample_bytree': 0.8, 'subsample': 0.6},\n",
       "  mean: -0.95107, std: 0.01225, params: {'colsample_bytree': 0.8, 'subsample': 0.7},\n",
       "  mean: -0.95201, std: 0.01238, params: {'colsample_bytree': 0.8, 'subsample': 0.8},\n",
       "  mean: -0.95203, std: 0.01176, params: {'colsample_bytree': 0.8, 'subsample': 0.9},\n",
       "  mean: -0.95322, std: 0.01268, params: {'colsample_bytree': 0.9, 'subsample': 0.6},\n",
       "  mean: -0.95156, std: 0.01196, params: {'colsample_bytree': 0.9, 'subsample': 0.7},\n",
       "  mean: -0.95272, std: 0.01242, params: {'colsample_bytree': 0.9, 'subsample': 0.8},\n",
       "  mean: -0.95231, std: 0.01205, params: {'colsample_bytree': 0.9, 'subsample': 0.9}],\n",
       " {'colsample_bytree': 0.6, 'subsample': 0.8},\n",
       " -0.9508336147393949)"
      ]
     },
     "execution_count": 13,
     "metadata": {},
     "output_type": "execute_result"
    }
   ],
   "source": [
    "param_grid8 = [{\"subsample\": [0.6, 0.7, 0.8, 0.9],\n",
    "                 \"colsample_bytree\": [0.6, 0.7, 0.8, 0.9]}]\n",
    "xgb8 = xgb.XGBClassifier(learning_rate=0.1, n_estimators=118,\n",
    "                         max_depth=4, min_child_weight=8,\n",
    "                         gamma=0.1,\n",
    "                         reg_alpha=0, reg_lambda=1,\n",
    "                         objective=\"multi:softprob\")\n",
    "gs8 = GridSearchCV(xgb8, param_grid8, fit_params={\"eval_metric\": \"mlogloss\"},\n",
    "                    scoring=scorer, n_jobs=1, cv=5, verbose=3)\n",
    "gs8.fit(train_data, train_label)\n",
    "gs8.grid_scores_, gs8.best_params_, gs8.best_score_"
   ]
  },
  {
   "cell_type": "code",
   "execution_count": 15,
   "metadata": {
    "collapsed": false
   },
   "outputs": [
    {
     "name": "stdout",
     "output_type": "stream",
     "text": [
      "Fitting 5 folds for each of 9 candidates, totalling 45 fits\n",
      "[CV] colsample_bytree=0.65, subsample=0.75 ...........................\n",
      "[CV] . colsample_bytree=0.65, subsample=0.75, score=-0.940126 -   6.0s\n",
      "[CV] colsample_bytree=0.65, subsample=0.75 ...........................\n"
     ]
    },
    {
     "name": "stderr",
     "output_type": "stream",
     "text": [
      "[Parallel(n_jobs=1)]: Done   1 out of   1 | elapsed:    6.0s remaining:    0.0s\n"
     ]
    },
    {
     "name": "stdout",
     "output_type": "stream",
     "text": [
      "[CV] . colsample_bytree=0.65, subsample=0.75, score=-0.938283 -   6.0s\n",
      "[CV] colsample_bytree=0.65, subsample=0.75 ...........................\n"
     ]
    },
    {
     "name": "stderr",
     "output_type": "stream",
     "text": [
      "[Parallel(n_jobs=1)]: Done   2 out of   2 | elapsed:   12.0s remaining:    0.0s\n"
     ]
    },
    {
     "name": "stdout",
     "output_type": "stream",
     "text": [
      "[CV] . colsample_bytree=0.65, subsample=0.75, score=-0.960088 -   7.1s\n",
      "[CV] colsample_bytree=0.65, subsample=0.75 ...........................\n",
      "[CV] . colsample_bytree=0.65, subsample=0.75, score=-0.970676 -   6.3s\n",
      "[CV] colsample_bytree=0.65, subsample=0.75 ...........................\n",
      "[CV] . colsample_bytree=0.65, subsample=0.75, score=-0.949548 -   6.6s\n",
      "[CV] colsample_bytree=0.65, subsample=0.8 ............................\n",
      "[CV] .. colsample_bytree=0.65, subsample=0.8, score=-0.940019 -   6.7s\n",
      "[CV] colsample_bytree=0.65, subsample=0.8 ............................\n",
      "[CV] .. colsample_bytree=0.65, subsample=0.8, score=-0.938709 -   6.9s\n",
      "[CV] colsample_bytree=0.65, subsample=0.8 ............................\n",
      "[CV] .. colsample_bytree=0.65, subsample=0.8, score=-0.959874 -   6.8s\n",
      "[CV] colsample_bytree=0.65, subsample=0.8 ............................\n",
      "[CV] .. colsample_bytree=0.65, subsample=0.8, score=-0.970150 -   6.5s\n",
      "[CV] colsample_bytree=0.65, subsample=0.8 ............................\n",
      "[CV] .. colsample_bytree=0.65, subsample=0.8, score=-0.950187 -   7.2s\n",
      "[CV] colsample_bytree=0.65, subsample=0.85 ...........................\n",
      "[CV] . colsample_bytree=0.65, subsample=0.85, score=-0.940504 -   7.8s\n",
      "[CV] colsample_bytree=0.65, subsample=0.85 ...........................\n",
      "[CV] . colsample_bytree=0.65, subsample=0.85, score=-0.938556 -   7.0s\n",
      "[CV] colsample_bytree=0.65, subsample=0.85 ...........................\n",
      "[CV] . colsample_bytree=0.65, subsample=0.85, score=-0.959530 -   7.6s\n",
      "[CV] colsample_bytree=0.65, subsample=0.85 ...........................\n",
      "[CV] . colsample_bytree=0.65, subsample=0.85, score=-0.969387 -   7.6s\n",
      "[CV] colsample_bytree=0.65, subsample=0.85 ...........................\n",
      "[CV] . colsample_bytree=0.65, subsample=0.85, score=-0.948941 -   7.3s\n",
      "[CV] colsample_bytree=0.7, subsample=0.75 ............................\n",
      "[CV] .. colsample_bytree=0.7, subsample=0.75, score=-0.939838 -   7.2s\n",
      "[CV] colsample_bytree=0.7, subsample=0.75 ............................\n",
      "[CV] .. colsample_bytree=0.7, subsample=0.75, score=-0.938511 -   7.3s\n",
      "[CV] colsample_bytree=0.7, subsample=0.75 ............................\n",
      "[CV] .. colsample_bytree=0.7, subsample=0.75, score=-0.960692 -   7.5s\n",
      "[CV] colsample_bytree=0.7, subsample=0.75 ............................\n",
      "[CV] .. colsample_bytree=0.7, subsample=0.75, score=-0.970372 -   7.5s\n",
      "[CV] colsample_bytree=0.7, subsample=0.75 ............................\n",
      "[CV] .. colsample_bytree=0.7, subsample=0.75, score=-0.949000 -   8.1s\n",
      "[CV] colsample_bytree=0.7, subsample=0.8 .............................\n",
      "[CV] ... colsample_bytree=0.7, subsample=0.8, score=-0.939177 -   7.8s\n",
      "[CV] colsample_bytree=0.7, subsample=0.8 .............................\n",
      "[CV] ... colsample_bytree=0.7, subsample=0.8, score=-0.938121 -   8.1s\n",
      "[CV] colsample_bytree=0.7, subsample=0.8 .............................\n",
      "[CV] ... colsample_bytree=0.7, subsample=0.8, score=-0.960363 -   8.3s\n",
      "[CV] colsample_bytree=0.7, subsample=0.8 .............................\n",
      "[CV] ... colsample_bytree=0.7, subsample=0.8, score=-0.969754 -   6.6s\n",
      "[CV] colsample_bytree=0.7, subsample=0.8 .............................\n",
      "[CV] ... colsample_bytree=0.7, subsample=0.8, score=-0.949063 -   7.9s\n",
      "[CV] colsample_bytree=0.7, subsample=0.85 ............................\n",
      "[CV] .. colsample_bytree=0.7, subsample=0.85, score=-0.940325 -   8.3s\n",
      "[CV] colsample_bytree=0.7, subsample=0.85 ............................\n",
      "[CV] .. colsample_bytree=0.7, subsample=0.85, score=-0.938280 -   8.0s\n",
      "[CV] colsample_bytree=0.7, subsample=0.85 ............................\n",
      "[CV] .. colsample_bytree=0.7, subsample=0.85, score=-0.959882 -   7.6s\n",
      "[CV] colsample_bytree=0.7, subsample=0.85 ............................\n",
      "[CV] .. colsample_bytree=0.7, subsample=0.85, score=-0.970103 -   8.5s\n",
      "[CV] colsample_bytree=0.7, subsample=0.85 ............................\n",
      "[CV] .. colsample_bytree=0.7, subsample=0.85, score=-0.948213 -   7.9s\n",
      "[CV] colsample_bytree=0.75, subsample=0.75 ...........................\n",
      "[CV] . colsample_bytree=0.75, subsample=0.75, score=-0.939613 -   8.3s\n",
      "[CV] colsample_bytree=0.75, subsample=0.75 ...........................\n",
      "[CV] . colsample_bytree=0.75, subsample=0.75, score=-0.938909 -   8.4s\n",
      "[CV] colsample_bytree=0.75, subsample=0.75 ...........................\n",
      "[CV] . colsample_bytree=0.75, subsample=0.75, score=-0.960651 -   8.4s\n",
      "[CV] colsample_bytree=0.75, subsample=0.75 ...........................\n",
      "[CV] . colsample_bytree=0.75, subsample=0.75, score=-0.970026 -   8.4s\n",
      "[CV] colsample_bytree=0.75, subsample=0.75 ...........................\n",
      "[CV] . colsample_bytree=0.75, subsample=0.75, score=-0.948761 -   8.6s\n",
      "[CV] colsample_bytree=0.75, subsample=0.8 ............................\n",
      "[CV] .. colsample_bytree=0.75, subsample=0.8, score=-0.939277 -   8.2s\n",
      "[CV] colsample_bytree=0.75, subsample=0.8 ............................\n",
      "[CV] .. colsample_bytree=0.75, subsample=0.8, score=-0.937084 -   7.3s\n",
      "[CV] colsample_bytree=0.75, subsample=0.8 ............................\n",
      "[CV] .. colsample_bytree=0.75, subsample=0.8, score=-0.960800 -   7.4s\n",
      "[CV] colsample_bytree=0.75, subsample=0.8 ............................\n",
      "[CV] .. colsample_bytree=0.75, subsample=0.8, score=-0.969565 -   7.7s\n",
      "[CV] colsample_bytree=0.75, subsample=0.8 ............................\n",
      "[CV] .. colsample_bytree=0.75, subsample=0.8, score=-0.948793 -   8.6s\n",
      "[CV] colsample_bytree=0.75, subsample=0.85 ...........................\n",
      "[CV] . colsample_bytree=0.75, subsample=0.85, score=-0.940744 -   7.8s\n",
      "[CV] colsample_bytree=0.75, subsample=0.85 ...........................\n",
      "[CV] . colsample_bytree=0.75, subsample=0.85, score=-0.937727 -   7.7s\n",
      "[CV] colsample_bytree=0.75, subsample=0.85 ...........................\n",
      "[CV] . colsample_bytree=0.75, subsample=0.85, score=-0.959452 -   7.8s\n",
      "[CV] colsample_bytree=0.75, subsample=0.85 ...........................\n",
      "[CV] . colsample_bytree=0.75, subsample=0.85, score=-0.969762 -   7.2s\n",
      "[CV] colsample_bytree=0.75, subsample=0.85 ...........................\n",
      "[CV] . colsample_bytree=0.75, subsample=0.85, score=-0.948655 -   7.5s\n"
     ]
    },
    {
     "name": "stderr",
     "output_type": "stream",
     "text": [
      "[Parallel(n_jobs=1)]: Done  45 out of  45 | elapsed:  5.7min finished\n"
     ]
    },
    {
     "data": {
      "text/plain": [
       "([mean: -0.95174, std: 0.01224, params: {'colsample_bytree': 0.65, 'subsample': 0.75},\n",
       "  mean: -0.95178, std: 0.01196, params: {'colsample_bytree': 0.65, 'subsample': 0.8},\n",
       "  mean: -0.95138, std: 0.01166, params: {'colsample_bytree': 0.65, 'subsample': 0.85},\n",
       "  mean: -0.95168, std: 0.01226, params: {'colsample_bytree': 0.7, 'subsample': 0.75},\n",
       "  mean: -0.95129, std: 0.01223, params: {'colsample_bytree': 0.7, 'subsample': 0.8},\n",
       "  mean: -0.95136, std: 0.01206, params: {'colsample_bytree': 0.7, 'subsample': 0.85},\n",
       "  mean: -0.95159, std: 0.01212, params: {'colsample_bytree': 0.75, 'subsample': 0.75},\n",
       "  mean: -0.95110, std: 0.01246, params: {'colsample_bytree': 0.75, 'subsample': 0.8},\n",
       "  mean: -0.95126, std: 0.01192, params: {'colsample_bytree': 0.75, 'subsample': 0.85}],\n",
       " {'colsample_bytree': 0.75, 'subsample': 0.8},\n",
       " -0.9510992979999632)"
      ]
     },
     "execution_count": 15,
     "metadata": {},
     "output_type": "execute_result"
    }
   ],
   "source": [
    "param_grid9 = [{\"subsample\": [0.75, 0.8, 0.85],\n",
    "                 \"colsample_bytree\": [0.65, 0.7, 0.75]}]\n",
    "xgb9 = xgb.XGBClassifier(learning_rate=0.1, n_estimators=118,\n",
    "                         max_depth=4, min_child_weight=8,\n",
    "                         gamma=0.1,\n",
    "                         reg_alpha=0, reg_lambda=1,\n",
    "                         objective=\"multi:softprob\")\n",
    "gs9 = GridSearchCV(xgb9, param_grid9, fit_params={\"eval_metric\": \"mlogloss\"},\n",
    "                    scoring=scorer, n_jobs=1, cv=5, verbose=3)\n",
    "gs9.fit(train_data, train_label)\n",
    "gs9.grid_scores_, gs9.best_params_, gs9.best_score_"
   ]
  },
  {
   "cell_type": "markdown",
   "metadata": {},
   "source": [
    "# Grid search reg_alpha\n",
    "n_estimators = 118, max_depth = 4, min_child_weight = 8, gamma = 0.1, colsample_bytree = 0.75, subsample = 0.8"
   ]
  },
  {
   "cell_type": "code",
   "execution_count": 17,
   "metadata": {
    "collapsed": false
   },
   "outputs": [
    {
     "name": "stdout",
     "output_type": "stream",
     "text": [
      "Fitting 5 folds for each of 4 candidates, totalling 20 fits\n",
      "[CV] reg_alpha=0.001 .................................................\n",
      "[CV] ....................... reg_alpha=0.001, score=-0.939464 -   6.7s\n",
      "[CV] reg_alpha=0.001 .................................................\n"
     ]
    },
    {
     "name": "stderr",
     "output_type": "stream",
     "text": [
      "[Parallel(n_jobs=1)]: Done   1 out of   1 | elapsed:    6.7s remaining:    0.0s\n"
     ]
    },
    {
     "name": "stdout",
     "output_type": "stream",
     "text": [
      "[CV] ....................... reg_alpha=0.001, score=-0.937084 -   6.9s\n",
      "[CV] reg_alpha=0.001 .................................................\n"
     ]
    },
    {
     "name": "stderr",
     "output_type": "stream",
     "text": [
      "[Parallel(n_jobs=1)]: Done   2 out of   2 | elapsed:   13.6s remaining:    0.0s\n"
     ]
    },
    {
     "name": "stdout",
     "output_type": "stream",
     "text": [
      "[CV] ....................... reg_alpha=0.001, score=-0.960800 -   6.5s\n",
      "[CV] reg_alpha=0.001 .................................................\n",
      "[CV] ....................... reg_alpha=0.001, score=-0.969119 -   7.5s\n",
      "[CV] reg_alpha=0.001 .................................................\n",
      "[CV] ....................... reg_alpha=0.001, score=-0.948789 -   6.5s\n",
      "[CV] reg_alpha=0.005 .................................................\n",
      "[CV] ....................... reg_alpha=0.005, score=-0.939564 -   6.5s\n",
      "[CV] reg_alpha=0.005 .................................................\n",
      "[CV] ....................... reg_alpha=0.005, score=-0.937428 -   6.5s\n",
      "[CV] reg_alpha=0.005 .................................................\n",
      "[CV] ....................... reg_alpha=0.005, score=-0.960794 -   7.1s\n",
      "[CV] reg_alpha=0.005 .................................................\n",
      "[CV] ....................... reg_alpha=0.005, score=-0.968542 -   6.9s\n",
      "[CV] reg_alpha=0.005 .................................................\n",
      "[CV] ....................... reg_alpha=0.005, score=-0.948570 -   6.5s\n",
      "[CV] reg_alpha=0.01 ..................................................\n",
      "[CV] ........................ reg_alpha=0.01, score=-0.939582 -   6.5s\n",
      "[CV] reg_alpha=0.01 ..................................................\n",
      "[CV] ........................ reg_alpha=0.01, score=-0.937192 -   7.1s\n",
      "[CV] reg_alpha=0.01 ..................................................\n",
      "[CV] ........................ reg_alpha=0.01, score=-0.960535 -   7.4s\n",
      "[CV] reg_alpha=0.01 ..................................................\n",
      "[CV] ........................ reg_alpha=0.01, score=-0.968665 -   7.6s\n",
      "[CV] reg_alpha=0.01 ..................................................\n",
      "[CV] ........................ reg_alpha=0.01, score=-0.948374 -   8.0s\n",
      "[CV] reg_alpha=0.05 ..................................................\n",
      "[CV] ........................ reg_alpha=0.05, score=-0.939035 -   8.1s\n",
      "[CV] reg_alpha=0.05 ..................................................\n",
      "[CV] ........................ reg_alpha=0.05, score=-0.936886 -   8.0s\n",
      "[CV] reg_alpha=0.05 ..................................................\n",
      "[CV] ........................ reg_alpha=0.05, score=-0.959886 -   7.3s\n",
      "[CV] reg_alpha=0.05 ..................................................\n",
      "[CV] ........................ reg_alpha=0.05, score=-0.969311 -   7.6s\n",
      "[CV] reg_alpha=0.05 ..................................................\n",
      "[CV] ........................ reg_alpha=0.05, score=-0.948622 -   7.5s\n"
     ]
    },
    {
     "name": "stderr",
     "output_type": "stream",
     "text": [
      "[Parallel(n_jobs=1)]: Done  20 out of  20 | elapsed:  2.4min finished\n"
     ]
    },
    {
     "data": {
      "text/plain": [
       "([mean: -0.95105, std: 0.01230, params: {'reg_alpha': 0.001},\n",
       "  mean: -0.95098, std: 0.01204, params: {'reg_alpha': 0.005},\n",
       "  mean: -0.95087, std: 0.01209, params: {'reg_alpha': 0.01},\n",
       "  mean: -0.95074, std: 0.01234, params: {'reg_alpha': 0.05}],\n",
       " {'reg_alpha': 0.05},\n",
       " -0.9507430974015214)"
      ]
     },
     "execution_count": 17,
     "metadata": {},
     "output_type": "execute_result"
    }
   ],
   "source": [
    "param_grid10 = [{\"reg_alpha\": [0.001, 0.005, 0.01, 0.05]}]\n",
    "xgb10 = xgb.XGBClassifier(learning_rate=0.1, n_estimators=118,\n",
    "                         max_depth=4, min_child_weight=8,\n",
    "                         gamma=0.1,\n",
    "                         subsample=0.8, colsample_bytree=0.75,\n",
    "                         reg_lambda=1,\n",
    "                         objective=\"multi:softprob\")\n",
    "gs10 = GridSearchCV(xgb10, param_grid10, fit_params={\"eval_metric\": \"mlogloss\"},\n",
    "                    scoring=scorer, n_jobs=1, cv=5, verbose=3)\n",
    "gs10.fit(train_data, train_label)\n",
    "gs10.grid_scores_, gs10.best_params_, gs10.best_score_"
   ]
  },
  {
   "cell_type": "markdown",
   "metadata": {},
   "source": [
    "# Grid search reg_lambda\n",
    "n_estimators = 118, max_depth = 4, min_child_weight = 8, \n",
    "gamma = 0.1, colsample_bytree = 0.75, subsample = 0.8, reg_alpha = 0.05"
   ]
  },
  {
   "cell_type": "code",
   "execution_count": 19,
   "metadata": {
    "collapsed": false
   },
   "outputs": [
    {
     "name": "stdout",
     "output_type": "stream",
     "text": [
      "Fitting 5 folds for each of 5 candidates, totalling 25 fits\n",
      "[CV] reg_lambda=1e-05 ................................................\n",
      "[CV] ...................... reg_lambda=1e-05, score=-0.939502 -   6.8s\n",
      "[CV] reg_lambda=1e-05 ................................................\n"
     ]
    },
    {
     "name": "stderr",
     "output_type": "stream",
     "text": [
      "[Parallel(n_jobs=1)]: Done   1 out of   1 | elapsed:    6.8s remaining:    0.0s\n"
     ]
    },
    {
     "name": "stdout",
     "output_type": "stream",
     "text": [
      "[CV] ...................... reg_lambda=1e-05, score=-0.936256 -   6.6s\n",
      "[CV] reg_lambda=1e-05 ................................................\n"
     ]
    },
    {
     "name": "stderr",
     "output_type": "stream",
     "text": [
      "[Parallel(n_jobs=1)]: Done   2 out of   2 | elapsed:   13.3s remaining:    0.0s\n"
     ]
    },
    {
     "name": "stdout",
     "output_type": "stream",
     "text": [
      "[CV] ...................... reg_lambda=1e-05, score=-0.961342 -   8.1s\n",
      "[CV] reg_lambda=1e-05 ................................................\n",
      "[CV] ...................... reg_lambda=1e-05, score=-0.969596 -   8.3s\n",
      "[CV] reg_lambda=1e-05 ................................................\n",
      "[CV] ...................... reg_lambda=1e-05, score=-0.948598 -   8.5s\n",
      "[CV] reg_lambda=0.01 .................................................\n",
      "[CV] ....................... reg_lambda=0.01, score=-0.939661 -   7.5s\n",
      "[CV] reg_lambda=0.01 .................................................\n",
      "[CV] ....................... reg_lambda=0.01, score=-0.936524 -   7.3s\n",
      "[CV] reg_lambda=0.01 .................................................\n",
      "[CV] ....................... reg_lambda=0.01, score=-0.961626 -   6.3s\n",
      "[CV] reg_lambda=0.01 .................................................\n",
      "[CV] ....................... reg_lambda=0.01, score=-0.969034 -   6.1s\n",
      "[CV] reg_lambda=0.01 .................................................\n",
      "[CV] ....................... reg_lambda=0.01, score=-0.948730 -   6.6s\n",
      "[CV] reg_lambda=0.1 ..................................................\n",
      "[CV] ........................ reg_lambda=0.1, score=-0.939587 -   6.8s\n",
      "[CV] reg_lambda=0.1 ..................................................\n",
      "[CV] ........................ reg_lambda=0.1, score=-0.936662 -   6.1s\n",
      "[CV] reg_lambda=0.1 ..................................................\n",
      "[CV] ........................ reg_lambda=0.1, score=-0.961204 -   7.2s\n",
      "[CV] reg_lambda=0.1 ..................................................\n",
      "[CV] ........................ reg_lambda=0.1, score=-0.969091 -   6.8s\n",
      "[CV] reg_lambda=0.1 ..................................................\n",
      "[CV] ........................ reg_lambda=0.1, score=-0.948542 -   7.5s\n",
      "[CV] reg_lambda=1 ....................................................\n",
      "[CV] .......................... reg_lambda=1, score=-0.939035 -   6.1s\n",
      "[CV] reg_lambda=1 ....................................................\n",
      "[CV] .......................... reg_lambda=1, score=-0.936886 -   6.1s\n",
      "[CV] reg_lambda=1 ....................................................\n",
      "[CV] .......................... reg_lambda=1, score=-0.959886 -   6.0s\n",
      "[CV] reg_lambda=1 ....................................................\n",
      "[CV] .......................... reg_lambda=1, score=-0.969311 -   6.0s\n",
      "[CV] reg_lambda=1 ....................................................\n",
      "[CV] .......................... reg_lambda=1, score=-0.948622 -   5.9s\n",
      "[CV] reg_lambda=100 ..................................................\n",
      "[CV] ........................ reg_lambda=100, score=-0.948968 -   5.6s\n",
      "[CV] reg_lambda=100 ..................................................\n",
      "[CV] ........................ reg_lambda=100, score=-0.945709 -   6.8s\n",
      "[CV] reg_lambda=100 ..................................................\n",
      "[CV] ........................ reg_lambda=100, score=-0.964208 -   7.3s\n",
      "[CV] reg_lambda=100 ..................................................\n",
      "[CV] ........................ reg_lambda=100, score=-0.976797 -   7.1s\n",
      "[CV] reg_lambda=100 ..................................................\n",
      "[CV] ........................ reg_lambda=100, score=-0.953431 -   6.2s\n"
     ]
    },
    {
     "name": "stderr",
     "output_type": "stream",
     "text": [
      "[Parallel(n_jobs=1)]: Done  25 out of  25 | elapsed:  2.8min finished\n"
     ]
    },
    {
     "data": {
      "text/plain": [
       "([mean: -0.95105, std: 0.01271, params: {'reg_lambda': 1e-05},\n",
       "  mean: -0.95111, std: 0.01250, params: {'reg_lambda': 0.01},\n",
       "  mean: -0.95101, std: 0.01244, params: {'reg_lambda': 0.1},\n",
       "  mean: -0.95074, std: 0.01234, params: {'reg_lambda': 1},\n",
       "  mean: -0.95782, std: 0.01136, params: {'reg_lambda': 100}],\n",
       " {'reg_lambda': 1},\n",
       " -0.9507430974015214)"
      ]
     },
     "execution_count": 19,
     "metadata": {},
     "output_type": "execute_result"
    }
   ],
   "source": [
    "param_grid11 = [{\"reg_lambda\": [1e-5, 0.01, 0.1, 1, 100]}]\n",
    "xgb11 = xgb.XGBClassifier(learning_rate=0.1, n_estimators=118,\n",
    "                         max_depth=4, min_child_weight=8,\n",
    "                         gamma=0.1,\n",
    "                         subsample=0.8, colsample_bytree=0.75,\n",
    "                         reg_alpha=0.05,\n",
    "                         objective=\"multi:softprob\")\n",
    "gs11 = GridSearchCV(xgb11, param_grid11, fit_params={\"eval_metric\": \"mlogloss\"},\n",
    "                    scoring=scorer, n_jobs=1, cv=5, verbose=3)\n",
    "gs11.fit(train_data, train_label)\n",
    "gs11.grid_scores_, gs11.best_params_, gs11.best_score_"
   ]
  },
  {
   "cell_type": "markdown",
   "metadata": {},
   "source": [
    "# Find n_estimators final\n",
    "max_depth = 4, min_child_weight = 8, \n",
    "gamma = 0.1, colsample_bytree = 0.75, subsample = 0.8, reg_alpha = 0.05, reg_lambda = 1"
   ]
  },
  {
   "cell_type": "code",
   "execution_count": 20,
   "metadata": {
    "collapsed": false
   },
   "outputs": [
    {
     "name": "stdout",
     "output_type": "stream",
     "text": [
      "[0]\ttrain-mlogloss:1.60241+0.000195095\ttest-mlogloss:1.60247+0.000172517\n",
      "[50]\ttrain-mlogloss:1.34086+0.00125513\ttest-mlogloss:1.34395+0.0022998\n",
      "[100]\ttrain-mlogloss:1.19706+0.0011206\ttest-mlogloss:1.20266+0.00438189\n",
      "[150]\ttrain-mlogloss:1.11073+0.00179842\ttest-mlogloss:1.11865+0.00536462\n",
      "[200]\ttrain-mlogloss:1.0558+0.00209081\ttest-mlogloss:1.06601+0.00646155\n",
      "[250]\ttrain-mlogloss:1.0195+0.00230583\ttest-mlogloss:1.03189+0.00740093\n",
      "[300]\ttrain-mlogloss:0.994248+0.00248015\ttest-mlogloss:1.00872+0.00811954\n",
      "[350]\ttrain-mlogloss:0.976089+0.00256691\ttest-mlogloss:0.992575+0.00878622\n",
      "[400]\ttrain-mlogloss:0.96275+0.00264236\ttest-mlogloss:0.98122+0.00930948\n",
      "[450]\ttrain-mlogloss:0.952583+0.00267726\ttest-mlogloss:0.973062+0.00974911\n",
      "[500]\ttrain-mlogloss:0.944603+0.00275509\ttest-mlogloss:0.967011+0.0100262\n",
      "[550]\ttrain-mlogloss:0.938166+0.00280402\ttest-mlogloss:0.962555+0.0103607\n",
      "[600]\ttrain-mlogloss:0.932881+0.00286441\ttest-mlogloss:0.9593+0.0106986\n",
      "[650]\ttrain-mlogloss:0.928471+0.00294044\ttest-mlogloss:0.956868+0.0109015\n",
      "[700]\ttrain-mlogloss:0.92466+0.00300594\ttest-mlogloss:0.95506+0.0111038\n",
      "[750]\ttrain-mlogloss:0.921332+0.00301263\ttest-mlogloss:0.95373+0.0113291\n",
      "[800]\ttrain-mlogloss:0.918309+0.00305904\ttest-mlogloss:0.952744+0.0114729\n",
      "[850]\ttrain-mlogloss:0.915634+0.00306505\ttest-mlogloss:0.952019+0.0116864\n",
      "[900]\ttrain-mlogloss:0.913124+0.00313196\ttest-mlogloss:0.951435+0.0118458\n",
      "[950]\ttrain-mlogloss:0.910885+0.00317522\ttest-mlogloss:0.950969+0.011965\n",
      "[1000]\ttrain-mlogloss:0.908724+0.00319005\ttest-mlogloss:0.950724+0.0121281\n",
      "[1050]\ttrain-mlogloss:0.906742+0.00319187\ttest-mlogloss:0.950572+0.0123075\n",
      "[1100]\ttrain-mlogloss:0.904814+0.00320019\ttest-mlogloss:0.950417+0.0124465\n",
      "[1150]\ttrain-mlogloss:0.902947+0.00322047\ttest-mlogloss:0.950388+0.0125538\n",
      "[1200]\ttrain-mlogloss:0.901175+0.00321428\ttest-mlogloss:0.950367+0.012615\n",
      "test-mlogloss-mean     0.950345\n",
      "test-mlogloss-std      0.012561\n",
      "train-mlogloss-mean    0.902475\n",
      "train-mlogloss-std     0.003224\n",
      "Name: 1163, dtype: float64\n"
     ]
    }
   ],
   "source": [
    "# find n_estimators\n",
    "xgb12 = xgb.XGBClassifier(learning_rate=0.01, n_estimators=5000,\n",
    "                         max_depth=4, min_child_weight=8,\n",
    "                         gamma=0.1,\n",
    "                         subsample=0.8, colsample_bytree=0.75,\n",
    "                         reg_alpha=0.05, reg_lambda=1,\n",
    "                         objective=\"multi:softprob\")\n",
    "modelfit(xgb12, train_data, train_label)"
   ]
  },
  {
   "cell_type": "code",
   "execution_count": 68,
   "metadata": {
    "collapsed": false
   },
   "outputs": [],
   "source": [
    "xgbfinal = xgb.XGBClassifier(learning_rate=0.01, n_estimators=1164,\n",
    "                         max_depth=4, min_child_weight=8,\n",
    "                         gamma=0.1,\n",
    "                         subsample=0.8, colsample_bytree=0.75,\n",
    "                         reg_alpha=0.05, reg_lambda=1,\n",
    "                         objective=\"multi:softprob\")\n",
    "#modelsubmit(xgbfinal, train_data, train_label, test_data, label_list)"
   ]
  },
  {
   "cell_type": "code",
   "execution_count": 69,
   "metadata": {
    "collapsed": true
   },
   "outputs": [],
   "source": [
    "def get_xgb_imp(xgb, feat_names):\n",
    "    from numpy import array\n",
    "    imp_vals = xgb.booster().get_fscore()\n",
    "    imp_dict = {feat_names[i]:float(imp_vals.get('f'+str(i),0.)) for i in range(len(feat_names))}\n",
    "    total = array(imp_dict.values()).sum()\n",
    "    return {k:v/total for k,v in imp_dict.items()}"
   ]
  },
  {
   "cell_type": "code",
   "execution_count": 70,
   "metadata": {
    "collapsed": false
   },
   "outputs": [
    {
     "data": {
      "text/plain": [
       "XGBClassifier(base_score=0.5, colsample_bylevel=1, colsample_bytree=0.75,\n",
       "       gamma=0.1, learning_rate=0.01, max_delta_step=0, max_depth=4,\n",
       "       min_child_weight=8, missing=None, n_estimators=1164, nthread=-1,\n",
       "       objective='multi:softprob', reg_alpha=0.05, reg_lambda=1,\n",
       "       scale_pos_weight=1, seed=0, silent=True, subsample=0.8)"
      ]
     },
     "execution_count": 70,
     "metadata": {},
     "output_type": "execute_result"
    }
   ],
   "source": [
    "xgbfinal.fit(train_data,train_label)"
   ]
  },
  {
   "cell_type": "markdown",
   "metadata": {},
   "source": [
    "# Predict and compute accuracy "
   ]
  },
  {
   "cell_type": "code",
   "execution_count": 71,
   "metadata": {
    "collapsed": false
   },
   "outputs": [
    {
     "name": "stdout",
     "output_type": "stream",
     "text": [
      "Accuracy: 58.13%\n"
     ]
    }
   ],
   "source": [
    "from sklearn.metrics import accuracy_score\n",
    "y_pred = xgbfinal.predict(test_data)\n",
    "predict_label = [round(value) for value in y_pred]\n",
    "accuracy = accuracy_score(test_label, predict_label)\n",
    "print(\"Accuracy: %.2f%%\" % (accuracy * 100.0))"
   ]
  },
  {
   "cell_type": "code",
   "execution_count": 83,
   "metadata": {
    "collapsed": false
   },
   "outputs": [
    {
     "data": {
      "text/plain": [
       "0.58129032258064517"
      ]
     },
     "execution_count": 83,
     "metadata": {},
     "output_type": "execute_result"
    }
   ],
   "source": [
    "xgbfinal.score(test_data, test_label)"
   ]
  },
  {
   "cell_type": "code",
   "execution_count": 82,
   "metadata": {
    "collapsed": false
   },
   "outputs": [
    {
     "name": "stderr",
     "output_type": "stream",
     "text": [
      "/Users/hoangnguyen/miniconda3/envs/pydata/lib/python3.5/site-packages/sklearn/metrics/classification.py:1113: UndefinedMetricWarning: Precision and F-score are ill-defined and being set to 0.0 in labels with no predicted samples.\n",
      "  'precision', 'predicted', average, warn_for)\n"
     ]
    },
    {
     "data": {
      "text/plain": [
       "(array([ 0.62919255,  0.        ,  0.54166667,  0.45989305,  0.65680473]),\n",
       " array([ 0.78527132,  0.        ,  0.15294118,  0.50647821,  0.42912371]),\n",
       " array([ 0.69862069,  0.        ,  0.23853211,  0.48206278,  0.51909587]),\n",
       " array([1290,   15,  170,  849,  776]))"
      ]
     },
     "execution_count": 82,
     "metadata": {},
     "output_type": "execute_result"
    }
   ],
   "source": [
    "metrics.precision_recall_fscore_support(test_label, predict_label)"
   ]
  },
  {
   "cell_type": "markdown",
   "metadata": {},
   "source": [
    "# Feature importances"
   ]
  },
  {
   "cell_type": "code",
   "execution_count": 28,
   "metadata": {
    "collapsed": true
   },
   "outputs": [],
   "source": [
    "import matplotlib.pyplot as plt\n",
    "%matplotlib inline\n",
    "import seaborn as sns"
   ]
  },
  {
   "cell_type": "code",
   "execution_count": 29,
   "metadata": {
    "collapsed": false
   },
   "outputs": [],
   "source": [
    "features = ['Size', 'HasName_0', 'HasName_1', 'TimeofDay_lateday',\n",
    "       'TimeofDay_midday', 'TimeofDay_morning', 'TimeofDay_night', 'WeekDay_0',\n",
    "       'WeekDay_1', 'WeekDay_2', 'WeekDay_3', 'WeekDay_4', 'WeekDay_5',\n",
    "       'WeekDay_6', 'IsIntact_0', 'IsIntact_1', 'IsIntact_Unknown',\n",
    "       'Sex_Female', 'Sex_Male', 'Sex_Unknown', 'IsMixBreed_0', 'IsMixBreed_1',\n",
    "       'MixorMultipleorSimple_Mix', 'MixorMultipleorSimple_Multiple',\n",
    "       'MixorMultipleorSimple_Simple', 'Group_Herding', 'Group_Hound',\n",
    "       'Group_NonSporting', 'Group_PitBull', 'Group_Sporting', 'Group_Terrier',\n",
    "       'Group_Toy', 'Group_Unknown', 'Group_Working', 'IsMixColor_0',\n",
    "       'IsMixColor_1']\n",
    "mapFeat = dict(zip([\"f\"+str(i) for i in range(len(features))],features))\n",
    "ts = pd.Series(xgbfinal.booster().get_fscore())\n",
    "#ts.index = ts.reset_index()['index'].map(mapFeat)\n",
    "#ts.order().plot(kind=\"barh\", title=(\"features importance\"))"
   ]
  },
  {
   "cell_type": "code",
   "execution_count": 32,
   "metadata": {
    "collapsed": false
   },
   "outputs": [],
   "source": [
    "ts = ts.sort_values(ascending=False)"
   ]
  },
  {
   "cell_type": "code",
   "execution_count": 33,
   "metadata": {
    "collapsed": false
   },
   "outputs": [
    {
     "data": {
      "text/plain": [
       "<matplotlib.axes._subplots.AxesSubplot at 0x111e66128>"
      ]
     },
     "execution_count": 33,
     "metadata": {},
     "output_type": "execute_result"
    },
    {
     "data": {
      "image/png": "[encoded data removed]",
      "text/plain": [
       "<matplotlib.figure.Figure at 0x111e718d0>"
      ]
     },
     "metadata": {},
     "output_type": "display_data"
    }
   ],
   "source": [
    "plt.figure(); ts.plot(color=\"lightblue\", kind=\"bar\", title=\"Feature importances - Frequence/Weight\",fontsize=9,)"
   ]
  },
  {
   "cell_type": "code",
   "execution_count": 34,
   "metadata": {
    "collapsed": false
   },
   "outputs": [],
   "source": [
    "#xgb.plot_importance(xgbfinal)"
   ]
  },
  {
   "cell_type": "code",
   "execution_count": 47,
   "metadata": {
    "collapsed": true
   },
   "outputs": [],
   "source": [
    "ts1 = pd.Series(xgbfinal.booster().get_score(importance_type = \"gain\"))"
   ]
  },
  {
   "cell_type": "code",
   "execution_count": 48,
   "metadata": {
    "collapsed": false
   },
   "outputs": [],
   "source": [
    "ts1 = ts1.sort_values(ascending=False)"
   ]
  },
  {
   "cell_type": "code",
   "execution_count": 49,
   "metadata": {
    "collapsed": false
   },
   "outputs": [
    {
     "data": {
      "image/png": "[encoded data removed]",
      "text/plain": [
       "<matplotlib.figure.Figure at 0x113aafe10>"
      ]
     },
     "metadata": {},
     "output_type": "display_data"
    }
   ],
   "source": [
    "plt.figure(); ts1.plot(color=\"lightblue\", kind=\"bar\", title=\"Feature importances - Gain\",fontsize=9)\n",
    "plt.tight_layout(rect=[0,0,1,1], h_pad=0.0)\n",
    "plt.savefig(\"gain.png\")"
   ]
  },
  {
   "cell_type": "code",
   "execution_count": 40,
   "metadata": {
    "collapsed": true
   },
   "outputs": [],
   "source": [
    "ts2 = pd.Series(xgbfinal.booster().get_score(importance_type = \"weight\"))"
   ]
  },
  {
   "cell_type": "code",
   "execution_count": 41,
   "metadata": {
    "collapsed": false
   },
   "outputs": [],
   "source": [
    "ts2 = ts2.sort_values(ascending=False)"
   ]
  },
  {
   "cell_type": "code",
   "execution_count": 42,
   "metadata": {
    "collapsed": false
   },
   "outputs": [
    {
     "data": {
      "image/png": "[encoded data removed]",
      "text/plain": [
       "<matplotlib.figure.Figure at 0x112a81208>"
      ]
     },
     "metadata": {},
     "output_type": "display_data"
    }
   ],
   "source": [
    "plt.figure(); ts2.plot(color=\"lightblue\", kind=\"bar\", title=\"Feature importances - Weight\",fontsize=9,)\n",
    "plt.tight_layout(rect=[0,0,1,1], h_pad=0.0)\n",
    "plt.savefig(\"weight.png\")"
   ]
  },
  {
   "cell_type": "code",
   "execution_count": 43,
   "metadata": {
    "collapsed": true
   },
   "outputs": [],
   "source": [
    "ts3 = pd.Series(xgbfinal.booster().get_score(importance_type = \"cover\"))"
   ]
  },
  {
   "cell_type": "code",
   "execution_count": 44,
   "metadata": {
    "collapsed": false
   },
   "outputs": [],
   "source": [
    "ts3 = ts3.sort_values(ascending=False)"
   ]
  },
  {
   "cell_type": "code",
   "execution_count": 46,
   "metadata": {
    "collapsed": false,
    "scrolled": false
   },
   "outputs": [
    {
     "data": {
      "image/png": "[encoded data removed]",
      "text/plain": [
       "<matplotlib.figure.Figure at 0x113aa9470>"
      ]
     },
     "metadata": {},
     "output_type": "display_data"
    }
   ],
   "source": [
    "plt.figure(); ts3.plot(color=\"lightblue\", kind=\"bar\", title=\"Feature importances - Cover\",fontsize=9,)\n",
    "plt.tight_layout(rect=[0,0,1,1], h_pad=0.0)\n",
    "plt.savefig(\"cover.png\")"
   ]
  },
  {
   "cell_type": "code",
   "execution_count": 51,
   "metadata": {
    "collapsed": false
   },
   "outputs": [
    {
     "data": {
      "text/plain": [
       "<function matplotlib.pyplot.close>"
      ]
     },
     "execution_count": 51,
     "metadata": {},
     "output_type": "execute_result"
    }
   ],
   "source": [
    "plt.close"
   ]
  },
  {
   "cell_type": "code",
   "execution_count": null,
   "metadata": {
    "collapsed": true
   },
   "outputs": [],
   "source": []
  },
  {
   "cell_type": "code",
   "execution_count": null,
   "metadata": {
    "collapsed": true
   },
   "outputs": [],
   "source": []
  }
 ],
 "metadata": {
  "kernelspec": {
   "display_name": "Python 3",
   "language": "python",
   "name": "python3"
  },
  "language_info": {
   "codemirror_mode": {
    "name": "ipython",
    "version": 3
   },
   "file_extension": ".py",
   "mimetype": "text/x-python",
   "name": "python",
   "nbconvert_exporter": "python",
   "pygments_lexer": "ipython3",
   "version": "3.5.2"
  }
 },
 "nbformat": 4,
 "nbformat_minor": 1
}
