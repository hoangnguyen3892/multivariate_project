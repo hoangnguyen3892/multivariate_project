{
 "cells": [
  {
   "cell_type": "code",
   "execution_count": 29,
   "metadata": {
    "collapsed": false,
    "scrolled": true
   },
   "outputs": [],
   "source": [
    "import numpy as np\n",
    "import pandas as pd\n",
    "import pickle\n",
    "from sklearn.cross_validation import StratifiedKFold\n",
    "from sklearn.grid_search import GridSearchCV\n",
    "from sklearn.metrics import log_loss, make_scorer\n",
    "from sklearn.linear_model import LogisticRegression\n",
    "from sklearn.linear_model import SGDClassifier\n",
    "from sklearn.datasets import fetch_20newsgroups_vectorized\n",
    "from sklearn.feature_selection import chi2, f_classif\n",
    "from sklearn.cross_validation import cross_val_score\n",
    "from sklearn.metrics import classification_report, accuracy_score,log_loss\n",
    "from sklearn import metrics"
   ]
  },
  {
   "cell_type": "markdown",
   "metadata": {},
   "source": [
    "build function to find optimal n_estimators\n",
    "note: if learning_rate, reg_alpha, reg_lambda are not set\n",
    "xgboost will use default values from https://github.com/dmlc/xgboost/blob/master/doc/parameter.md\n",
    "e.g. eta = 0.3 instead of 0.1\n",
    "if they are set, eta, alpha, lambda will be overwritten\n",
    "the best n_estimators is Name + 1"
   ]
  },
  {
   "cell_type": "code",
   "execution_count": 2,
   "metadata": {
    "collapsed": false
   },
   "outputs": [],
   "source": [
    "# load data\n",
    "with open(\"data_processed_test.pkl\", \"rb\") as f:\n",
    "    train_data = pickle.load(f)\n",
    "    train_label = pickle.load(f)\n",
    "    test_data = pickle.load(f)\n",
    "    test_label = pickle.load(f)\n",
    "    label_list = pickle.load(f)"
   ]
  },
  {
   "cell_type": "code",
   "execution_count": 3,
   "metadata": {
    "collapsed": false
   },
   "outputs": [
    {
     "data": {
      "text/plain": [
       "['Adoption', 'Died', 'Euthanasia', 'Return_to_owner', 'Transfer']"
      ]
     },
     "execution_count": 3,
     "metadata": {},
     "output_type": "execute_result"
    }
   ],
   "source": [
    "label_list"
   ]
  },
  {
   "cell_type": "markdown",
   "metadata": {},
   "source": [
    "# Build model"
   ]
  },
  {
   "cell_type": "markdown",
   "metadata": {},
   "source": [
    "# Multinomial regression"
   ]
  },
  {
   "cell_type": "code",
   "execution_count": 36,
   "metadata": {
    "collapsed": false
   },
   "outputs": [
    {
     "data": {
      "text/plain": [
       "LogisticRegression(C=1.0, class_weight=None, dual=False, fit_intercept=True,\n",
       "          intercept_scaling=1, max_iter=100, multi_class='multinomial',\n",
       "          n_jobs=1, penalty='l2', random_state=None, solver='newton-cg',\n",
       "          tol=0.0001, verbose=0, warm_start=False)"
      ]
     },
     "execution_count": 36,
     "metadata": {},
     "output_type": "execute_result"
    }
   ],
   "source": [
    "#fit a logistic regression model to the data\n",
    "model = LogisticRegression(penalty='l2', dual=False, tol=0.0001, C=1.0, fit_intercept=True, \n",
    "                           intercept_scaling=1, class_weight=None, random_state=None, \n",
    "                           solver='newton-cg', max_iter=100, multi_class='multinomial', \n",
    "                           verbose=0, warm_start=False, n_jobs=1)\n",
    "model.fit(train_data, train_label)"
   ]
  },
  {
   "cell_type": "markdown",
   "metadata": {},
   "source": [
    "# Attributes of model"
   ]
  },
  {
   "cell_type": "code",
   "execution_count": 37,
   "metadata": {
    "collapsed": false
   },
   "outputs": [],
   "source": [
    "feat_labels = train_data.columns[0:]\n",
    "#feat_labels"
   ]
  },
  {
   "cell_type": "code",
   "execution_count": 38,
   "metadata": {
    "collapsed": false
   },
   "outputs": [],
   "source": [
    "#for f in range(train_data.shape[1]):\n",
    "#    print(\"{0}. Feature {1}: {2}\".format(f + 1, feat_labels[indices[f]], importances[indices[f]]))"
   ]
  },
  {
   "cell_type": "code",
   "execution_count": 39,
   "metadata": {
    "collapsed": false
   },
   "outputs": [
    {
     "name": "stdout",
     "output_type": "stream",
     "text": [
      "[[ -8.03298878e-01  -3.46753549e-02  -9.17035243e-02   9.17054533e-02\n",
      "    3.70916592e-01  -2.23449036e-01   1.77116963e-02  -1.65177324e-01\n",
      "   -1.89672857e-01  -2.06801565e-01  -7.19435673e-02  -1.56129503e-01\n",
      "   -1.69464506e-01   4.80546355e-01   3.13467573e-01   1.48727812e+00\n",
      "   -1.48727619e+00   1.09322896e-01  -1.09320967e-01   1.16366714e-02\n",
      "    1.56926371e-01  -1.68561114e-01   1.55765105e-01   2.45564980e-01\n",
      "    6.85112516e-03  -5.73840610e-01  -9.55376099e-03   3.78069028e-01\n",
      "    1.66511182e-02   2.41740061e-03  -2.21922457e-01  -3.38619077e-02\n",
      "    3.38638366e-02]\n",
      " [  1.50307159e-01   1.34292238e-01   7.28725546e-01  -7.28733135e-01\n",
      "   -5.55148268e-01  -3.03207838e-01   4.97183620e-01   3.61164898e-01\n",
      "    3.11822025e-01   1.69780655e-01  -4.93214261e-01  -2.58179951e-01\n",
      "    5.89185591e-02   3.48872603e-02   1.75978125e-01  -6.13854227e-01\n",
      "    6.13846639e-01   9.90890146e-03  -9.91648959e-03  -3.48525550e-02\n",
      "    6.27220928e-04   3.42177460e-02  -1.97832836e-01  -1.71578950e-01\n",
      "   -2.51272765e-01   3.41528568e-01   2.03598323e-01  -6.96541898e-01\n",
      "    7.53831285e-01  -1.36284882e-01   1.54545566e-01   1.07789909e-02\n",
      "   -1.07865790e-02]\n",
      " [  8.22372351e-01   2.51082393e-02   3.04640068e-01  -3.04638237e-01\n",
      "   -9.06760478e-04   3.56791318e-02   1.32754354e+00  -1.36231408e+00\n",
      "    6.57440619e-02  -6.82470440e-03   2.56366065e-01   2.69513494e-01\n",
      "    8.42992463e-02  -4.09902161e-01  -2.59194171e-01  -6.10302777e-01\n",
      "    6.10304609e-01  -9.52087819e-02   9.52106132e-02   8.53187275e-02\n",
      "    1.21130436e-01  -2.06447332e-01  -1.42518999e-02  -3.73559731e-01\n",
      "    9.35912191e-04   8.21419062e-01  -2.71571615e-01  -7.36033444e-02\n",
      "   -5.45513895e-01   2.56781916e-01   1.99365426e-01  -2.34023669e-02\n",
      "    2.34041982e-02]\n",
      " [  3.07865164e-01  -2.60480144e-02  -1.09776563e+00   1.09776763e+00\n",
      "    7.85344522e-01   4.60493291e-01  -9.62107185e-01  -2.83728623e-01\n",
      "   -1.03015707e-01   8.11094731e-02   2.08021213e-01  -3.32338233e-02\n",
      "   -8.49869918e-02   1.54874923e-02  -8.33796494e-02   2.75000880e-02\n",
      "   -2.74980816e-02  -5.33600364e-02   5.33620428e-02   4.13224863e-02\n",
      "   -1.84365546e-01   1.43045066e-01   8.21289664e-02   8.69145190e-02\n",
      "    2.23148123e-01  -1.92096799e-01   1.02542953e-01   2.56091360e-01\n",
      "   -1.78975478e-01  -3.94976056e-01   1.52244176e-02   1.61186472e-02\n",
      "   -1.61166408e-02]\n",
      " [ -4.77245796e-01  -9.86771085e-02   1.56103536e-01  -1.56101714e-01\n",
      "   -6.00206086e-01   3.04844505e-02  -8.80331675e-01   1.45005513e+00\n",
      "   -8.48775223e-02  -3.72638583e-02   1.00770550e-01   1.78029783e-01\n",
      "    1.11233692e-01  -1.21018946e-01  -1.46871877e-01  -2.90621207e-01\n",
      "    2.90623028e-01   2.93370207e-02  -2.93351992e-02  -1.03425330e-01\n",
      "   -9.43184827e-02   1.97745634e-01  -2.58093362e-02   2.12659182e-01\n",
      "    2.03376044e-02  -3.97010221e-01  -2.50159005e-02   1.35984855e-01\n",
      "   -4.59930299e-02   2.72061621e-01  -1.47212953e-01   3.03666366e-02\n",
      "   -3.03648151e-02]]\n"
     ]
    }
   ],
   "source": [
    "print(model.coef_)"
   ]
  },
  {
   "cell_type": "code",
   "execution_count": 40,
   "metadata": {
    "collapsed": false
   },
   "outputs": [
    {
     "name": "stdout",
     "output_type": "stream",
     "text": [
      "[ 1.21762864 -2.86394576 -0.74539423 -0.08372428  2.47543563]\n"
     ]
    }
   ],
   "source": [
    "print(model.intercept_)"
   ]
  },
  {
   "cell_type": "code",
   "execution_count": 41,
   "metadata": {
    "collapsed": true
   },
   "outputs": [],
   "source": [
    "scores, pvalues1 = chi2(train_data, train_label)"
   ]
  },
  {
   "cell_type": "code",
   "execution_count": 42,
   "metadata": {
    "collapsed": false
   },
   "outputs": [
    {
     "data": {
      "text/plain": [
       "array([  1.41272216e-211,   7.02078700e-004,   5.48541483e-197,\n",
       "         1.73474633e-038,   5.24283374e-095,   1.83398114e-074,\n",
       "         1.48110566e-085,   1.95815345e-056,   5.13527489e-002,\n",
       "         2.52321689e-005,   4.82706905e-006,   2.63116022e-007,\n",
       "         3.87966818e-007,   4.51608422e-023,   6.56921407e-023,\n",
       "         8.46469619e-110,   0.00000000e+000,   2.39102255e-005,\n",
       "         1.13854630e-004,   3.91469451e-002,   5.95597274e-022,\n",
       "         1.11948270e-015,   1.74573125e-006,   5.39135076e-006,\n",
       "         4.32949522e-004,   4.86635975e-059,   7.54828120e-003,\n",
       "         4.72812302e-004,   1.09438672e-007,   2.30737878e-001,\n",
       "         2.08370000e-002,   1.85641603e-002,   1.63047178e-001])"
      ]
     },
     "execution_count": 42,
     "metadata": {},
     "output_type": "execute_result"
    }
   ],
   "source": [
    "pvalues1"
   ]
  },
  {
   "cell_type": "code",
   "execution_count": 43,
   "metadata": {
    "collapsed": false
   },
   "outputs": [],
   "source": [
    "F, pvalues2 = f_classif(train_data, train_label)"
   ]
  },
  {
   "cell_type": "code",
   "execution_count": 44,
   "metadata": {
    "collapsed": false
   },
   "outputs": [
    {
     "data": {
      "text/plain": [
       "array([  4.83411753e-314,   8.95306825e-007,   8.82109338e-248,\n",
       "         8.82109338e-248,   2.69704370e-192,   1.69563841e-144,\n",
       "         8.68510328e-090,   3.85491159e-058,   2.68235082e-002,\n",
       "         3.49405604e-006,   5.96550547e-007,   1.90189277e-008,\n",
       "         2.80350209e-008,   9.02028824e-028,   8.87826562e-028,\n",
       "         0.00000000e+000,   0.00000000e+000,   3.75518082e-010,\n",
       "         3.75518082e-010,   1.45231094e-007,   1.36194036e-027,\n",
       "         5.21268837e-017,   7.95613508e-008,   1.53077415e-006,\n",
       "         2.40480854e-004,   9.04438511e-070,   2.52665336e-003,\n",
       "         2.03823874e-004,   7.38292671e-010,   2.27090905e-001,\n",
       "         1.23661978e-002,   1.04102577e-003,   1.04102577e-003])"
      ]
     },
     "execution_count": 44,
     "metadata": {},
     "output_type": "execute_result"
    }
   ],
   "source": [
    "pvalues2"
   ]
  },
  {
   "cell_type": "code",
   "execution_count": 16,
   "metadata": {
    "collapsed": false
   },
   "outputs": [
    {
     "data": {
      "text/plain": [
       "LogisticRegression(C=1.0, class_weight=None, dual=False, fit_intercept=True,\n",
       "          intercept_scaling=1, max_iter=10000, multi_class='multinomial',\n",
       "          n_jobs=1, penalty='l2', random_state=None, solver='lbfgs',\n",
       "          tol=1e-06, verbose=0, warm_start=False)"
      ]
     },
     "execution_count": 16,
     "metadata": {},
     "output_type": "execute_result"
    }
   ],
   "source": [
    "# fit a logistic regression model to the data\n",
    "model1 = LogisticRegression(penalty='l2', dual=False, tol=0.000001, C=1.0, fit_intercept=True, \n",
    "                           intercept_scaling=1, class_weight=None, random_state=None, \n",
    "                           solver='lbfgs', max_iter=10000, multi_class='multinomial', \n",
    "                           verbose=0, warm_start=False, n_jobs=1)\n",
    "model1.fit(train_data, train_label)"
   ]
  },
  {
   "cell_type": "code",
   "execution_count": 27,
   "metadata": {
    "collapsed": false
   },
   "outputs": [
    {
     "name": "stdout",
     "output_type": "stream",
     "text": [
      "[[ -8.02093432e-01  -3.40448717e-02  -9.21101242e-02   9.10421763e-02\n",
      "    3.70242271e-01  -2.24685565e-01   1.63499086e-02  -1.62974563e-01\n",
      "   -1.91052738e-01  -2.07649602e-01  -7.10646953e-02  -1.56694407e-01\n",
      "   -1.68920280e-01   4.80607343e-01   3.13706432e-01   1.48667587e+00\n",
      "   -1.48774382e+00   1.08760450e-01  -1.09828398e-01   1.12097818e-02\n",
      "    1.56742169e-01  -1.69019898e-01   1.53400655e-01   2.46046167e-01\n",
      "    4.49816738e-03  -5.75389539e-01  -1.18448612e-02   3.79092842e-01\n",
      "    1.57424942e-02   1.22938892e-02  -2.24907763e-01  -3.44584716e-02\n",
      "    3.33905237e-02]\n",
      " [  1.45593060e-01   1.31558480e-01   7.24958992e-01  -7.30963959e-01\n",
      "   -5.58241323e-01  -3.04415382e-01   4.95665117e-01   3.60986621e-01\n",
      "    3.15908406e-01   1.71564958e-01  -4.98203294e-01  -2.57350638e-01\n",
      "    5.53427884e-02   3.31393247e-02   1.73593487e-01  -6.16721311e-01\n",
      "    6.10716344e-01   7.09724938e-03  -1.31022163e-02  -3.70710681e-02\n",
      "   -1.08757516e-03   3.21536763e-02  -1.89499700e-01  -1.72221553e-01\n",
      "   -2.41642728e-01   3.46031243e-01   2.11044016e-01  -7.00047929e-01\n",
      "    7.56291590e-01  -1.81267001e-01   1.65307097e-01   7.95740848e-03\n",
      "   -1.39623754e-02]\n",
      " [  8.23599124e-01   2.58150367e-02   3.09369505e-01  -3.00178180e-01\n",
      "    4.66451770e-03   4.08298517e-02   1.33217300e+00  -1.36847605e+00\n",
      "    6.57401936e-02  -6.02685741e-03   2.58785654e-01   2.70365716e-01\n",
      "    8.62640160e-02  -4.08341180e-01  -2.57596218e-01  -6.05811859e-01\n",
      "    6.15003183e-01  -9.06768068e-02   9.98681312e-02   8.84812202e-02\n",
      "    1.23645701e-01  -2.02935597e-01  -1.54305397e-02  -3.74326222e-01\n",
      "   -8.24730536e-04   8.21427769e-01  -2.72264295e-01  -7.31649824e-02\n",
      "   -5.45101945e-01   2.71375226e-01   1.97501043e-01  -1.87971677e-02\n",
      "    2.79884921e-02]\n",
      " [  3.09155814e-01  -2.52597778e-02  -1.09391989e+00   1.10092487e+00\n",
      "    7.86316782e-01   4.60818624e-01  -9.60134850e-01  -2.79995571e-01\n",
      "   -1.03201727e-01   8.13825201e-02   2.10050107e-01  -3.26273213e-02\n",
      "   -8.32995705e-02   1.66507706e-02  -8.19497935e-02   3.10195330e-02\n",
      "   -2.40145480e-02  -4.99045621e-02   5.69095471e-02   4.37100354e-02\n",
      "   -1.81966062e-01   1.45261011e-01   8.05641142e-02   8.82327429e-02\n",
      "    2.21079760e-01  -1.92698784e-01   1.01176166e-01   2.58050959e-01\n",
      "   -1.79138514e-01  -3.83338562e-01   1.30771024e-02   1.95205060e-02\n",
      "   -1.25155210e-02]\n",
      " [ -4.76254566e-01  -9.80688676e-02   1.51701514e-01  -1.60824909e-01\n",
      "   -6.02982248e-01   2.74524706e-02  -8.84053176e-01   1.45045956e+00\n",
      "   -8.73941347e-02  -3.92710187e-02   1.00432227e-01   1.76306650e-01\n",
      "    1.10613047e-01  -1.22056258e-01  -1.47753907e-01  -2.95162232e-01\n",
      "    2.86038837e-01   2.47236694e-02  -3.38470639e-02  -1.06329969e-01\n",
      "   -9.73342332e-02   1.94540808e-01  -2.90345298e-02   2.12268865e-01\n",
      "    1.68895317e-02  -3.99370689e-01  -2.81110253e-02   1.36069110e-01\n",
      "   -4.77936249e-02   2.80936448e-01  -1.50977480e-01   2.57777249e-02\n",
      "   -3.49011194e-02]]\n"
     ]
    }
   ],
   "source": [
    "print(model1.coef_)"
   ]
  },
  {
   "cell_type": "code",
   "execution_count": 25,
   "metadata": {
    "collapsed": false
   },
   "outputs": [
    {
     "name": "stdout",
     "output_type": "stream",
     "text": [
      "[309]\n"
     ]
    }
   ],
   "source": [
    "print(model1.n_iter_)"
   ]
  },
  {
   "cell_type": "code",
   "execution_count": 45,
   "metadata": {
    "collapsed": false
   },
   "outputs": [
    {
     "data": {
      "text/plain": [
       "array([[ -8.03298878e-01,  -3.46753549e-02,  -9.17035243e-02,\n",
       "          9.17054533e-02,   3.70916592e-01,  -2.23449036e-01,\n",
       "          1.77116963e-02,  -1.65177324e-01,  -1.89672857e-01,\n",
       "         -2.06801565e-01,  -7.19435673e-02,  -1.56129503e-01,\n",
       "         -1.69464506e-01,   4.80546355e-01,   3.13467573e-01,\n",
       "          1.48727812e+00,  -1.48727619e+00,   1.09322896e-01,\n",
       "         -1.09320967e-01,   1.16366714e-02,   1.56926371e-01,\n",
       "         -1.68561114e-01,   1.55765105e-01,   2.45564980e-01,\n",
       "          6.85112516e-03,  -5.73840610e-01,  -9.55376099e-03,\n",
       "          3.78069028e-01,   1.66511182e-02,   2.41740061e-03,\n",
       "         -2.21922457e-01,  -3.38619077e-02,   3.38638366e-02],\n",
       "       [  1.50307159e-01,   1.34292238e-01,   7.28725546e-01,\n",
       "         -7.28733135e-01,  -5.55148268e-01,  -3.03207838e-01,\n",
       "          4.97183620e-01,   3.61164898e-01,   3.11822025e-01,\n",
       "          1.69780655e-01,  -4.93214261e-01,  -2.58179951e-01,\n",
       "          5.89185591e-02,   3.48872603e-02,   1.75978125e-01,\n",
       "         -6.13854227e-01,   6.13846639e-01,   9.90890146e-03,\n",
       "         -9.91648959e-03,  -3.48525550e-02,   6.27220928e-04,\n",
       "          3.42177460e-02,  -1.97832836e-01,  -1.71578950e-01,\n",
       "         -2.51272765e-01,   3.41528568e-01,   2.03598323e-01,\n",
       "         -6.96541898e-01,   7.53831285e-01,  -1.36284882e-01,\n",
       "          1.54545566e-01,   1.07789909e-02,  -1.07865790e-02],\n",
       "       [  8.22372351e-01,   2.51082393e-02,   3.04640068e-01,\n",
       "         -3.04638237e-01,  -9.06760478e-04,   3.56791318e-02,\n",
       "          1.32754354e+00,  -1.36231408e+00,   6.57440619e-02,\n",
       "         -6.82470440e-03,   2.56366065e-01,   2.69513494e-01,\n",
       "          8.42992463e-02,  -4.09902161e-01,  -2.59194171e-01,\n",
       "         -6.10302777e-01,   6.10304609e-01,  -9.52087819e-02,\n",
       "          9.52106132e-02,   8.53187275e-02,   1.21130436e-01,\n",
       "         -2.06447332e-01,  -1.42518999e-02,  -3.73559731e-01,\n",
       "          9.35912191e-04,   8.21419062e-01,  -2.71571615e-01,\n",
       "         -7.36033444e-02,  -5.45513895e-01,   2.56781916e-01,\n",
       "          1.99365426e-01,  -2.34023669e-02,   2.34041982e-02],\n",
       "       [  3.07865164e-01,  -2.60480144e-02,  -1.09776563e+00,\n",
       "          1.09776763e+00,   7.85344522e-01,   4.60493291e-01,\n",
       "         -9.62107185e-01,  -2.83728623e-01,  -1.03015707e-01,\n",
       "          8.11094731e-02,   2.08021213e-01,  -3.32338233e-02,\n",
       "         -8.49869918e-02,   1.54874923e-02,  -8.33796494e-02,\n",
       "          2.75000880e-02,  -2.74980816e-02,  -5.33600364e-02,\n",
       "          5.33620428e-02,   4.13224863e-02,  -1.84365546e-01,\n",
       "          1.43045066e-01,   8.21289664e-02,   8.69145190e-02,\n",
       "          2.23148123e-01,  -1.92096799e-01,   1.02542953e-01,\n",
       "          2.56091360e-01,  -1.78975478e-01,  -3.94976056e-01,\n",
       "          1.52244176e-02,   1.61186472e-02,  -1.61166408e-02],\n",
       "       [ -4.77245796e-01,  -9.86771085e-02,   1.56103536e-01,\n",
       "         -1.56101714e-01,  -6.00206086e-01,   3.04844505e-02,\n",
       "         -8.80331675e-01,   1.45005513e+00,  -8.48775223e-02,\n",
       "         -3.72638583e-02,   1.00770550e-01,   1.78029783e-01,\n",
       "          1.11233692e-01,  -1.21018946e-01,  -1.46871877e-01,\n",
       "         -2.90621207e-01,   2.90623028e-01,   2.93370207e-02,\n",
       "         -2.93351992e-02,  -1.03425330e-01,  -9.43184827e-02,\n",
       "          1.97745634e-01,  -2.58093362e-02,   2.12659182e-01,\n",
       "          2.03376044e-02,  -3.97010221e-01,  -2.50159005e-02,\n",
       "          1.35984855e-01,  -4.59930299e-02,   2.72061621e-01,\n",
       "         -1.47212953e-01,   3.03666366e-02,  -3.03648151e-02]])"
      ]
     },
     "execution_count": 45,
     "metadata": {},
     "output_type": "execute_result"
    }
   ],
   "source": [
    "model.coef_"
   ]
  },
  {
   "cell_type": "markdown",
   "metadata": {},
   "source": [
    "# Multinomial regression with SGD"
   ]
  },
  {
   "cell_type": "code",
   "execution_count": 20,
   "metadata": {
    "collapsed": true
   },
   "outputs": [],
   "source": [
    "model2 = SGDClassifier(loss='log', penalty='l2', alpha=0.0001, l1_ratio=0.15, fit_intercept=True, \n",
    "                       n_iter=100, shuffle=True, verbose=0, epsilon=0.1, n_jobs=1, random_state=None, \n",
    "                       learning_rate='optimal', eta0=0.0, power_t=0.5, class_weight=None, warm_start=True, \n",
    "                       average=False)"
   ]
  },
  {
   "cell_type": "code",
   "execution_count": 22,
   "metadata": {
    "collapsed": false
   },
   "outputs": [
    {
     "data": {
      "text/plain": [
       "SGDClassifier(alpha=0.0001, average=False, class_weight=None, epsilon=0.1,\n",
       "       eta0=0.0, fit_intercept=True, l1_ratio=0.15,\n",
       "       learning_rate='optimal', loss='log', n_iter=100, n_jobs=1,\n",
       "       penalty='l2', power_t=0.5, random_state=None, shuffle=True,\n",
       "       verbose=0, warm_start=True)"
      ]
     },
     "execution_count": 22,
     "metadata": {},
     "output_type": "execute_result"
    }
   ],
   "source": [
    "model2.fit(train_data, train_label)"
   ]
  },
  {
   "cell_type": "code",
   "execution_count": 26,
   "metadata": {
    "collapsed": false
   },
   "outputs": [
    {
     "name": "stdout",
     "output_type": "stream",
     "text": [
      "[[-0.8125398   0.0890214   0.26862095  0.10295438  0.57245604 -0.08286845\n",
      "   0.78356641 -0.90157868 -0.02777989 -0.2488617  -0.20784676 -0.19378266\n",
      "  -0.09054455  0.60453119  0.5358597   1.94900011 -1.57742478  0.30002034\n",
      "   0.07155499  0.10010341  0.47180494 -0.20033301  0.18846821  0.18756667\n",
      "  -0.04159419 -0.38432038  0.01201274  0.23818487  0.1872765   0.09283037\n",
      "  -0.10884946  0.12847604  0.24309929]\n",
      " [ 0.32349698  0.19815175  0.95915015 -0.60020549 -0.31668002 -0.11718771\n",
      "   0.73329348  0.05951891  0.40458991  0.26659648 -0.47866152 -0.26646509\n",
      "   0.104043    0.09256029  0.23628158 -0.54444365  0.90338831  0.16892427\n",
      "   0.19002039  0.13790755  0.11505027  0.10598684 -0.22229362 -0.21647498\n",
      "  -0.23697988  0.47868899  0.22728034 -0.65985082  0.90891475 -0.11478478\n",
      "   0.19444465  0.17134789  0.18759677]\n",
      " [ 1.04632776  0.1192822   0.80014151 -0.19667047  0.06607995  0.09953855\n",
      "   2.0793147  -1.64146216  0.26870574  0.12755041  0.27365833  0.31056503\n",
      "   0.20503013 -0.3903282  -0.19171039 -0.46997877  1.07344981  0.18501467\n",
      "   0.41845638  0.34425994  0.36149138 -0.10228028 -0.0030386  -0.48605914\n",
      "   0.0266758   1.2746465  -0.23221604 -0.24340749 -0.39895138  0.30570802\n",
      "   0.36011338  0.25730608  0.34616496]\n",
      " [ 0.83095404 -0.08219886 -0.67437199  1.63242061  1.12657475  1.02074306\n",
      "  -0.60811275 -0.58115644  0.16693473  0.26390437  0.31679492  0.10319306\n",
      "   0.1909187  -0.05435491 -0.02934226  0.3031812   0.65486742  0.3566267\n",
      "   0.60142192  0.44068694  0.04971896  0.46764272 -0.01376546  0.00963531\n",
      "   0.35112301  0.30780447  0.21673963  0.12065649  0.01823092 -0.35769553\n",
      "   0.30531978  0.44291046  0.51513816]\n",
      " [-0.32721344 -0.01481936  0.33305214 -0.45015962 -0.9434543   0.05862125\n",
      "  -0.98848244  1.75620801 -0.05245341  0.0217708   0.01646336  0.27111343\n",
      "   0.28155498 -0.38045521 -0.27510144 -0.83921728  0.7221098  -0.02578473\n",
      "  -0.09132275 -0.14155683 -0.15998671  0.18443605 -0.09361959  0.04828488\n",
      "  -0.08664553 -0.20016077 -0.0357725  -0.11815717  0.06046011  0.39891056\n",
      "  -0.09040748  0.04997365 -0.16708113]]\n"
     ]
    }
   ],
   "source": [
    "print(model2.coef_)"
   ]
  },
  {
   "cell_type": "markdown",
   "metadata": {},
   "source": [
    "# Make prediction"
   ]
  },
  {
   "cell_type": "code",
   "execution_count": null,
   "metadata": {
    "collapsed": true
   },
   "outputs": [],
   "source": []
  },
  {
   "cell_type": "code",
   "execution_count": 9,
   "metadata": {
    "collapsed": true
   },
   "outputs": [],
   "source": [
    "predict_label = model.predict(test_data)"
   ]
  },
  {
   "cell_type": "code",
   "execution_count": 10,
   "metadata": {
    "collapsed": false
   },
   "outputs": [
    {
     "ename": "NameError",
     "evalue": "name 'expected' is not defined",
     "output_type": "error",
     "traceback": [
      "\u001b[0;31m---------------------------------------------------------------------------\u001b[0m",
      "\u001b[0;31mNameError\u001b[0m                                 Traceback (most recent call last)",
      "\u001b[0;32m<ipython-input-10-cb7202c21013>\u001b[0m in \u001b[0;36m<module>\u001b[0;34m()\u001b[0m\n\u001b[1;32m      1\u001b[0m \u001b[0;31m# summarize the fit of the model\u001b[0m\u001b[0;34m\u001b[0m\u001b[0;34m\u001b[0m\u001b[0m\n\u001b[0;32m----> 2\u001b[0;31m \u001b[0mprint\u001b[0m\u001b[0;34m(\u001b[0m\u001b[0mmetrics\u001b[0m\u001b[0;34m.\u001b[0m\u001b[0mclassification_report\u001b[0m\u001b[0;34m(\u001b[0m\u001b[0mexpected\u001b[0m\u001b[0;34m,\u001b[0m \u001b[0mpredicted\u001b[0m\u001b[0;34m)\u001b[0m\u001b[0;34m)\u001b[0m\u001b[0;34m\u001b[0m\u001b[0m\n\u001b[0m\u001b[1;32m      3\u001b[0m \u001b[0mprint\u001b[0m\u001b[0;34m(\u001b[0m\u001b[0mmetrics\u001b[0m\u001b[0;34m.\u001b[0m\u001b[0mconfusion_matrix\u001b[0m\u001b[0;34m(\u001b[0m\u001b[0mexpected\u001b[0m\u001b[0;34m,\u001b[0m \u001b[0mpredicted\u001b[0m\u001b[0;34m)\u001b[0m\u001b[0;34m)\u001b[0m\u001b[0;34m\u001b[0m\u001b[0m\n",
      "\u001b[0;31mNameError\u001b[0m: name 'expected' is not defined"
     ]
    }
   ],
   "source": [
    "# summarize the fit of the model\n",
    "print(metrics.classification_report(expected, predicted))\n",
    "print(metrics.confusion_matrix(expected, predicted))"
   ]
  },
  {
   "cell_type": "code",
   "execution_count": null,
   "metadata": {
    "collapsed": false
   },
   "outputs": [],
   "source": [
    "predict_label"
   ]
  },
  {
   "cell_type": "code",
   "execution_count": null,
   "metadata": {
    "collapsed": false,
    "scrolled": true
   },
   "outputs": [],
   "source": [
    "accuracy = cross_val_score(model, train_data, train_label, cv=7)\n",
    "print(\"Accuracy: %0.2f (+/- %0.2f)\" % (accuracy.mean(), accuracy.std() * 2))"
   ]
  },
  {
   "cell_type": "code",
   "execution_count": null,
   "metadata": {
    "collapsed": false
   },
   "outputs": [],
   "source": [
    "#model.score(test_data, test_label)"
   ]
  },
  {
   "cell_type": "code",
   "execution_count": null,
   "metadata": {
    "collapsed": false,
    "scrolled": true
   },
   "outputs": [],
   "source": [
    "metrics.precision_recall_fscore_support(test_label, predict_label, beta=0.5, average=None)"
   ]
  },
  {
   "cell_type": "code",
   "execution_count": 12,
   "metadata": {
    "collapsed": false
   },
   "outputs": [],
   "source": [
    "label_probs = model.predict_proba(test_data)\n",
    "predict_label = model.predict(test_data)\n",
    "#y_probs = model.predict_log_proba(test_data)"
   ]
  },
  {
   "cell_type": "code",
   "execution_count": 13,
   "metadata": {
    "collapsed": false
   },
   "outputs": [
    {
     "name": "stdout",
     "output_type": "stream",
     "text": [
      "accuracy_score: 0.574516129032\n",
      "log_loss: 1.01359493281\n"
     ]
    }
   ],
   "source": [
    "print(\"accuracy_score:\", accuracy_score(test_label, predict_label))\n",
    "print(\"log_loss:\", log_loss(test_label, label_probs))"
   ]
  },
  {
   "cell_type": "code",
   "execution_count": 15,
   "metadata": {
    "collapsed": false
   },
   "outputs": [
    {
     "ename": "AttributeError",
     "evalue": "'LogisticRegression' object has no attribute 'feature_importances_'",
     "output_type": "error",
     "traceback": [
      "\u001b[0;31m---------------------------------------------------------------------------\u001b[0m",
      "\u001b[0;31mAttributeError\u001b[0m                            Traceback (most recent call last)",
      "\u001b[0;32m<ipython-input-15-0ef6ccc90144>\u001b[0m in \u001b[0;36m<module>\u001b[0;34m()\u001b[0m\n\u001b[1;32m      1\u001b[0m \u001b[0mmodel\u001b[0m\u001b[0;34m.\u001b[0m\u001b[0mfit\u001b[0m\u001b[0;34m(\u001b[0m\u001b[0mtrain_data\u001b[0m\u001b[0;34m,\u001b[0m \u001b[0mtrain_label\u001b[0m\u001b[0;34m)\u001b[0m\u001b[0;34m\u001b[0m\u001b[0m\n\u001b[0;32m----> 2\u001b[0;31m \u001b[0mimportance\u001b[0m \u001b[0;34m=\u001b[0m \u001b[0mmodel\u001b[0m\u001b[0;34m.\u001b[0m\u001b[0mfeature_importances_\u001b[0m\u001b[0;34m\u001b[0m\u001b[0m\n\u001b[0m\u001b[1;32m      3\u001b[0m \u001b[0msns\u001b[0m\u001b[0;34m.\u001b[0m\u001b[0mbarplot\u001b[0m\u001b[0;34m(\u001b[0m\u001b[0my\u001b[0m\u001b[0;34m=\u001b[0m\u001b[0mdog_train\u001b[0m\u001b[0;34m.\u001b[0m\u001b[0mcolumns\u001b[0m\u001b[0;34m,\u001b[0m \u001b[0mx\u001b[0m\u001b[0;34m=\u001b[0m\u001b[0mimportance\u001b[0m\u001b[0;34m)\u001b[0m\u001b[0;34m\u001b[0m\u001b[0m\n",
      "\u001b[0;31mAttributeError\u001b[0m: 'LogisticRegression' object has no attribute 'feature_importances_'"
     ]
    }
   ],
   "source": [
    "model.fit(train_data, train_label)\n",
    "importance = model.feature_importances_\n",
    "sns.barplot(y=dog_train.columns, x=importance)"
   ]
  },
  {
   "cell_type": "code",
   "execution_count": null,
   "metadata": {
    "collapsed": false
   },
   "outputs": [],
   "source": [
    "log_probability = pd.DataFrame(y_probs,columns =  [\"Adoption\",\"Died\",\"Euthanasia\",\"Return_to_owner\",\"Transfer\"])"
   ]
  },
  {
   "cell_type": "code",
   "execution_count": null,
   "metadata": {
    "collapsed": false
   },
   "outputs": [],
   "source": [
    "log_probability"
   ]
  },
  {
   "cell_type": "code",
   "execution_count": null,
   "metadata": {
    "collapsed": false
   },
   "outputs": [],
   "source": [
    "print(classification_report(test_label,predict_label))\n",
    "print(accuracy_score(test_label,predict_label))\n",
    "print(log_loss(test_label,y_probs))"
   ]
  },
  {
   "cell_type": "code",
   "execution_count": null,
   "metadata": {
    "collapsed": true
   },
   "outputs": [],
   "source": []
  }
 ],
 "metadata": {
  "kernelspec": {
   "display_name": "Python 3",
   "language": "python",
   "name": "python3"
  },
  "language_info": {
   "codemirror_mode": {
    "name": "ipython",
    "version": 3
   },
   "file_extension": ".py",
   "mimetype": "text/x-python",
   "name": "python",
   "nbconvert_exporter": "python",
   "pygments_lexer": "ipython3",
   "version": "3.5.2"
  }
 },
 "nbformat": 4,
 "nbformat_minor": 1
}
