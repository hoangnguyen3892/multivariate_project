{
 "cells": [
  {
   "cell_type": "code",
   "execution_count": 25,
   "metadata": {
    "collapsed": false
   },
   "outputs": [],
   "source": [
    "import pandas as pd\n",
    "import seaborn as sns\n",
    "import numpy as np\n",
    "import matplotlib.pyplot as plt\n",
    "import pickle\n",
    "%matplotlib inline\n",
    "pd.options.mode.chained_assignment = None\n",
    "from sklearn.ensemble import RandomForestClassifier\n",
    "from sklearn.cross_validation import cross_val_score\n",
    "from sklearn.grid_search import GridSearchCV\n",
    "from sklearn import cross_validation\n",
    "from sklearn import metrics"
   ]
  },
  {
   "cell_type": "markdown",
   "metadata": {},
   "source": [
    "# Load data"
   ]
  },
  {
   "cell_type": "code",
   "execution_count": 2,
   "metadata": {
    "collapsed": false
   },
   "outputs": [],
   "source": [
    "with open(\"data_processed_test.pkl\", \"rb\") as f:\n",
    "    train_data = pickle.load(f)\n",
    "    train_label = pickle.load(f)\n",
    "    test_data = pickle.load(f)\n",
    "    test_label = pickle.load(f)\n",
    "    label_list = pickle.load(f)"
   ]
  },
  {
   "cell_type": "markdown",
   "metadata": {},
   "source": [
    "# Choose parameters"
   ]
  },
  {
   "cell_type": "code",
   "execution_count": null,
   "metadata": {
    "collapsed": false
   },
   "outputs": [],
   "source": [
    "# Choose parameters for RandomForest\n",
    "def best_params(train_x, train_y):\n",
    "    rfc = RandomForestClassifier()\n",
    "    param_grid = { \n",
    "        'n_estimators': [50, 400],\n",
    "        'max_features': ['auto', 'sqrt', 'log2']\n",
    "    }\n",
    "    \n",
    "    CV_rfc = GridSearchCV(estimator=rfc, param_grid=param_grid, cv= 5)\n",
    "    CV_rfc.fit(train_x, train_y)\n",
    "    return CV_rfc.best_params_\n",
    "\n",
    "print(best_params(train_data.values, train_label.values))"
   ]
  },
  {
   "cell_type": "markdown",
   "metadata": {},
   "source": [
    "# Random Forest"
   ]
  },
  {
   "cell_type": "code",
   "execution_count": 3,
   "metadata": {
    "collapsed": true
   },
   "outputs": [],
   "source": [
    "# RandomForest Classifier \n",
    "rf = RandomForestClassifier(n_estimators=400, max_features='log2').fit(train_data, train_label)\n",
    "importances = rf.feature_importances_"
   ]
  },
  {
   "cell_type": "code",
   "execution_count": 4,
   "metadata": {
    "collapsed": false
   },
   "outputs": [
    {
     "data": {
      "text/plain": [
       "Index(['Age', 'Size', 'HasName_0', 'HasName_1', 'TimeofDay_lateday',\n",
       "       'TimeofDay_midday', 'TimeofDay_morning', 'TimeofDay_night', 'WeekDay_0',\n",
       "       'WeekDay_1', 'WeekDay_2', 'WeekDay_3', 'WeekDay_4', 'WeekDay_5',\n",
       "       'WeekDay_6', 'IsIntact_0.0', 'IsIntact_1.0', 'Sex_Female', 'Sex_Male',\n",
       "       'MixorMultipleorSimple_Mix', 'MixorMultipleorSimple_Multiple',\n",
       "       'MixorMultipleorSimple_Simple', 'Group_Herding', 'Group_Hound',\n",
       "       'Group_NonSporting', 'Group_PitBull', 'Group_Sporting', 'Group_Terrier',\n",
       "       'Group_Toy', 'Group_Unknown', 'Group_Working', 'IsMixColor_0',\n",
       "       'IsMixColor_1'],\n",
       "      dtype='object')"
      ]
     },
     "execution_count": 4,
     "metadata": {},
     "output_type": "execute_result"
    }
   ],
   "source": [
    "feat_labels = train_data.columns[0:]\n",
    "feat_labels"
   ]
  },
  {
   "cell_type": "code",
   "execution_count": 5,
   "metadata": {
    "collapsed": true
   },
   "outputs": [],
   "source": [
    "indices = np.argsort(importances)[::-1]"
   ]
  },
  {
   "cell_type": "code",
   "execution_count": 6,
   "metadata": {
    "collapsed": false
   },
   "outputs": [
    {
     "name": "stdout",
     "output_type": "stream",
     "text": [
      "1. Feature Age: 0.13620063665931156\n",
      "2. Feature Size: 0.07913587590203902\n",
      "3. Feature IsIntact_1.0: 0.06745131921865816\n",
      "4. Feature IsIntact_0.0: 0.05878776721549411\n",
      "5. Feature IsMixColor_0: 0.03077621854129137\n",
      "6. Feature IsMixColor_1: 0.030561471482504245\n",
      "7. Feature TimeofDay_lateday: 0.029296195258850636\n",
      "8. Feature Sex_Male: 0.02719016611534852\n",
      "9. Feature Sex_Female: 0.02718148913071368\n",
      "10. Feature WeekDay_0: 0.02665533511146694\n",
      "11. Feature WeekDay_4: 0.02650810027777637\n",
      "12. Feature WeekDay_3: 0.026455171430516247\n",
      "13. Feature MixorMultipleorSimple_Mix: 0.025868270286836966\n",
      "14. Feature WeekDay_1: 0.025224104265042294\n",
      "15. Feature WeekDay_2: 0.02513166839858911\n",
      "16. Feature HasName_1: 0.024856556958679416\n",
      "17. Feature Group_Sporting: 0.02474561352795013\n",
      "18. Feature WeekDay_5: 0.024522401295688646\n",
      "19. Feature TimeofDay_midday: 0.02417276487949374\n",
      "20. Feature Group_Herding: 0.024062572217314244\n",
      "21. Feature HasName_0: 0.02270066078763287\n",
      "22. Feature WeekDay_6: 0.022515092092350985\n",
      "23. Feature MixorMultipleorSimple_Multiple: 0.022470114768059136\n",
      "24. Feature Group_Working: 0.021214357558024702\n",
      "25. Feature Group_Toy: 0.020954198568025828\n",
      "26. Feature Group_Hound: 0.02090559249060009\n",
      "27. Feature Group_Terrier: 0.020652053051578162\n",
      "28. Feature Group_PitBull: 0.019902636751493896\n",
      "29. Feature Group_NonSporting: 0.019793026990053295\n",
      "30. Feature MixorMultipleorSimple_Simple: 0.017550540176396155\n",
      "31. Feature TimeofDay_night: 0.010834918717401814\n",
      "32. Feature TimeofDay_morning: 0.010558487323822056\n",
      "33. Feature Group_Unknown: 0.005164622550995843\n"
     ]
    }
   ],
   "source": [
    "for f in range(train_data.shape[1]):\n",
    "    print(\"{0}. Feature {1}: {2}\".format(f + 1, feat_labels[indices[f]], importances[indices[f]]))\n",
    "#    print(\"%d. feature %d (%f)\" % (f + 1, indices[f], importances[indices[f]]))"
   ]
  },
  {
   "cell_type": "code",
   "execution_count": 7,
   "metadata": {
    "collapsed": false
   },
   "outputs": [
    {
     "data": {
      "image/png": "[encoded data removed]",
      "text/plain": [
       "<matplotlib.figure.Figure at 0x10a107390>"
      ]
     },
     "metadata": {},
     "output_type": "display_data"
    }
   ],
   "source": [
    "# Plot the feature importances of the forest\n",
    "plt.figure()\n",
    "plt.title(\"Feature importances\")\n",
    "plt.bar(range(train_data.shape[1]), \n",
    "        importances[indices],\n",
    "        color=\"lightblue\", \n",
    "        align=\"center\")\n",
    "#plt.xticks(range(train_data.shape[1]), feat_labels, rotation = 90,fontsize=9)\n",
    "plt.xticks(range(train_data.shape[1]), feat_labels[indices], rotation = 90,fontsize=9)\n",
    "plt.xlim([-1, train_data.shape[1]])\n",
    "#plt.show() \n",
    "plt.tight_layout(rect=[0,0,1,1], h_pad=0.0)\n",
    "plt.savefig(\"RandomForest_Python_1.png\")"
   ]
  },
  {
   "cell_type": "code",
   "execution_count": 8,
   "metadata": {
    "collapsed": false
   },
   "outputs": [
    {
     "data": {
      "text/plain": [
       "<function matplotlib.pyplot.close>"
      ]
     },
     "execution_count": 8,
     "metadata": {},
     "output_type": "execute_result"
    }
   ],
   "source": [
    "plt.close"
   ]
  },
  {
   "cell_type": "code",
   "execution_count": 14,
   "metadata": {
    "collapsed": false
   },
   "outputs": [],
   "source": [
    "predict_label = rf.predict(test_data)"
   ]
  },
  {
   "cell_type": "code",
   "execution_count": 10,
   "metadata": {
    "collapsed": false
   },
   "outputs": [
    {
     "data": {
      "text/plain": [
       "0.53290322580645166"
      ]
     },
     "execution_count": 10,
     "metadata": {},
     "output_type": "execute_result"
    }
   ],
   "source": [
    "rf.score(test_data, test_label)"
   ]
  },
  {
   "cell_type": "code",
   "execution_count": 11,
   "metadata": {
    "collapsed": false
   },
   "outputs": [
    {
     "name": "stdout",
     "output_type": "stream",
     "text": [
      "Accuracy: 0.55 (+/- 0.02)\n"
     ]
    }
   ],
   "source": [
    "accuracy = cross_val_score(rf, train_data, train_label, cv=7)\n",
    "print(\"Accuracy: %0.2f (+/- %0.2f)\" % (accuracy.mean(), accuracy.std() * 2))"
   ]
  },
  {
   "cell_type": "code",
   "execution_count": 27,
   "metadata": {
    "collapsed": false
   },
   "outputs": [],
   "source": [
    "#The precision is the ratio tp / (tp + fp) where tp is the number of true positives \n",
    "#and fp the number of false positives\n",
    "#metrics.precision_score(test_label, predict_label, average='macro') "
   ]
  },
  {
   "cell_type": "code",
   "execution_count": 26,
   "metadata": {
    "collapsed": false
   },
   "outputs": [
    {
     "data": {
      "text/plain": [
       "array([ 0.65282749,  0.        ,  0.19852941,  0.42944039,  0.48946295])"
      ]
     },
     "execution_count": 26,
     "metadata": {},
     "output_type": "execute_result"
    }
   ],
   "source": [
    "# The F1 score can be interpreted as a weighted average of the precision and recall\n",
    "#metrics.f1_score(test_label, predict_label, average='weighted')\n",
    "metrics.f1_score(test_label, predict_label, average=None)"
   ]
  },
  {
   "cell_type": "code",
   "execution_count": 20,
   "metadata": {
    "collapsed": false
   },
   "outputs": [
    {
     "data": {
      "text/plain": [
       "array([ 0.62414454,  0.        ,  0.23356401,  0.43807396,  0.50618673])"
      ]
     },
     "execution_count": 20,
     "metadata": {},
     "output_type": "execute_result"
    }
   ],
   "source": [
    "# The F-beta score is the weighted harmonic mean of precision and recall, use average=weighted -->\n",
    "#metrics.fbeta_score(test_label, predict_label, average=None, beta=0.5) "
   ]
  },
  {
   "cell_type": "code",
   "execution_count": 28,
   "metadata": {
    "collapsed": false
   },
   "outputs": [],
   "source": [
    "#label_list"
   ]
  },
  {
   "cell_type": "markdown",
   "metadata": {},
   "source": [
    "The precision is the ratio tp / (tp + fp) where tp is the number of true positives and fp the number of false positives. The precision is intuitively the ability of the classifier not to label as positive a sample that is negative.\n",
    "\n",
    "The recall is the ratio tp / (tp + fn) where tp is the number of true positives and fn the number of false negatives. The recall is intuitively the ability of the classifier to find all the positive samples.\n",
    "\n",
    "The F-beta score can be interpreted as a weighted harmonic mean of the precision and recall, where an F-beta score reaches its best value at 1 and worst score at 0.\n",
    "The F-beta score weights recall more than precision by a factor of beta. beta == 1.0 means recall and precision are equally important.\n",
    "http://scikit-learn.org/stable/modules/generated/sklearn.metrics.precision_recall_fscore_support.html#sklearn.metrics.precision_recall_fscore_support"
   ]
  },
  {
   "cell_type": "code",
   "execution_count": 22,
   "metadata": {
    "collapsed": false
   },
   "outputs": [
    {
     "data": {
      "text/plain": [
       "(array([ 0.60638298,  0.        ,  0.26470588,  0.44402516,  0.51798561]),\n",
       " array([ 0.70697674,  0.        ,  0.15882353,  0.41578327,  0.46391753]),\n",
       " array([ 0.62414454,  0.        ,  0.23356401,  0.43807396,  0.50618673]),\n",
       " array([1290,   15,  170,  849,  776]))"
      ]
     },
     "execution_count": 22,
     "metadata": {},
     "output_type": "execute_result"
    }
   ],
   "source": [
    "metrics.precision_recall_fscore_support(test_label, predict_label, beta=0.5, average=None)"
   ]
  },
  {
   "cell_type": "code",
   "execution_count": 29,
   "metadata": {
    "collapsed": false
   },
   "outputs": [],
   "source": [
    "#metrics.precision_score(test_label, predict_label, labels=[0, 2, 3,2], average='macro')"
   ]
  }
 ],
 "metadata": {
  "kernelspec": {
   "display_name": "Python 3",
   "language": "python",
   "name": "python3"
  },
  "language_info": {
   "codemirror_mode": {
    "name": "ipython",
    "version": 3
   },
   "file_extension": ".py",
   "mimetype": "text/x-python",
   "name": "python",
   "nbconvert_exporter": "python",
   "pygments_lexer": "ipython3",
   "version": "3.5.2"
  }
 },
 "nbformat": 4,
 "nbformat_minor": 0
}
