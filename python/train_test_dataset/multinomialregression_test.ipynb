{
 "cells": [
  {
   "cell_type": "code",
   "execution_count": 23,
   "metadata": {
    "collapsed": false,
    "scrolled": true
   },
   "outputs": [],
   "source": [
    "import numpy as np\n",
    "import pandas as pd\n",
    "import pickle\n",
    "import statsmodels.api as st\n",
    "import statsmodels.discrete.discrete_model as sm"
   ]
  },
  {
   "cell_type": "markdown",
   "metadata": {},
   "source": [
    "build function to find optimal n_estimators\n",
    "note: if learning_rate, reg_alpha, reg_lambda are not set\n",
    "xgboost will use default values from https://github.com/dmlc/xgboost/blob/master/doc/parameter.md\n",
    "e.g. eta = 0.3 instead of 0.1\n",
    "if they are set, eta, alpha, lambda will be overwritten\n",
    "the best n_estimators is Name + 1"
   ]
  },
  {
   "cell_type": "code",
   "execution_count": 24,
   "metadata": {
    "collapsed": false
   },
   "outputs": [],
   "source": [
    "# load data\n",
    "with open(\"data_processed_test.pkl\", \"rb\") as f:\n",
    "    train_data = pickle.load(f)\n",
    "    train_label = pickle.load(f)\n",
    "    test_data = pickle.load(f)\n",
    "    test_label = pickle.load(f)\n",
    "    label_list = pickle.load(f)"
   ]
  },
  {
   "cell_type": "code",
   "execution_count": 25,
   "metadata": {
    "collapsed": false
   },
   "outputs": [
    {
     "data": {
      "text/plain": [
       "['Adoption', 'Died', 'Euthanasia', 'Return_to_owner', 'Transfer']"
      ]
     },
     "execution_count": 25,
     "metadata": {},
     "output_type": "execute_result"
    }
   ],
   "source": [
    "label_list"
   ]
  },
  {
   "cell_type": "markdown",
   "metadata": {},
   "source": [
    "# Build model"
   ]
  },
  {
   "cell_type": "code",
   "execution_count": 26,
   "metadata": {
    "collapsed": true
   },
   "outputs": [],
   "source": [
    "train_data = st.add_constant(train_data, prepend = False)"
   ]
  },
  {
   "cell_type": "code",
   "execution_count": 27,
   "metadata": {
    "collapsed": false
   },
   "outputs": [],
   "source": [
    "# fit a logistic regression model to the data\n",
    "model = st.MNLogit(train_label, train_data)"
   ]
  },
  {
   "cell_type": "code",
   "execution_count": 28,
   "metadata": {
    "collapsed": false
   },
   "outputs": [
    {
     "name": "stderr",
     "output_type": "stream",
     "text": [
      "/Users/hoangnguyen/miniconda3/envs/pydata/lib/python3.5/site-packages/statsmodels/discrete/discrete_model.py:580: VisibleDeprecationWarning: using a non-integer number instead of an integer will result in an error in the future\n",
      "  start_params = np.zeros((self.K * (self.J-1)))\n",
      "/Users/hoangnguyen/miniconda3/envs/pydata/lib/python3.5/site-packages/statsmodels/discrete/discrete_model.py:1840: VisibleDeprecationWarning: using a non-integer number instead of an integer will result in an error in the future\n",
      "  params = params.reshape(self.K, -1, order='F')\n",
      "/Users/hoangnguyen/miniconda3/envs/pydata/lib/python3.5/site-packages/statsmodels/discrete/discrete_model.py:1756: VisibleDeprecationWarning: using a non-integer number instead of an integer will result in an error in the future\n",
      "  params = params.reshape(self.K, -1, order='F')\n"
     ]
    },
    {
     "name": "stdout",
     "output_type": "stream",
     "text": [
      "Warning: Maximum number of iterations has been exceeded.\n",
      "         Current function value: 0.960631\n",
      "         Iterations: 35\n"
     ]
    },
    {
     "name": "stderr",
     "output_type": "stream",
     "text": [
      "/Users/hoangnguyen/miniconda3/envs/pydata/lib/python3.5/site-packages/statsmodels/discrete/discrete_model.py:1697: VisibleDeprecationWarning: using a non-integer number instead of an integer will result in an error in the future\n",
      "  params = params.reshape(self.K, -1, order='F')\n",
      "/Users/hoangnguyen/miniconda3/envs/pydata/lib/python3.5/site-packages/statsmodels/base/model.py:466: ConvergenceWarning: Maximum Likelihood optimization failed to converge. Check mle_retvals\n",
      "  \"Check mle_retvals\", ConvergenceWarning)\n",
      "/Users/hoangnguyen/miniconda3/envs/pydata/lib/python3.5/site-packages/statsmodels/discrete/discrete_model.py:588: VisibleDeprecationWarning: using a non-integer number instead of an integer will result in an error in the future\n",
      "  mnfit.params = mnfit.params.reshape(self.K, -1, order='F')\n"
     ]
    }
   ],
   "source": [
    "model_fit = model.fit()"
   ]
  },
  {
   "cell_type": "code",
   "execution_count": 29,
   "metadata": {
    "collapsed": false
   },
   "outputs": [
    {
     "name": "stdout",
     "output_type": "stream",
     "text": [
      "                          MNLogit Regression Results                          \n",
      "==============================================================================\n",
      "Dep. Variable:            OutcomeType   No. Observations:                12399\n",
      "Model:                        MNLogit   Df Residuals:                    12295\n",
      "Method:                           MLE   Df Model:                          100\n",
      "Date:                Tue, 29 Nov 2016   Pseudo R-squ.:                  0.2241\n",
      "Time:                        01:13:01   Log-Likelihood:                -11911.\n",
      "converged:                      False   LL-Null:                       -15351.\n",
      "                                        LLR p-value:                     0.000\n",
      "==================================================================================================\n",
      "                 OutcomeType=1       coef    std err          z      P>|z|      [95.0% Conf. Int.]\n",
      "--------------------------------------------------------------------------------------------------\n",
      "Age                                0.9917      0.269      3.688      0.000         0.465     1.519\n",
      "Size                               0.2484      0.517      0.481      0.631        -0.764     1.261\n",
      "HasName_0                         -0.1629   2.04e+07  -7.99e-09      1.000        -4e+07     4e+07\n",
      "HasName_1                         -1.9219    2.1e+07  -9.14e-08      1.000     -4.12e+07  4.12e+07\n",
      "TimeofDay_lateday                 -1.6272    3.9e+07  -4.17e-08      1.000     -7.65e+07  7.65e+07\n",
      "TimeofDay_midday                  -0.7623        nan        nan        nan           nan       nan\n",
      "TimeofDay_morning                 -0.0177        nan        nan        nan           nan       nan\n",
      "TimeofDay_night                    0.3224      3e+07   1.07e-08      1.000     -5.88e+07  5.88e+07\n",
      "WeekDay_0                          0.2769        nan        nan        nan           nan       nan\n",
      "WeekDay_1                          0.1146        nan        nan        nan           nan       nan\n",
      "WeekDay_2                         -0.9171        nan        nan        nan           nan       nan\n",
      "WeekDay_3                         -0.4610        nan        nan        nan           nan       nan\n",
      "WeekDay_4                         -0.0218        nan        nan        nan           nan       nan\n",
      "WeekDay_5                         -0.7221        nan        nan        nan           nan       nan\n",
      "WeekDay_6                         -0.3542        nan        nan        nan           nan       nan\n",
      "IsIntact_0.0                      -3.1748   2.05e+07  -1.55e-07      1.000     -4.02e+07  4.02e+07\n",
      "IsIntact_1.0                       1.0900        nan        nan        nan           nan       nan\n",
      "Sex_Female                        -1.1473   4.03e+07  -2.85e-08      1.000     -7.89e+07  7.89e+07\n",
      "Sex_Male                          -0.9375        nan        nan        nan           nan       nan\n",
      "MixorMultipleorSimple_Mix         -0.7792        nan        nan        nan           nan       nan\n",
      "MixorMultipleorSimple_Multiple    -0.8489        nan        nan        nan           nan       nan\n",
      "MixorMultipleorSimple_Simple      -0.4567        nan        nan        nan           nan       nan\n",
      "Group_Herding                      3.2749   2.92e+07   1.12e-07      1.000     -5.72e+07  5.72e+07\n",
      "Group_Hound                        3.1723   1.85e+07   1.72e-07      1.000     -3.62e+07  3.62e+07\n",
      "Group_NonSporting                  3.2079        nan        nan        nan           nan       nan\n",
      "Group_PitBull                      4.6981   4.13e+07   1.14e-07      1.000     -8.09e+07  8.09e+07\n",
      "Group_Sporting                     3.9532        nan        nan        nan           nan       nan\n",
      "Group_Terrier                    -16.9409   4.52e+07  -3.74e-07      1.000     -8.87e+07  8.87e+07\n",
      "Group_Toy                          4.5709   2.92e+07   1.57e-07      1.000     -5.72e+07  5.72e+07\n",
      "Group_Unknown                    -12.1352        nan        nan        nan           nan       nan\n",
      "Group_Working                      4.1140   9.23e+06   4.45e-07      1.000     -1.81e+07  1.81e+07\n",
      "IsMixColor_0                      -1.0045        nan        nan        nan           nan       nan\n",
      "IsMixColor_1                      -1.0803   9.97e+06  -1.08e-07      1.000     -1.96e+07  1.96e+07\n",
      "const                             -2.0848        nan        nan        nan           nan       nan\n",
      "--------------------------------------------------------------------------------------------------\n",
      "                 OutcomeType=2       coef    std err          z      P>|z|      [95.0% Conf. Int.]\n",
      "--------------------------------------------------------------------------------------------------\n",
      "Age                                1.6341      0.072     22.552      0.000         1.492     1.776\n",
      "Size                               0.0476      0.121      0.395      0.693        -0.189     0.284\n",
      "HasName_0                         -1.4733   6.72e+06  -2.19e-07      1.000     -1.32e+07  1.32e+07\n",
      "HasName_1                         -2.2733   8.62e+06  -2.64e-07      1.000     -1.69e+07  1.69e+07\n",
      "TimeofDay_lateday                 11.1195   8.16e+06   1.36e-06      1.000      -1.6e+07   1.6e+07\n",
      "TimeofDay_midday                  11.7510   4.36e+06   2.69e-06      1.000     -8.55e+06  8.55e+06\n",
      "TimeofDay_morning                 12.8244   7.92e+06   1.62e-06      1.000     -1.55e+07  1.55e+07\n",
      "TimeofDay_night                  -39.4415    2.8e+10  -1.41e-09      1.000     -5.49e+10  5.49e+10\n",
      "WeekDay_0                         -0.2743   4.02e+06  -6.82e-08      1.000     -7.89e+06  7.89e+06\n",
      "WeekDay_1                         -0.3338   3.18e+06  -1.05e-07      1.000     -6.23e+06  6.23e+06\n",
      "WeekDay_2                         -0.2038   4.44e+06   -4.6e-08      1.000     -8.69e+06  8.69e+06\n",
      "WeekDay_3                         -0.1068   6.65e+06   -1.6e-08      1.000      -1.3e+07   1.3e+07\n",
      "WeekDay_4                         -0.2807   3.23e+06  -8.69e-08      1.000     -6.33e+06  6.33e+06\n",
      "WeekDay_5                         -1.4362        nan        nan        nan           nan       nan\n",
      "WeekDay_6                         -1.1110   3.83e+06   -2.9e-07      1.000      -7.5e+06   7.5e+06\n",
      "IsIntact_0.0                      -3.9830   8.15e+06  -4.88e-07      1.000      -1.6e+07   1.6e+07\n",
      "IsIntact_1.0                       0.2364   8.22e+06   2.88e-08      1.000     -1.61e+07  1.61e+07\n",
      "Sex_Female                        -2.0790   4.04e+06  -5.15e-07      1.000     -7.91e+06  7.91e+06\n",
      "Sex_Male                          -1.6676   9.88e+06  -1.69e-07      1.000     -1.94e+07  1.94e+07\n",
      "MixorMultipleorSimple_Mix         -1.1749        nan        nan        nan           nan       nan\n",
      "MixorMultipleorSimple_Multiple    -1.2802   5.72e+06  -2.24e-07      1.000     -1.12e+07  1.12e+07\n",
      "MixorMultipleorSimple_Simple      -1.2915        nan        nan        nan           nan       nan\n",
      "Group_Herding                     -0.5844   1.06e+07  -5.49e-08      1.000     -2.09e+07  2.09e+07\n",
      "Group_Hound                       -1.0631        nan        nan        nan           nan       nan\n",
      "Group_NonSporting                 -0.4312   4.35e+06  -9.92e-08      1.000     -8.52e+06  8.52e+06\n",
      "Group_PitBull                      0.9878   8.69e+06   1.14e-07      1.000      -1.7e+07   1.7e+07\n",
      "Group_Sporting                    -0.6846   8.69e+06  -7.87e-08      1.000      -1.7e+07   1.7e+07\n",
      "Group_Terrier                     -0.8843        nan        nan        nan           nan       nan\n",
      "Group_Toy                         -0.9992   1.37e+07  -7.31e-08      1.000     -2.68e+07  2.68e+07\n",
      "Group_Unknown                     -0.1023   8.13e+06  -1.26e-08      1.000     -1.59e+07  1.59e+07\n",
      "Group_Working                      0.0147   6.15e+06   2.38e-09      1.000      -1.2e+07   1.2e+07\n",
      "IsMixColor_0                      -1.8615   5.01e+06  -3.71e-07      1.000     -9.82e+06  9.82e+06\n",
      "IsMixColor_1                      -1.8851   5.65e+06  -3.33e-07      1.000     -1.11e+07  1.11e+07\n",
      "const                             -3.7466        nan        nan        nan           nan       nan\n",
      "--------------------------------------------------------------------------------------------------\n",
      "                 OutcomeType=3       coef    std err          z      P>|z|      [95.0% Conf. Int.]\n",
      "--------------------------------------------------------------------------------------------------\n",
      "Age                                1.1125      0.039     28.784      0.000         1.037     1.188\n",
      "Size                               0.0076      0.059      0.130      0.897        -0.107     0.122\n",
      "HasName_0                         -1.1842   5.05e+05  -2.34e-06      1.000      -9.9e+05   9.9e+05\n",
      "HasName_1                          0.8420   1.44e+06   5.84e-07      1.000     -2.82e+06  2.82e+06\n",
      "TimeofDay_lateday                  0.3409        nan        nan        nan           nan       nan\n",
      "TimeofDay_midday                   0.6102   1.37e+06   4.45e-07      1.000     -2.69e+06  2.69e+06\n",
      "TimeofDay_morning                 -1.0816    1.5e+06  -7.21e-07      1.000     -2.94e+06  2.94e+06\n",
      "TimeofDay_night                   -0.2117   1.14e+06  -1.86e-07      1.000     -2.23e+06  2.23e+06\n",
      "WeekDay_0                          0.0380        nan        nan        nan           nan       nan\n",
      "WeekDay_1                          0.2400        nan        nan        nan           nan       nan\n",
      "WeekDay_2                          0.2320        nan        nan        nan           nan       nan\n",
      "WeekDay_3                          0.0744        nan        nan        nan           nan       nan\n",
      "WeekDay_4                          0.0355        nan        nan        nan           nan       nan\n",
      "WeekDay_5                         -0.5151        nan        nan        nan           nan       nan\n",
      "WeekDay_6                         -0.4468        nan        nan        nan           nan       nan\n",
      "IsIntact_0.0                      -1.6401        nan        nan        nan           nan       nan\n",
      "IsIntact_1.0                       1.2979        nan        nan        nan           nan       nan\n",
      "Sex_Female                        -0.3340   1.71e+06  -1.95e-07      1.000     -3.35e+06  3.35e+06\n",
      "Sex_Male                          -0.0081   1.58e+06  -5.12e-09      1.000      -3.1e+06   3.1e+06\n",
      "MixorMultipleorSimple_Mix         -0.0845   3.92e+05  -2.16e-07      1.000     -7.67e+05  7.67e+05\n",
      "MixorMultipleorSimple_Multiple    -0.4560   1.61e+06  -2.82e-07      1.000     -3.16e+06  3.16e+06\n",
      "MixorMultipleorSimple_Simple       0.1984        nan        nan        nan           nan       nan\n",
      "Group_Herding                     -0.1087        nan        nan        nan           nan       nan\n",
      "Group_Hound                       -0.1951        nan        nan        nan           nan       nan\n",
      "Group_NonSporting                  0.1817        nan        nan        nan           nan       nan\n",
      "Group_PitBull                      0.3474        nan        nan        nan           nan       nan\n",
      "Group_Sporting                     0.0770        nan        nan        nan           nan       nan\n",
      "Group_Terrier                     -0.1585        nan        nan        nan           nan       nan\n",
      "Group_Toy                         -0.2327        nan        nan        nan           nan       nan\n",
      "Group_Unknown                     -0.4563        nan        nan        nan           nan       nan\n",
      "Group_Working                      0.2029        nan        nan        nan           nan       nan\n",
      "IsMixColor_0                      -0.1209   6.97e+05  -1.74e-07      1.000     -1.37e+06  1.37e+06\n",
      "IsMixColor_1                      -0.2212        nan        nan        nan           nan       nan\n",
      "const                             -0.3421   1.72e+05  -1.99e-06      1.000     -3.36e+05  3.36e+05\n",
      "--------------------------------------------------------------------------------------------------\n",
      "                 OutcomeType=4       coef    std err          z      P>|z|      [95.0% Conf. Int.]\n",
      "--------------------------------------------------------------------------------------------------\n",
      "Age                                0.3269      0.043      7.537      0.000         0.242     0.412\n",
      "Size                              -0.0649      0.065     -1.002      0.316        -0.192     0.062\n",
      "HasName_0                          0.4139   1.22e+06   3.39e-07      1.000     -2.39e+06  2.39e+06\n",
      "HasName_1                         -0.0831   1.26e+06  -6.61e-08      1.000     -2.46e+06  2.46e+06\n",
      "TimeofDay_lateday                 -0.8905   8.57e+05  -1.04e-06      1.000     -1.68e+06  1.68e+06\n",
      "TimeofDay_midday                   0.3363   4.23e+05   7.95e-07      1.000     -8.29e+05  8.29e+05\n",
      "TimeofDay_morning                 -0.8253   4.25e+05  -1.94e-06      1.000     -8.33e+05  8.33e+05\n",
      "TimeofDay_night                    1.7104   6.27e+05   2.73e-06      1.000     -1.23e+06  1.23e+06\n",
      "WeekDay_0                          0.1526    2.9e+06   5.26e-08      1.000     -5.69e+06  5.69e+06\n",
      "WeekDay_1                          0.2173   2.88e+06   7.55e-08      1.000     -5.64e+06  5.64e+06\n",
      "WeekDay_2                          0.2199   3.04e+06   7.23e-08      1.000     -5.96e+06  5.96e+06\n",
      "WeekDay_3                          0.3825   2.86e+06   1.34e-07      1.000     -5.61e+06  5.61e+06\n",
      "WeekDay_4                          0.3292   2.97e+06   1.11e-07      1.000     -5.83e+06  5.83e+06\n",
      "WeekDay_5                         -0.5565   2.89e+06  -1.93e-07      1.000     -5.65e+06  5.65e+06\n",
      "WeekDay_6                         -0.4142   2.92e+06  -1.42e-07      1.000     -5.72e+06  5.72e+06\n",
      "IsIntact_0.0                      -1.6216        nan        nan        nan           nan       nan\n",
      "IsIntact_1.0                       1.9524        nan        nan        nan           nan       nan\n",
      "Sex_Female                         0.0853        nan        nan        nan           nan       nan\n",
      "Sex_Male                           0.2456        nan        nan        nan           nan       nan\n",
      "MixorMultipleorSimple_Mix         -0.0055   1.74e+06  -3.16e-09      1.000     -3.41e+06  3.41e+06\n",
      "MixorMultipleorSimple_Multiple    -0.1417   1.69e+06   -8.4e-08      1.000      -3.3e+06   3.3e+06\n",
      "MixorMultipleorSimple_Simple       0.4780   1.75e+06   2.73e-07      1.000     -3.43e+06  3.43e+06\n",
      "Group_Herding                     -0.1462   1.13e+06  -1.29e-07      1.000     -2.21e+06  2.21e+06\n",
      "Group_Hound                        0.0022   9.96e+05    2.2e-09      1.000     -1.95e+06  1.95e+06\n",
      "Group_NonSporting                  0.0488   1.13e+06   4.32e-08      1.000     -2.21e+06  2.21e+06\n",
      "Group_PitBull                      0.2135   1.06e+06      2e-07      1.000     -2.09e+06  2.09e+06\n",
      "Group_Sporting                     0.0204   1.06e+06   1.91e-08      1.000     -2.09e+06  2.09e+06\n",
      "Group_Terrier                     -0.2093   1.13e+06  -1.85e-07      1.000     -2.21e+06  2.21e+06\n",
      "Group_Toy                         -0.0276   1.13e+06  -2.45e-08      1.000     -2.21e+06  2.21e+06\n",
      "Group_Unknown                      0.3181   1.13e+06   2.82e-07      1.000     -2.21e+06  2.21e+06\n",
      "Group_Working                      0.1112   1.06e+06   1.04e-07      1.000     -2.09e+06  2.09e+06\n",
      "IsMixColor_0                       0.2297        nan        nan        nan           nan       nan\n",
      "IsMixColor_1                       0.1011        nan        nan        nan           nan       nan\n",
      "const                              0.3308   4.52e+05   7.32e-07      1.000     -8.86e+05  8.86e+05\n",
      "==================================================================================================\n"
     ]
    },
    {
     "name": "stderr",
     "output_type": "stream",
     "text": [
      "/Users/hoangnguyen/miniconda3/envs/pydata/lib/python3.5/site-packages/statsmodels/discrete/discrete_model.py:1697: VisibleDeprecationWarning: using a non-integer number instead of an integer will result in an error in the future\n",
      "  params = params.reshape(self.K, -1, order='F')\n",
      "/Users/hoangnguyen/miniconda3/envs/pydata/lib/python3.5/site-packages/statsmodels/discrete/discrete_model.py:580: VisibleDeprecationWarning: using a non-integer number instead of an integer will result in an error in the future\n",
      "  start_params = np.zeros((self.K * (self.J-1)))\n",
      "/Users/hoangnguyen/miniconda3/envs/pydata/lib/python3.5/site-packages/statsmodels/discrete/discrete_model.py:1840: VisibleDeprecationWarning: using a non-integer number instead of an integer will result in an error in the future\n",
      "  params = params.reshape(self.K, -1, order='F')\n",
      "/Users/hoangnguyen/miniconda3/envs/pydata/lib/python3.5/site-packages/statsmodels/discrete/discrete_model.py:1756: VisibleDeprecationWarning: using a non-integer number instead of an integer will result in an error in the future\n",
      "  params = params.reshape(self.K, -1, order='F')\n",
      "/Users/hoangnguyen/miniconda3/envs/pydata/lib/python3.5/site-packages/statsmodels/discrete/discrete_model.py:588: VisibleDeprecationWarning: using a non-integer number instead of an integer will result in an error in the future\n",
      "  mnfit.params = mnfit.params.reshape(self.K, -1, order='F')\n"
     ]
    }
   ],
   "source": [
    "print(model_fit.summary())"
   ]
  },
  {
   "cell_type": "code",
   "execution_count": null,
   "metadata": {
    "collapsed": true
   },
   "outputs": [],
   "source": [
    "print(model_fit.aic)"
   ]
  },
  {
   "cell_type": "code",
   "execution_count": 21,
   "metadata": {
    "collapsed": false
   },
   "outputs": [],
   "source": [
    "#model1 = st.OLS(train_label, train_data).fit()"
   ]
  },
  {
   "cell_type": "code",
   "execution_count": 22,
   "metadata": {
    "collapsed": false
   },
   "outputs": [],
   "source": [
    "#print(model1.summary())"
   ]
  },
  {
   "cell_type": "code",
   "execution_count": null,
   "metadata": {
    "collapsed": true
   },
   "outputs": [],
   "source": []
  },
  {
   "cell_type": "markdown",
   "metadata": {},
   "source": [
    "# Attributes of model"
   ]
  },
  {
   "cell_type": "code",
   "execution_count": 19,
   "metadata": {
    "collapsed": false
   },
   "outputs": [
    {
     "data": {
      "text/plain": [
       "Index(['Age', 'Size', 'HasName_0', 'HasName_1', 'TimeofDay_lateday',\n",
       "       'TimeofDay_midday', 'TimeofDay_morning', 'TimeofDay_night', 'WeekDay_0',\n",
       "       'WeekDay_1', 'WeekDay_2', 'WeekDay_3', 'WeekDay_4', 'WeekDay_5',\n",
       "       'WeekDay_6', 'IsIntact_0.0', 'IsIntact_1.0', 'Sex_Female', 'Sex_Male',\n",
       "       'MixorMultipleorSimple_Mix', 'MixorMultipleorSimple_Multiple',\n",
       "       'MixorMultipleorSimple_Simple', 'Group_Herding', 'Group_Hound',\n",
       "       'Group_NonSporting', 'Group_PitBull', 'Group_Sporting', 'Group_Terrier',\n",
       "       'Group_Toy', 'Group_Unknown', 'Group_Working', 'IsMixColor_0',\n",
       "       'IsMixColor_1'],\n",
       "      dtype='object')"
      ]
     },
     "execution_count": 19,
     "metadata": {},
     "output_type": "execute_result"
    }
   ],
   "source": [
    "feat_labels = train_data.columns[0:]\n",
    "feat_labels"
   ]
  },
  {
   "cell_type": "code",
   "execution_count": null,
   "metadata": {
    "collapsed": true
   },
   "outputs": [],
   "source": [
    "for f in range(train_data.shape[1]):\n",
    "    print(\"{0}. Feature {1}: {2}\".format(f + 1, feat_labels[indices[f]], importances[indices[f]]))"
   ]
  },
  {
   "cell_type": "code",
   "execution_count": 7,
   "metadata": {
    "collapsed": false
   },
   "outputs": [
    {
     "name": "stdout",
     "output_type": "stream",
     "text": [
      "[[ -8.03299053e-01  -3.46741991e-02  -9.17044382e-02   9.17044382e-02\n",
      "    3.70916571e-01  -2.23448899e-01   1.77127211e-02  -1.65180393e-01\n",
      "   -1.89674149e-01  -2.06801026e-01  -7.19432760e-02  -1.56130221e-01\n",
      "   -1.69464810e-01   4.80546269e-01   3.13467212e-01   1.48727722e+00\n",
      "   -1.48727722e+00   1.09321922e-01  -1.09321922e-01   1.16359785e-02\n",
      "    1.56925681e-01  -1.68561659e-01   1.55763664e-01   2.45563290e-01\n",
      "    6.84991574e-03  -5.73841238e-01  -9.55426408e-03   3.78070197e-01\n",
      "    1.66517381e-02   2.41936859e-03  -2.21922671e-01  -3.38628984e-02\n",
      "    3.38628984e-02]\n",
      " [  1.50307926e-01   1.34287508e-01   7.28729249e-01  -7.28729249e-01\n",
      "   -5.55147487e-01  -3.03207611e-01   4.97181069e-01   3.61174028e-01\n",
      "    3.11827113e-01   1.69778513e-01  -4.93215708e-01  -2.58177210e-01\n",
      "    5.89200797e-02   3.48876473e-02   1.75979566e-01  -6.13850552e-01\n",
      "    6.13850552e-01   9.91274988e-03  -9.91274989e-03  -3.48498261e-02\n",
      "    6.30300837e-04   3.42195252e-02  -1.97826966e-01  -1.71573788e-01\n",
      "   -2.51267358e-01   3.41530761e-01   2.03600108e-01  -6.96545786e-01\n",
      "    7.53828664e-01  -1.36291959e-01   1.54546324e-01   1.07828722e-02\n",
      "   -1.07828722e-02]\n",
      " [  8.22372059e-01   2.51094623e-02   3.04639105e-01  -3.04639105e-01\n",
      "   -9.07440015e-04   3.56785509e-02   1.32754301e+00  -1.36231412e+00\n",
      "    6.57427685e-02  -6.82411786e-03   2.56366633e-01   2.69512912e-01\n",
      "    8.42986685e-02  -4.09902352e-01  -2.59194512e-01  -6.10303663e-01\n",
      "    6.10303663e-01  -9.52097144e-02   9.52097143e-02   8.53180789e-02\n",
      "    1.21129391e-01  -2.06447470e-01  -1.42534567e-02  -3.73559929e-01\n",
      "    9.34457123e-04   8.21418517e-01  -2.71571921e-01  -7.36029617e-02\n",
      "   -5.45513216e-01   2.56783166e-01   1.99365344e-01  -2.34033085e-02\n",
      "    2.34033084e-02]\n",
      " [  3.07865012e-01  -2.60468806e-02  -1.09776658e+00   1.09776658e+00\n",
      "    7.85344509e-01   4.60493437e-01  -9.62106196e-01  -2.83731750e-01\n",
      "   -1.03017019e-01   8.11100172e-02   2.08021530e-01  -3.32345681e-02\n",
      "   -8.49873193e-02   1.54873697e-02  -8.33800108e-02   2.74990902e-02\n",
      "   -2.74990902e-02  -5.33610561e-02   5.33610561e-02   4.13217690e-02\n",
      "   -1.84366255e-01   1.43044486e-01   8.21275730e-02   8.69128597e-02\n",
      "    2.23146614e-01  -1.92097336e-01   1.02542479e-01   2.56092527e-01\n",
      "   -1.78974870e-01  -3.94974085e-01   1.52242382e-02   1.61176298e-02\n",
      "   -1.61176298e-02]\n",
      " [ -4.77245945e-01  -9.86758905e-02   1.56102662e-01  -1.56102662e-01\n",
      "   -6.00206154e-01   3.04845218e-02  -8.80330600e-01   1.45005223e+00\n",
      "   -8.48787133e-02  -3.72633864e-02   1.00770821e-01   1.78029087e-01\n",
      "    1.11233381e-01  -1.21018934e-01  -1.46872255e-01  -2.90622097e-01\n",
      "    2.90622097e-01   2.93360989e-02  -2.93360988e-02  -1.03426000e-01\n",
      "   -9.43191170e-02   1.97745117e-01  -2.58108145e-02   2.12657567e-01\n",
      "    2.03363716e-02  -3.97010704e-01  -2.50164025e-02   1.35986024e-01\n",
      "   -4.59923154e-02   2.72063508e-01  -1.47213235e-01   3.03657048e-02\n",
      "   -3.03657048e-02]]\n"
     ]
    }
   ],
   "source": [
    "print(model.coef_)"
   ]
  },
  {
   "cell_type": "code",
   "execution_count": 22,
   "metadata": {
    "collapsed": false
   },
   "outputs": [
    {
     "name": "stdout",
     "output_type": "stream",
     "text": [
      "[ 1.21763285 -2.86396309 -0.74538949 -0.08371984  2.47543957]\n"
     ]
    }
   ],
   "source": [
    "print(model.intercept_)"
   ]
  },
  {
   "cell_type": "markdown",
   "metadata": {},
   "source": [
    "# Make prediction"
   ]
  },
  {
   "cell_type": "code",
   "execution_count": 8,
   "metadata": {
    "collapsed": true
   },
   "outputs": [],
   "source": [
    "predict_label = model.predict(test_data)"
   ]
  },
  {
   "cell_type": "code",
   "execution_count": null,
   "metadata": {
    "collapsed": true
   },
   "outputs": [],
   "source": [
    "# summarize the fit of the model\n",
    "print(metrics.classification_report(expected, predicted))\n",
    "print(metrics.confusion_matrix(expected, predicted))"
   ]
  },
  {
   "cell_type": "code",
   "execution_count": 9,
   "metadata": {
    "collapsed": false
   },
   "outputs": [
    {
     "data": {
      "text/plain": [
       "array([4, 4, 0, ..., 0, 0, 0])"
      ]
     },
     "execution_count": 9,
     "metadata": {},
     "output_type": "execute_result"
    }
   ],
   "source": [
    "predict_label"
   ]
  },
  {
   "cell_type": "code",
   "execution_count": 14,
   "metadata": {
    "collapsed": false,
    "scrolled": true
   },
   "outputs": [
    {
     "name": "stdout",
     "output_type": "stream",
     "text": [
      "Accuracy: 0.59 (+/- 0.02)\n"
     ]
    }
   ],
   "source": [
    "accuracy = cross_val_score(model, train_data, train_label, cv=7)\n",
    "print(\"Accuracy: %0.2f (+/- %0.2f)\" % (accuracy.mean(), accuracy.std() * 2))"
   ]
  },
  {
   "cell_type": "code",
   "execution_count": 15,
   "metadata": {
    "collapsed": false
   },
   "outputs": [
    {
     "data": {
      "text/plain": [
       "0.57451612903225802"
      ]
     },
     "execution_count": 15,
     "metadata": {},
     "output_type": "execute_result"
    }
   ],
   "source": [
    "model.score(test_data, test_label)"
   ]
  },
  {
   "cell_type": "code",
   "execution_count": 18,
   "metadata": {
    "collapsed": false,
    "scrolled": true
   },
   "outputs": [
    {
     "name": "stderr",
     "output_type": "stream",
     "text": [
      "/Users/hoangnguyen/miniconda3/envs/pydata/lib/python3.5/site-packages/sklearn/metrics/classification.py:1113: UndefinedMetricWarning: Precision and F-score are ill-defined and being set to 0.0 in labels with no predicted samples.\n",
      "  'precision', 'predicted', average, warn_for)\n"
     ]
    },
    {
     "data": {
      "text/plain": [
       "(array([ 0.6152019 ,  0.        ,  0.47058824,  0.4581861 ,  0.64341085]),\n",
       " array([ 0.80310078,  0.        ,  0.14117647,  0.4581861 ,  0.42783505]),\n",
       " array([ 0.64540244,  0.        ,  0.32085561,  0.4581861 ,  0.58450704]),\n",
       " array([1290,   15,  170,  849,  776]))"
      ]
     },
     "execution_count": 18,
     "metadata": {},
     "output_type": "execute_result"
    }
   ],
   "source": [
    "metrics.precision_recall_fscore_support(test_label, predict_label, beta=0.5, average=None)"
   ]
  },
  {
   "cell_type": "code",
   "execution_count": 20,
   "metadata": {
    "collapsed": false
   },
   "outputs": [
    {
     "data": {
      "text/plain": [
       "array([[-3.00227756, -3.46029522, -0.96066143, -2.22441863, -0.848315  ],\n",
       "       [-5.04295879, -5.00423521, -3.34157602, -2.29059289, -0.16222684],\n",
       "       [-0.33242192, -8.13627964, -5.53635687, -1.77170218, -2.22065071],\n",
       "       ..., \n",
       "       [-0.45981359, -9.00071225, -5.0267962 , -1.37858216, -2.20745635],\n",
       "       [-0.83432737, -7.39207737, -4.11577876, -1.95876573, -0.89680225],\n",
       "       [-0.76289575, -6.28423801, -4.20211648, -1.17294361, -1.57309719]])"
      ]
     },
     "execution_count": 20,
     "metadata": {},
     "output_type": "execute_result"
    }
   ],
   "source": [
    "model.predict_log_proba(test_data)"
   ]
  }
 ],
 "metadata": {
  "kernelspec": {
   "display_name": "Python 3",
   "language": "python",
   "name": "python3"
  },
  "language_info": {
   "codemirror_mode": {
    "name": "ipython",
    "version": 3
   },
   "file_extension": ".py",
   "mimetype": "text/x-python",
   "name": "python",
   "nbconvert_exporter": "python",
   "pygments_lexer": "ipython3",
   "version": "3.5.2"
  }
 },
 "nbformat": 4,
 "nbformat_minor": 1
}
